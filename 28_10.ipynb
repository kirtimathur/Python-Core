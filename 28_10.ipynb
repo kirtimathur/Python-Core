{
 "cells": [
  {
   "cell_type": "code",
   "execution_count": 2,
   "id": "15cd20af",
   "metadata": {},
   "outputs": [
    {
     "name": "stdout",
     "output_type": "stream",
     "text": [
      "enter a string:str in g\n",
      "str#in#g\n"
     ]
    }
   ],
   "source": [
    "#Write a program that accepts the string and replace all spaces by “#” symbol.\n",
    "\n",
    "s=input(\"enter a string:\")\n",
    "for i in s:\n",
    "    s1=s.replace(\" \",\"#\")\n",
    "print(s1)"
   ]
  },
  {
   "cell_type": "code",
   "execution_count": 3,
   "id": "92c740e1",
   "metadata": {},
   "outputs": [
    {
     "name": "stdout",
     "output_type": "stream",
     "text": [
      "enter a string:string\n",
      "enter the letter to be deleted:s\n",
      "tring\n"
     ]
    }
   ],
   "source": [
    "#Write a program that delete the character at specific position.\n",
    "\n",
    "si=input(\"enter a string:\")\n",
    "s2=input(\"enter the letter to be deleted:\")\n",
    "s3=\"\"\n",
    "pos=si.find(s2)\n",
    "for i in range(0,len(si)): #length of entire string -1\n",
    "    if i!=pos:\n",
    "        s3=s3+si[i] #concatenated\n",
    "print(s3)"
   ]
  },
  {
   "cell_type": "code",
   "execution_count": 5,
   "id": "f5aa75df",
   "metadata": {},
   "outputs": [
    {
     "name": "stdout",
     "output_type": "stream",
     "text": [
      "enter a string:cauliflower\n",
      "a --- 1\n",
      "u --- 1\n",
      "i --- 1\n",
      "o --- 1\n",
      "e --- 1\n"
     ]
    }
   ],
   "source": [
    "#Write a program which accepts a strings and count the frequency of each vowel.\n",
    "\n",
    "s=input(\"enter a string:\")\n",
    "for i in s:\n",
    "    if i==\"a\" or i==\"e\" or i==\"o\" or i==\"i\" or i==\"u\":\n",
    "        print(i,\"---\",s.count(i))"
   ]
  },
  {
   "cell_type": "code",
   "execution_count": 6,
   "id": "c9c969b9",
   "metadata": {},
   "outputs": [
    {
     "name": "stdout",
     "output_type": "stream",
     "text": [
      "enter string 1:bring\n",
      "enter string 2:brought\n",
      "b\n",
      "r\n",
      "g\n"
     ]
    }
   ],
   "source": [
    "#Write a program which accepts the two strings from user and display the common letters(ignore case).\n",
    "\n",
    "s1=input(\"enter string 1:\")\n",
    "s2=input(\"enter string 2:\")\n",
    "for i in s1:\n",
    "    for j in s2:\n",
    "        if i in s2:\n",
    "            print(i)\n",
    "            break"
   ]
  },
  {
   "cell_type": "code",
   "execution_count": null,
   "id": "dd96b010",
   "metadata": {},
   "outputs": [],
   "source": []
  }
 ],
 "metadata": {
  "kernelspec": {
   "display_name": "Python 3 (ipykernel)",
   "language": "python",
   "name": "python3"
  },
  "language_info": {
   "codemirror_mode": {
    "name": "ipython",
    "version": 3
   },
   "file_extension": ".py",
   "mimetype": "text/x-python",
   "name": "python",
   "nbconvert_exporter": "python",
   "pygments_lexer": "ipython3",
   "version": "3.9.12"
  }
 },
 "nbformat": 4,
 "nbformat_minor": 5
}
