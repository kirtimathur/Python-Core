{
 "cells": [
  {
   "cell_type": "code",
   "execution_count": 1,
   "id": "f8abdb88",
   "metadata": {},
   "outputs": [
    {
     "name": "stdout",
     "output_type": "stream",
     "text": [
      "{1: 10, 2: 30, 4: 40, 5: 50, 6: 60}\n"
     ]
    }
   ],
   "source": [
    "'''Q1.Write a Python script to concatenate following dictionaries to create a new one. \n",
    "\n",
    "Sample Dictionary :\n",
    "dic1={1:10, 2:20}\n",
    "dic2={2:30, 4:40}\n",
    "dic3={5:50,6:60}\n",
    "Expected Result : {1: 10, 2: 20, 3: 30, 4: 40, 5: 50, 6: 60}'''\n",
    "\n",
    "\n",
    "dic1={1:10, 2:20}\n",
    "dic2={2:30, 4:40}\n",
    "dic3={5:50,6:60}\n",
    "\n",
    "d={}\n",
    "d.update(dic1)\n",
    "d.update(dic2)\n",
    "d.update(dic3)\n",
    "print(d)"
   ]
  },
  {
   "cell_type": "code",
   "execution_count": 2,
   "id": "62405a7f",
   "metadata": {},
   "outputs": [
    {
     "name": "stdout",
     "output_type": "stream",
     "text": [
      "{'S1': [], 'S2': [], 'S3': []}\n"
     ]
    }
   ],
   "source": [
    "'''Q2.A Python Dictionary contains List as value. Write a Python program to clear the list values in the said dictionary. \n",
    "Original Dictionary:\n",
    "{'S1': [10, 20, 30], 'S2': [20, 30, 40], 'S3': [12, 34]}\n",
    "Clear the list values in the said dictionary:\n",
    "{'S1': [], 'S2': [], 'S3': []}\n",
    "'''\n",
    "\n",
    "d={'S1': [10, 20, 30], 'S2': [20, 30, 40], 'S3': [12, 34]}\n",
    "for i in d.values():\n",
    "    i.clear()\n",
    "print(d)"
   ]
  },
  {
   "cell_type": "code",
   "execution_count": 3,
   "id": "3be67bee",
   "metadata": {},
   "outputs": [
    {
     "name": "stdout",
     "output_type": "stream",
     "text": [
      "A\n",
      "1111\n",
      "B\n",
      "2222\n",
      "C\n",
      "3333\n",
      "{'A': '1111', 'B': '2222', 'C': '3333'}\n"
     ]
    }
   ],
   "source": [
    "'''Q3.input={a:'1',b:'2',c:'3'}\n",
    "ouput={A:'1111',B:'2222',C:'3333'}'''\n",
    "\n",
    "d={'a':'1','b':'2','c':'3'}\n",
    "d1={}\n",
    "for i,j in d.items():\n",
    "    i=i.upper()\n",
    "    print(i)\n",
    "    j=j*4\n",
    "    print(j)\n",
    "    d1[i]=j\n",
    "print(d1)"
   ]
  },
  {
   "cell_type": "code",
   "execution_count": 4,
   "id": "c3d39ca5",
   "metadata": {},
   "outputs": [
    {
     "name": "stdout",
     "output_type": "stream",
     "text": [
      "#FF0000\n",
      "0\n",
      "#FFFF00\n",
      "#808000\n",
      "[{'id': '#800000', 'color': 'Maroon'}, {'id': '#FFFF00', 'color': 'Yellow'}, {'id': '#808000', 'color': 'Olive'}]\n"
     ]
    }
   ],
   "source": [
    "'''Write a Python program to remove a specified dictionary from a given list. \n",
    "Original list of dictionary:\n",
    "[{'id': '#FF0000', 'color': 'Red'}, {'id': '#800000', 'color': 'Maroon'}, \\\n",
    "{'id': '#FFFF00', 'color': 'Yellow'}, {'id': '#808000', 'color': 'Olive'}]\n",
    "Remove id #FF0000 from the said list of dictionary:\n",
    "[{'id': '#800000', 'color': 'Maroon'}, {'id': '#FFFF00', 'color': 'Yellow'}, \\\n",
    "{'id': '#808000', 'color': 'Olive'''\n",
    "\n",
    "\n",
    "l=[{'id': '#FF0000', 'color': 'Red'}, {'id': '#800000', 'color': 'Maroon'}, \\\n",
    "{'id': '#FFFF00', 'color': 'Yellow'}, {'id': '#808000', 'color': 'Olive'}]\n",
    "\n",
    "for i in l:\n",
    "    print(i['id'])\n",
    "    if i['id']=='#FF0000':\n",
    "        ind=l.index(i)\n",
    "        print(ind)\n",
    "        l.pop(ind)\n",
    "print(l)"
   ]
  },
  {
   "cell_type": "code",
   "execution_count": null,
   "id": "d50a59f8",
   "metadata": {},
   "outputs": [],
   "source": []
  }
 ],
 "metadata": {
  "kernelspec": {
   "display_name": "Python 3 (ipykernel)",
   "language": "python",
   "name": "python3"
  },
  "language_info": {
   "codemirror_mode": {
    "name": "ipython",
    "version": 3
   },
   "file_extension": ".py",
   "mimetype": "text/x-python",
   "name": "python",
   "nbconvert_exporter": "python",
   "pygments_lexer": "ipython3",
   "version": "3.9.12"
  }
 },
 "nbformat": 4,
 "nbformat_minor": 5
}
