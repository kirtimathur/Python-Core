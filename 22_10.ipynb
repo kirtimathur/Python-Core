{
 "cells": [
  {
   "cell_type": "code",
   "execution_count": 1,
   "id": "578fd31b",
   "metadata": {},
   "outputs": [
    {
     "name": "stdout",
     "output_type": "stream",
     "text": [
      "enter a string: 1234abcd\n",
      "dcba4321\n"
     ]
    }
   ],
   "source": [
    "#Write a function to reverse a string. Sample String : \"1234abcd\" Expected Output : \"dcba4321\"\n",
    "\n",
    "def reverse(num):\n",
    "        num=num[::-1]\n",
    "        print(num)\n",
    "n=input(\"enter a string: \")\n",
    "r=reverse(n)"
   ]
  },
  {
   "cell_type": "code",
   "execution_count": 2,
   "id": "04079b10",
   "metadata": {},
   "outputs": [
    {
     "name": "stdout",
     "output_type": "stream",
     "text": [
      "enter a list:1, 2, 3, 4, 5, 6, 7, 8, 9\n",
      "[2,4,6,8,]"
     ]
    }
   ],
   "source": [
    "#Write a function to print the even numbers from a given list. Sample List : [1, 2, 3, 4, 5, 6, 7, 8, 9] \n",
    "#Expected Result : [2, 4, 6, 8]\n",
    "\n",
    "def even(l):\n",
    "    print(\"[\",end=\"\")\n",
    "    for i in l:\n",
    "        i=int(i)\n",
    "        \n",
    "        if i%2==0:\n",
    "            print(i,end=\",\")\n",
    "        else:\n",
    "            pass\n",
    "    print(\"]\",end=\"\") \n",
    "li=input(\"enter a list:\").split(\",\")\n",
    "e=even(li)"
   ]
  },
  {
   "cell_type": "code",
   "execution_count": 3,
   "id": "7078d91d",
   "metadata": {},
   "outputs": [
    {
     "name": "stdout",
     "output_type": "stream",
     "text": [
      "enter a string:string\n",
      "vowels are: 1\n",
      "consonants are: 5\n"
     ]
    }
   ],
   "source": [
    "#Write a function to display count and display vowels and consonants in the string entered by user.\n",
    "\n",
    "def fun(num):\n",
    "    count_v=0\n",
    "    count_c=0\n",
    "    for i in num:\n",
    "        if i=='a' or i=='e' or i=='i' or i=='o' or i=='u':\n",
    "            count_v+=1\n",
    "        else:\n",
    "            count_c+=1\n",
    "    print(\"vowels are:\",count_v)\n",
    "    print(\"consonants are:\",count_c)\n",
    "n=input(\"enter a string:\")\n",
    "f=fun(n)"
   ]
  },
  {
   "cell_type": "code",
   "execution_count": 4,
   "id": "03f8f5ea",
   "metadata": {},
   "outputs": [
    {
     "name": "stdout",
     "output_type": "stream",
     "text": [
      "enter a number and power:4,3\n",
      "64\n"
     ]
    }
   ],
   "source": [
    "#Write a function to compute power, take number and power from user.\n",
    "\n",
    "def power(num,por):\n",
    "    num=num**por\n",
    "    print(num)\n",
    "n,p=input(\"enter a number and power:\").split(\",\")\n",
    "n=int(n)\n",
    "p=int(p)\n",
    "p=power(n,p)"
   ]
  },
  {
   "cell_type": "code",
   "execution_count": null,
   "id": "74ddd9ea",
   "metadata": {},
   "outputs": [],
   "source": []
  }
 ],
 "metadata": {
  "kernelspec": {
   "display_name": "Python 3 (ipykernel)",
   "language": "python",
   "name": "python3"
  },
  "language_info": {
   "codemirror_mode": {
    "name": "ipython",
    "version": 3
   },
   "file_extension": ".py",
   "mimetype": "text/x-python",
   "name": "python",
   "nbconvert_exporter": "python",
   "pygments_lexer": "ipython3",
   "version": "3.9.12"
  }
 },
 "nbformat": 4,
 "nbformat_minor": 5
}
