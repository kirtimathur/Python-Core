{
 "cells": [
  {
   "cell_type": "code",
   "execution_count": 2,
   "id": "b0ee53b8",
   "metadata": {},
   "outputs": [
    {
     "data": {
      "text/plain": [
       "5"
      ]
     },
     "execution_count": 2,
     "metadata": {},
     "output_type": "execute_result"
    }
   ],
   "source": [
    "#lambda---behaves like a fn, but is a keyword(def is also a keyword)---annonymous fn, no name---takes any no. of args\n",
    "(lambda a1,a2:a1+a2)(2,3)"
   ]
  },
  {
   "cell_type": "code",
   "execution_count": 3,
   "id": "36a54510",
   "metadata": {},
   "outputs": [
    {
     "name": "stdout",
     "output_type": "stream",
     "text": [
      "enter 1st no:4\n",
      "enter 2nd no:9\n"
     ]
    },
    {
     "data": {
      "text/plain": [
       "13"
      ]
     },
     "execution_count": 3,
     "metadata": {},
     "output_type": "execute_result"
    }
   ],
   "source": [
    "(lambda a1,a2:a1+a2)(int(input(\"enter 1st no:\")),int(input(\"enter 2nd no:\")))"
   ]
  },
  {
   "cell_type": "code",
   "execution_count": 4,
   "id": "27a694b2",
   "metadata": {},
   "outputs": [
    {
     "data": {
      "text/plain": [
       "10"
      ]
     },
     "execution_count": 4,
     "metadata": {},
     "output_type": "execute_result"
    }
   ],
   "source": [
    "k=(lambda a1,a2:a1+a2) #fn stored in k, can be reused\n",
    "k(2,8)"
   ]
  },
  {
   "cell_type": "code",
   "execution_count": 5,
   "id": "d1eb5fec",
   "metadata": {},
   "outputs": [
    {
     "data": {
      "text/plain": [
       "78"
      ]
     },
     "execution_count": 5,
     "metadata": {},
     "output_type": "execute_result"
    }
   ],
   "source": [
    "k(90,-12)"
   ]
  },
  {
   "cell_type": "code",
   "execution_count": 7,
   "id": "9b0fc310",
   "metadata": {},
   "outputs": [
    {
     "name": "stdout",
     "output_type": "stream",
     "text": [
      "apple starts with a\n"
     ]
    }
   ],
   "source": [
    "x=\"apple\"\n",
    "def fun():\n",
    "    if x.startswith(\"a\"):\n",
    "        print(x,\"starts with a\")\n",
    "f=fun()\n",
    "f"
   ]
  },
  {
   "cell_type": "code",
   "execution_count": 8,
   "id": "6257c7ff",
   "metadata": {},
   "outputs": [
    {
     "data": {
      "text/plain": [
       "'apple'"
      ]
     },
     "execution_count": 8,
     "metadata": {},
     "output_type": "execute_result"
    }
   ],
   "source": [
    "x=\"apple\" #x is arg,only 1\n",
    "k=(lambda x: x if x.startswith(\"a\") else \"\")\n",
    "k(x)"
   ]
  },
  {
   "cell_type": "code",
   "execution_count": 9,
   "id": "7a3f1995",
   "metadata": {},
   "outputs": [
    {
     "data": {
      "text/plain": [
       "'12'"
      ]
     },
     "execution_count": 9,
     "metadata": {},
     "output_type": "execute_result"
    }
   ],
   "source": [
    "#waf if given string is number or not using lambda\n",
    "(lambda n: n if n.isnumeric() else \"\")(\"12\")"
   ]
  },
  {
   "cell_type": "code",
   "execution_count": 10,
   "id": "8efc26a5",
   "metadata": {},
   "outputs": [
    {
     "data": {
      "text/plain": [
       "dict_items([('two', 2), ('three', 3), ('one', 1)])"
      ]
     },
     "execution_count": 10,
     "metadata": {},
     "output_type": "execute_result"
    }
   ],
   "source": [
    "#wap to sort dictionary using values\n",
    "d={\"two\":2,\"three\":3,\"one\":1}\n",
    "d.items()"
   ]
  },
  {
   "cell_type": "code",
   "execution_count": 11,
   "id": "bfc60e08",
   "metadata": {},
   "outputs": [
    {
     "data": {
      "text/plain": [
       "['apple', 'avacado']"
      ]
     },
     "execution_count": 11,
     "metadata": {},
     "output_type": "execute_result"
    }
   ],
   "source": [
    "#wap to fetch those fruits names that starts with \"a\", using list and list comprehension\n",
    "fruits=[\"apple\",\"banana\",\"avacado\",\"cherry\"]\n",
    "[i for i in fruits if i.startswith(\"a\")]"
   ]
  },
  {
   "cell_type": "code",
   "execution_count": 12,
   "id": "7e55b1e5",
   "metadata": {},
   "outputs": [
    {
     "data": {
      "text/plain": [
       "map"
      ]
     },
     "execution_count": 12,
     "metadata": {},
     "output_type": "execute_result"
    }
   ],
   "source": [
    "#check for 1 fruit\n",
    "def fruit_check(fruit):\n",
    "    if fruit.startswith(\"a\"):\n",
    "        return fruit\n",
    "    else:\n",
    "        return \" \"\n",
    "#using map, traversal without loop, only have to define logic for one, in backend maps the functionality of 1 el. for elements\n",
    "#map() #takes fn as a arguement, is higher order fn\n",
    "type(map(fruit_check,fruits))"
   ]
  },
  {
   "cell_type": "code",
   "execution_count": 13,
   "id": "52004795",
   "metadata": {},
   "outputs": [
    {
     "data": {
      "text/plain": [
       "['apple', ' ', 'avacado', ' ']"
      ]
     },
     "execution_count": 13,
     "metadata": {},
     "output_type": "execute_result"
    }
   ],
   "source": [
    "list(map(fruit_check,fruits)) #typecasted into list, mostly lambda passed as only once used"
   ]
  },
  {
   "cell_type": "code",
   "execution_count": null,
   "id": "d7095ad2",
   "metadata": {},
   "outputs": [],
   "source": [
    "|"
   ]
  }
 ],
 "metadata": {
  "kernelspec": {
   "display_name": "Python 3 (ipykernel)",
   "language": "python",
   "name": "python3"
  },
  "language_info": {
   "codemirror_mode": {
    "name": "ipython",
    "version": 3
   },
   "file_extension": ".py",
   "mimetype": "text/x-python",
   "name": "python",
   "nbconvert_exporter": "python",
   "pygments_lexer": "ipython3",
   "version": "3.9.12"
  }
 },
 "nbformat": 4,
 "nbformat_minor": 5
}
