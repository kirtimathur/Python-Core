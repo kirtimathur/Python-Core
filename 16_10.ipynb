{
 "cells": [
  {
   "cell_type": "code",
   "execution_count": 4,
   "id": "879f2989",
   "metadata": {},
   "outputs": [
    {
     "name": "stdout",
     "output_type": "stream",
     "text": [
      "enter username:erica12\n",
      "enter password:thunder1234\n",
      "enter username to sign in:erica12\n",
      "enter password to sign in:thnder123\n",
      "wrong credentials, enter again\n",
      "enter username to sign in:bkdsj\n",
      "enter password to sign in:gjkd\n",
      "wrong credentials, enter again\n",
      "enter username to sign in:erica12\n",
      "enter password to sign in:thunder1234\n",
      "you're signed in\n"
     ]
    }
   ],
   "source": [
    "#Q.13 Wap to take username and password from user and save it and then allow the user to sign if he/she is authenticate \n",
    "#user then sign happens else no . an give 5 attempts after 5 attempts if he doe not give right crenditials. then display \n",
    "#tried next time\n",
    "\n",
    "#d={reema:\"reema123\",sasha:\"wonder5\",brook:\"majestic1.\",navi:\"og123\"}\n",
    "name=str(input(\"enter username:\"))\n",
    "pasd=str(input(\"enter password:\"))\n",
    "for i in range(0,5):\n",
    "    n=str(input(\"enter username to sign in:\"))\n",
    "    p=str(input(\"enter password to sign in:\"))\n",
    "    if n==name and p==pasd:\n",
    "        print(\"you're signed in\")\n",
    "        break\n",
    "    else:\n",
    "        print(\"wrong credentials, enter again\")\n",
    "    if i==4:\n",
    "            print(\"tried too many times, restart!\")\n"
   ]
  },
  {
   "cell_type": "code",
   "execution_count": 5,
   "id": "d95039fb",
   "metadata": {},
   "outputs": [
    {
     "name": "stdout",
     "output_type": "stream",
     "text": [
      "enter 4 digit binary numbers:1000,1010,1001,1111\n",
      "1000,1010,non binary number\n",
      "non binary number\n"
     ]
    }
   ],
   "source": [
    "''' Write a program which accepts a sequence of comma separated 4 digit binary numbers as its input and then check whether \n",
    "they are divisible by 5 or not. The numbers that are divisible by 5 are to be printed in a comma separated sequence.\n",
    "Suppose the input is supplied to the program: 0100,0011,1010,1001 Then the output should be: 1010 Notes: \n",
    "Assume the data is input by console. Hints: In case of input data being supplied to the question, it should be assumed to be \n",
    "a console input.'''\n",
    "\n",
    "seq=input(\"enter 4 digit binary numbers:\").split(\",\")\n",
    "for i in seq:\n",
    "    i=int(i)\n",
    "    if i%5==0:\n",
    "        print(i,end=\",\")\n",
    "    else:\n",
    "        print(\"non binary number\")"
   ]
  },
  {
   "cell_type": "code",
   "execution_count": 6,
   "id": "31f9f225",
   "metadata": {},
   "outputs": [
    {
     "name": "stdout",
     "output_type": "stream",
     "text": [
      "2000,2002,2004,2006,2008,2020,2022,2024,2026,2028,2040,2042,2044,2046,2048,2060,2062,2064,2066,2068,2080,2082,2084,2086,2088,2200,2202,2204,2206,2208,2220,2222,2224,2226,2228,2240,2242,2244,2246,2248,2260,2262,2264,2266,2268,2280,2282,2284,2286,2288,2400,2402,2404,2406,2408,2420,2422,2424,2426,2428,2440,2442,2444,2446,2448,2460,2462,2464,2466,2468,2480,2482,2484,2486,2488,2600,2602,2604,2606,2608,2620,2622,2624,2626,2628,2640,2642,2644,2646,2648,2660,2662,2664,2666,2668,2680,2682,2684,2686,2688,2800,2802,2804,2806,2808,2820,2822,2824,2826,2828,2840,2842,2844,2846,2848,2860,2862,2864,2866,2868,2880,2882,2884,2886,2888,"
     ]
    }
   ],
   "source": [
    "#Q.16 Write a program, which will find all such numbers between 1000 and 3000 (both included) such that each digit of the \n",
    "#number is an even number.¶\n",
    "\n",
    "for i in range(1000,3001):\n",
    "    count=0\n",
    "    i=str(i) #to fetch each digit using i\n",
    "    for ch in i: #ch=1,ch=0,etc\n",
    "        ch=int(ch)\n",
    "        if ch%2==0:\n",
    "            count=count+1\n",
    "    if count==4:\n",
    "        print(i,end=\",\")"
   ]
  },
  {
   "cell_type": "code",
   "execution_count": 8,
   "id": "55394dfc",
   "metadata": {},
   "outputs": [
    {
     "name": "stdout",
     "output_type": "stream",
     "text": [
      "enter the order by entering respective numbers: \n",
      " 1.pizza---rs 100 \n",
      " 2.burger---rs50 \n",
      " 3.hotdog---rs40\n",
      "None3\n",
      "would you like single---rs10 or double cheese---rs20 in your hotdog: enter '1' for single and '2' for double:\n",
      "None2\n",
      "do you wish to enter any softdrinks as sides, enter 1 for yes and 0 for no:1\n",
      "1.mojito---rs50 \n",
      " 2.cold coffee---rs50 \n",
      " 3.orange juice---rs50\n",
      "None1\n",
      "do you wish to enter any softdrinks as sides, enter 1 for yes and 0 for no:0\n",
      "do you wish to add more to your order? enter 1 for yes and 0 for no:0\n",
      "total bill: 110\n"
     ]
    }
   ],
   "source": [
    "'''Consider you have your own restaurant : three item choices is there : 1: pizza 2: burger 3: hotdog toppings available for \n",
    "pizza: paneer, mushrooms, and capsicum fillings avialable for burger and hot dog is single layer cheeze and double layer cheese \n",
    "and side order menu is softdrinks WAP TO CALCULATE THE COST OF ITEM which user ordered BASED ON THE MENU OF RESTAURANT'''\n",
    "\n",
    "sum=0\n",
    "pizza=100\n",
    "burger=50\n",
    "hotdog=40\n",
    "pizza_top=30\n",
    "burger_fill=10\n",
    "burger_cheese=10\n",
    "hotdog_single=10\n",
    "hotdog_double=20\n",
    "while(1):\n",
    "    num=int(input(print(\"enter the order by entering respective numbers:\",\"\\n\",\"1.pizza---rs 100\",\"\\n\",\"2.burger---rs50\",\"\\n\",\"3.hotdog---rs40\")))\n",
    "    if num==1:\n",
    "        sum=sum+pizza\n",
    "        while(1):\n",
    "            choice_p=input(\"do wish to add toppings to your pizza? enter 1 for yes and 0 for no:\")\n",
    "            if choice_p==\"1\":\n",
    "                top=int(input(print(\"what toppings would you like on your pizza:\",\"\\n\",\"enter the number:\",\"\\n\",\" 1.paneer---rs30\",\"\\n\",\"2.mushrooms---rs30\",\"\\n\",\"3.capsicum---rs30\")))\n",
    "                if top==1 or top==2 or top==3:\n",
    "                    sum=sum+pizza_top\n",
    "                continue\n",
    "            elif choice_p==\"0\":\n",
    "                break\n",
    "            else:\n",
    "                print(\"invalid choice\")\n",
    "    elif num==2:\n",
    "        sum=sum+burger\n",
    "        while(1):\n",
    "            choice_b=input(\"do you wish to add fillings in your burger?enter 1 for yes and 0 for no:\")\n",
    "            if choice_b==\"1\":\n",
    "                fill=int(input(print(\"what fillings would you like in your burger:\",\"\\n\",\" 1.tomatoes---rs10\",\"\\n\",\"2.onions---rs10\",\"\\n\",\"3.cucumbers---rs10\")))\n",
    "                if fill==1 or fill==2 or fill==3:\n",
    "                    sum=sum+burger_fill\n",
    "                continue\n",
    "            elif choice_b==\"0\":\n",
    "                break\n",
    "            else:\n",
    "                print(\"invalid choice\")\n",
    "        b_cheese=str(input(print(\"would you like cheese in your burger---rs10, enter 'yes' or 'no':\")))\n",
    "        if b_cheese==\"yes\":\n",
    "            sum=sum+burger_cheese\n",
    "        elif b_cheese==\"no\":\n",
    "            pass\n",
    "        else:\n",
    "            print(\"invalid choice\")\n",
    "    elif num==3:\n",
    "        sum=sum+hotdog\n",
    "        cheese=int(input(print(\"would you like single---rs10 or double cheese---rs20 in your hotdog: enter '1' for single and '2' for double:\")))\n",
    "        if cheese==1:\n",
    "            sum=sum+hotdog_single\n",
    "        elif cheese==2:\n",
    "            sum=sum+hotdog_double\n",
    "        else:\n",
    "            print(\"invalid choice\")\n",
    "    else:\n",
    "        print(\"invalid choice\")\n",
    "    while(1):\n",
    "        choice_s=input(\"do you wish to enter any softdrinks as sides, enter 1 for yes and 0 for no:\")\n",
    "        if choice_s==\"1\":\n",
    "            drink=int(input(print(\"1.mojito---rs50\",\"\\n\",\"2.cold coffee---rs50\",\"\\n\",\"3.orange juice---rs50\")))\n",
    "            if drink==1 or drink==2 or drink==3:\n",
    "                sum=sum+50\n",
    "            continue\n",
    "        elif choice_s==\"0\":\n",
    "            break\n",
    "        else:\n",
    "            print(\"invalid choice\")\n",
    "    choice=input(\"do you wish to add more to your order? enter 1 for yes and 0 for no:\")\n",
    "    if choice==\"1\":\n",
    "        continue\n",
    "    elif choice==\"0\":\n",
    "        break\n",
    "    else:\n",
    "        print(\"invalid choice\")\n",
    "print(\"total bill:\",sum)\n",
    "        "
   ]
  },
  {
   "cell_type": "code",
   "execution_count": null,
   "id": "e789925e",
   "metadata": {},
   "outputs": [],
   "source": []
  }
 ],
 "metadata": {
  "kernelspec": {
   "display_name": "Python 3 (ipykernel)",
   "language": "python",
   "name": "python3"
  },
  "language_info": {
   "codemirror_mode": {
    "name": "ipython",
    "version": 3
   },
   "file_extension": ".py",
   "mimetype": "text/x-python",
   "name": "python",
   "nbconvert_exporter": "python",
   "pygments_lexer": "ipython3",
   "version": "3.9.12"
  }
 },
 "nbformat": 4,
 "nbformat_minor": 5
}
