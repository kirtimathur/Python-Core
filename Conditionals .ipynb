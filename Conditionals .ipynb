{
 "cells": [
  {
   "cell_type": "code",
   "execution_count": 1,
   "id": "99f9cdc3",
   "metadata": {},
   "outputs": [
    {
     "name": "stdout",
     "output_type": "stream",
     "text": [
      "Enter a number: 34\n",
      "bye\n"
     ]
    }
   ],
   "source": [
    "#wap to display hello if the number is divisible by 5 otherwise print bye\n",
    "num = int(input(\"Enter a number: \"))\n",
    "if num%5==0:\n",
    "    print(\"hello\")\n",
    "else:\n",
    "    print(\"bye\")\n",
    "a=2"
   ]
  },
  {
   "cell_type": "code",
   "execution_count": 2,
   "id": "b4e500c4",
   "metadata": {},
   "outputs": [
    {
     "name": "stdout",
     "output_type": "stream",
     "text": [
      "Enter the age :19\n",
      "Person is eligible for voting\n"
     ]
    }
   ],
   "source": [
    "#checking eligibility for voting\n",
    "x=int(input(\"Enter the age :\"))\n",
    "if x>=18:\n",
    "    print(\"Person is eligible for voting\")\n",
    "else:\n",
    "    print(\"Person is not eligible for voting\")"
   ]
  },
  {
   "cell_type": "code",
   "execution_count": 3,
   "id": "5b2f1269",
   "metadata": {},
   "outputs": [
    {
     "name": "stdout",
     "output_type": "stream",
     "text": [
      "Enter a number: 17\n",
      "17 is odd\n"
     ]
    }
   ],
   "source": [
    "#check even or odd\n",
    "x=int(input(\"Enter a number: \"))\n",
    "if x%2==0:\n",
    "    print(x,\"is even\")\n",
    "else:\n",
    "    print(x,\"is odd\")"
   ]
  },
  {
   "cell_type": "code",
   "execution_count": 5,
   "id": "2f1fd1df",
   "metadata": {},
   "outputs": [
    {
     "name": "stdout",
     "output_type": "stream",
     "text": [
      "Enter a number: 19\n",
      "19 is not divisible by 7\n"
     ]
    }
   ],
   "source": [
    "#check whether no, is divisible by 7 or not\n",
    "x=int(input(\"Enter a number: \"))\n",
    "if x%7==0:\n",
    "    print(x,\"is divisible by 7\")\n",
    "else:\n",
    "    print(x,\"is not divisible by 7\")"
   ]
  },
  {
   "cell_type": "code",
   "execution_count": 6,
   "id": "1f8a6dc5",
   "metadata": {},
   "outputs": [
    {
     "name": "stdout",
     "output_type": "stream",
     "text": [
      "Enter a number between 1 to 7: 5\n",
      "THURSDAY\n"
     ]
    }
   ],
   "source": [
    "#wap to accept a no. from 1 to 7 and display days of the week\n",
    "x=int(input(\"Enter a number between 1 to 7: \"))\n",
    "if x==1:\n",
    "    print(\"SUNDAY\")\n",
    "elif x==2:\n",
    "    print(\"Monday\")\n",
    "elif x==3:\n",
    "    print(\"TUESDAY\")\n",
    "elif x==4:\n",
    "    print(\"WEDNESDAY\")\n",
    "elif x==5:\n",
    "    print(\"THURSDAY\")\n",
    "elif x==6:\n",
    "    print(\"FRIDAY\")\n",
    "elif x==7:\n",
    "    print(\"SATURDAY\")\n",
    "else:\n",
    "    print(\"WRONG INPUT!\")"
   ]
  },
  {
   "cell_type": "code",
   "execution_count": 8,
   "id": "77f6815d",
   "metadata": {},
   "outputs": [
    {
     "name": "stdout",
     "output_type": "stream",
     "text": [
      "Enter the city: Jaipur\n",
      "MONUMENT IS: Jal Mahal\n"
     ]
    }
   ],
   "source": [
    "#accept a city and display its monument\n",
    "x=str(input(\"Enter the city: \"))\n",
    "if x==\"Delhi\":\n",
    "    print(\"MONUMENT IS: Red Fort\")\n",
    "elif x==\"Agra\":\n",
    "    print(\"MONUMENT IS: Taj Mahal\")\n",
    "elif x==\"Jaipur\":\n",
    "    print(\"MONUMENT IS: Jal Mahal\")\n",
    "else:\n",
    "    print(\"Wrong City!\")"
   ]
  },
  {
   "cell_type": "code",
   "execution_count": 9,
   "id": "709d5da0",
   "metadata": {},
   "outputs": [
    {
     "name": "stdout",
     "output_type": "stream",
     "text": [
      "enter 3 numbers: 23,-1,8\n",
      "23 is greatest\n"
     ]
    }
   ],
   "source": [
    "#to print greatest of 3 nos.\n",
    "x,y,z=input(\"enter 3 numbers: \").split(\",\")\n",
    "x=int(x)\n",
    "y=int(y)\n",
    "z=int(z)\n",
    "if x>y and x>z:\n",
    "    print(x, \"is greatest\")\n",
    "elif y>z and y>x:\n",
    "    print(y,\"is greatest\")\n",
    "elif z>x and z>y:\n",
    "    print(z,\"is greatest\")\n",
    "elif x==y and x>z:\n",
    "    print(x,y,\"are equal and greatest\")\n",
    "elif y==z and y>x:\n",
    "    print(y,z,\"are equal and greatest\")\n",
    "elif x==z and x>y:\n",
    "    print(x,z,\"are equal and greatest\")\n",
    "elif x==y and y==z:\n",
    "    print(\"all three are equal\")\n",
    "else:\n",
    "    print(\"Invalid input\")"
   ]
  },
  {
   "cell_type": "code",
   "execution_count": 11,
   "id": "0da0c370",
   "metadata": {},
   "outputs": [
    {
     "name": "stdout",
     "output_type": "stream",
     "text": [
      "Enter a number: 67\n",
      "67 divisible by neither 5 nor 7\n"
     ]
    }
   ],
   "source": [
    "#check divisbility with 5 and 7\n",
    "x=int(input(\"Enter a number: \"))\n",
    "if x%5==0 and x%7==0:\n",
    "    print(x,\"divisible by both 5 and 7\")\n",
    "elif x%5==0 or x%7==0:\n",
    "    print(x,\"either divisible by 5 or 7\")\n",
    "else:\n",
    "    print(x,\"divisible by neither 5 nor 7\")"
   ]
  },
  {
   "cell_type": "code",
   "execution_count": 12,
   "id": "5aca5ad5",
   "metadata": {},
   "outputs": [
    {
     "name": "stdout",
     "output_type": "stream",
     "text": [
      "three will get 26 candies\n",
      "diksha gets 1 candies\n"
     ]
    }
   ],
   "source": [
    "#divide candies equally b/w ravi,sumit and anna and if any remains give them to diksha\n",
    "r=23\n",
    "s=34\n",
    "a=22\n",
    "sum=r+s+a\n",
    "rem=sum%3\n",
    "m=sum//3\n",
    "if sum%3==0:\n",
    "    print(\"all three will get\",sum/3,\"candies\")\n",
    "else:\n",
    "    print(\"three will get\",m,\"candies\")\n",
    "    print(\"diksha gets\",rem,\"candies\")"
   ]
  },
  {
   "cell_type": "code",
   "execution_count": null,
   "id": "bcb5f598",
   "metadata": {},
   "outputs": [],
   "source": []
  }
 ],
 "metadata": {
  "kernelspec": {
   "display_name": "Python 3 (ipykernel)",
   "language": "python",
   "name": "python3"
  },
  "language_info": {
   "codemirror_mode": {
    "name": "ipython",
    "version": 3
   },
   "file_extension": ".py",
   "mimetype": "text/x-python",
   "name": "python",
   "nbconvert_exporter": "python",
   "pygments_lexer": "ipython3",
   "version": "3.9.12"
  }
 },
 "nbformat": 4,
 "nbformat_minor": 5
}
