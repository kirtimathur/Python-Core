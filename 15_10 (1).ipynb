{
 "cells": [
  {
   "cell_type": "code",
   "execution_count": 2,
   "id": "7576ab7f",
   "metadata": {},
   "outputs": [
    {
     "name": "stdout",
     "output_type": "stream",
     "text": [
      "enter the no.:4\n",
      "do you wish to enter more then enter 1 otherwise 0:1\n",
      "enter the no.:6\n",
      "do you wish to enter more then enter 1 otherwise 0:1\n",
      "enter the no.:9\n",
      "do you wish to enter more then enter 1 otherwise 0:0\n",
      "sum is: 19\n"
     ]
    }
   ],
   "source": [
    "# Q.Write a program to enter the numbers till the user wants and at the end it should display the sum of all the numbers entered\n",
    "sum=0\n",
    "while(1):\n",
    "    num=int(input(\"enter the no.:\"))\n",
    "    sum=sum+num\n",
    "    choice=input(\"do you wish to enter more then enter 1 otherwise 0:\")\n",
    "    if choice==\"1\":\n",
    "        continue\n",
    "    elif choice==\"0\":\n",
    "        break\n",
    "    else:\n",
    "        print(\"invalid choice\")\n",
    "print(\"sum is:\",sum)\n",
    "        "
   ]
  },
  {
   "cell_type": "code",
   "execution_count": 3,
   "id": "69956b0e",
   "metadata": {},
   "outputs": [
    {
     "name": "stdout",
     "output_type": "stream",
     "text": [
      "enter the no.:4\n",
      "do you wish to enter more then enter 1 otherwise 0:1\n",
      "enter the no.:8\n",
      "do you wish to enter more then enter 1 otherwise 0:1\n",
      "enter the no.:9\n",
      "do you wish to enter more then enter 1 otherwise 0:0\n",
      "sum of negative nos. is 0\n",
      "sum of positive nos. is 21\n",
      "total number of numbers entered 3\n"
     ]
    }
   ],
   "source": [
    "# Q.Write a program to enter the numbers till the user enter ZERO and at the end it should display the count and sum of\n",
    "#positive , negative numbers entered.\n",
    "\n",
    "count=1\n",
    "sum1=0\n",
    "sum2=0\n",
    "while(1):\n",
    "    num=int(input(\"enter the no.:\"))\n",
    "    if num<0:\n",
    "        sum1=sum1+num\n",
    "    if num>=0:\n",
    "        sum2=sum2+num\n",
    "    choice=input(\"do you wish to enter more then enter 1 otherwise 0:\")\n",
    "    if choice==\"1\":\n",
    "        count+=1\n",
    "        continue\n",
    "    elif choice==\"0\":\n",
    "        break\n",
    "    else:\n",
    "        print(\"invalid choice\")\n",
    "print(\"sum of negative nos. is\",sum1)\n",
    "print(\"sum of positive nos. is\",sum2)\n",
    "print(\"total number of numbers entered\",count)"
   ]
  },
  {
   "cell_type": "code",
   "execution_count": 4,
   "id": "57cdb81c",
   "metadata": {},
   "outputs": [
    {
     "name": "stdout",
     "output_type": "stream",
     "text": [
      "104 130 143 169 182 208 221 247 260 286 299 325 338 364 377 403 416 442 455 481 494 "
     ]
    }
   ],
   "source": [
    "#Q10. Write a program to display all the numbers which are divisible by 13 but not by 3 between 100 and 500.\n",
    "#(exclusive both numbers)\n",
    "\n",
    "for i in range(101,500):\n",
    "    if i%13==0 and i%3!=0:\n",
    "        print(i,end=\" \")"
   ]
  },
  {
   "cell_type": "code",
   "execution_count": 6,
   "id": "d2d6a153",
   "metadata": {},
   "outputs": [
    {
     "name": "stdout",
     "output_type": "stream",
     "text": [
      "enter the last no. of range:10\n",
      "1 4 9 16 25 36 49 64 81 100 "
     ]
    }
   ],
   "source": [
    "#Q. Write a program to print the following series till n terms. 1 4 9 16 25 . . . n terms.\n",
    "\n",
    "end=int(input(\"enter the last no. of range:\"))\n",
    "start=1\n",
    "for i in range(1,end+1):\n",
    "    print(i*i,end=\" \")\n",
    "    "
   ]
  },
  {
   "cell_type": "code",
   "execution_count": null,
   "id": "8058ce12",
   "metadata": {},
   "outputs": [],
   "source": []
  }
 ],
 "metadata": {
  "kernelspec": {
   "display_name": "Python 3 (ipykernel)",
   "language": "python",
   "name": "python3"
  },
  "language_info": {
   "codemirror_mode": {
    "name": "ipython",
    "version": 3
   },
   "file_extension": ".py",
   "mimetype": "text/x-python",
   "name": "python",
   "nbconvert_exporter": "python",
   "pygments_lexer": "ipython3",
   "version": "3.9.12"
  }
 },
 "nbformat": 4,
 "nbformat_minor": 5
}
