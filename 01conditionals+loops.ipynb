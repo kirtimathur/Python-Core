{
 "cells": [
  {
   "cell_type": "markdown",
   "id": "d148d8b2",
   "metadata": {},
   "source": [
    "# 01/09/2022"
   ]
  },
  {
   "cell_type": "markdown",
   "id": "0db5c6f5",
   "metadata": {},
   "source": [
    "## first program"
   ]
  },
  {
   "attachments": {
    "32f075090b42684e106cc3ab5c823f26.jpg": {
     "image/jpeg": "[encoded data removed]"
    }
   },
   "cell_type": "markdown",
   "id": "c8909b71",
   "metadata": {},
   "source": [
    "![32f075090b42684e106cc3ab5c823f26.jpg](attachment:32f075090b42684e106cc3ab5c823f26.jpg)"
   ]
  },
  {
   "cell_type": "code",
   "execution_count": 2,
   "id": "673849a9",
   "metadata": {},
   "outputs": [
    {
     "name": "stdout",
     "output_type": "stream",
     "text": [
      "Enter a number: 7\n",
      "bye\n"
     ]
    }
   ],
   "source": [
    "#wap to display hello if the number is divisible by 5 otherwise print bye\n",
    "num = int(input(\"Enter a number: \"))\n",
    "if num%5==0:\n",
    "    print(\"hello\")\n",
    "else:\n",
    "    print(\"bye\")\n",
    "a=2"
   ]
  },
  {
   "cell_type": "code",
   "execution_count": 5,
   "id": "5bd17104",
   "metadata": {},
   "outputs": [
    {
     "name": "stdout",
     "output_type": "stream",
     "text": [
      "3\n"
     ]
    }
   ],
   "source": [
    "print(a)\n"
   ]
  },
  {
   "cell_type": "code",
   "execution_count": 4,
   "id": "cd23bc8e",
   "metadata": {},
   "outputs": [],
   "source": [
    "a=3"
   ]
  },
  {
   "cell_type": "markdown",
   "id": "63f1576a",
   "metadata": {},
   "source": [
    "## homework questions"
   ]
  },
  {
   "cell_type": "code",
   "execution_count": 8,
   "id": "6c96b864",
   "metadata": {},
   "outputs": [
    {
     "name": "stdout",
     "output_type": "stream",
     "text": [
      "Enter the age :13\n",
      "Person is not eligible for voting\n"
     ]
    }
   ],
   "source": [
    "#checking eligibility for voting\n",
    "x=int(input(\"Enter the age :\"))\n",
    "if x>=18:\n",
    "    print(\"Person is eligible for voting\")\n",
    "else:\n",
    "    print(\"Person is not eligible for voting\")"
   ]
  },
  {
   "cell_type": "code",
   "execution_count": 9,
   "id": "d409843d",
   "metadata": {},
   "outputs": [
    {
     "name": "stdout",
     "output_type": "stream",
     "text": [
      "Enter a number: 3\n",
      "3 is odd\n"
     ]
    }
   ],
   "source": [
    "#check even or odd\n",
    "x=int(input(\"Enter a number: \"))\n",
    "if x%2==0:\n",
    "    print(x,\"is even\")\n",
    "else:\n",
    "    print(x,\"is odd\")"
   ]
  },
  {
   "cell_type": "code",
   "execution_count": 12,
   "id": "eafcd1e5",
   "metadata": {},
   "outputs": [
    {
     "name": "stdout",
     "output_type": "stream",
     "text": [
      "Enter a number: 7\n",
      "7 is div by 7\n"
     ]
    }
   ],
   "source": [
    "#check whether no, is divisible by 7 or not\n",
    "x=int(input(\"Enter a number: \"))\n",
    "if x%7==0:\n",
    "    print(x,\"is div by 7\")\n",
    "else:\n",
    "    print(x,\"is not div\")"
   ]
  },
  {
   "cell_type": "code",
   "execution_count": 13,
   "id": "d92f73c0",
   "metadata": {},
   "outputs": [],
   "source": [
    "#wap to calculate electricity bill acc to following criteria:"
   ]
  },
  {
   "cell_type": "code",
   "execution_count": 14,
   "id": "4d32e10f",
   "metadata": {},
   "outputs": [
    {
     "name": "stdout",
     "output_type": "stream",
     "text": [
      "Enter a number between 1 to 7: 6\n",
      "FRIDAY\n"
     ]
    }
   ],
   "source": [
    "#wap to accept a no. from 1 to 7 and display days of the week\n",
    "x=int(input(\"Enter a number between 1 to 7: \"))\n",
    "if x==1:\n",
    "    print(\"SUNDAY\")\n",
    "elif x==2:\n",
    "    print(\"Monday\")\n",
    "elif x==3:\n",
    "    print(\"TUESDAY\")\n",
    "elif x==4:\n",
    "    print(\"WEDNESDAY\")\n",
    "elif x==5:\n",
    "    print(\"THURSDAY\")\n",
    "elif x==6:\n",
    "    print(\"FRIDAY\")\n",
    "elif x==7:\n",
    "    print(\"SATURDAY\")\n",
    "else:\n",
    "    print(\"WRONG INPUT!\")"
   ]
  },
  {
   "cell_type": "code",
   "execution_count": 16,
   "id": "bdddcf04",
   "metadata": {},
   "outputs": [
    {
     "name": "stdout",
     "output_type": "stream",
     "text": [
      "Enter the city: Delhi\n",
      "MONUMENT IS: Red Fort\n"
     ]
    }
   ],
   "source": [
    "#accept a city and display its monument\n",
    "x=str(input(\"Enter the city: \"))\n",
    "if x==\"Delhi\":\n",
    "    print(\"MONUMENT IS: Red Fort\")\n",
    "elif x==\"Agra\":\n",
    "    print(\"MONUMENT IS: Taj Mahal\")\n",
    "elif x==\"Jaipur\":\n",
    "    print(\"MONUMENT IS: Jal Mahal\")\n",
    "else:\n",
    "    print(\"Wrong City!\")"
   ]
  },
  {
   "cell_type": "code",
   "execution_count": 20,
   "id": "e66a9757",
   "metadata": {},
   "outputs": [
    {
     "name": "stdout",
     "output_type": "stream",
     "text": [
      "enter 3 numbers: 2,2,5\n",
      "5 is greatest\n"
     ]
    }
   ],
   "source": [
    "#to print greatest of 3 nos.\n",
    "x,y,z=input(\"enter 3 numbers: \").split(\",\")\n",
    "x=int(x)\n",
    "y=int(y)\n",
    "z=int(z)\n",
    "if x>y and x>z:\n",
    "    print(x, \"is greatest\")\n",
    "elif y>z and y>x:\n",
    "    print(y,\"is greatest\")\n",
    "elif z>x and z>y:\n",
    "    print(z,\"is greatest\")\n",
    "elif x==y and x>z:\n",
    "    print(x,y,\"are equal and greatest\")\n",
    "elif y==z and y>x:\n",
    "    print(y,z,\"are equal and greatest\")\n",
    "elif x==z and x>y:\n",
    "    print(x,z,\"are equal and greatest\")\n",
    "elif x==y and y==z:\n",
    "    print(\"all three are equal\")\n",
    "else:\n",
    "    print(\"Invalid input\")"
   ]
  },
  {
   "cell_type": "code",
   "execution_count": 21,
   "id": "452820f5",
   "metadata": {},
   "outputs": [
    {
     "name": "stdout",
     "output_type": "stream",
     "text": [
      "Enter a number: 35\n",
      "No. is div by both 5 and 7\n"
     ]
    }
   ],
   "source": [
    "#check divisbility with 5 and 7\n",
    "x=int(input(\"Enter a number: \"))\n",
    "if x%5==0 and x%7==0:\n",
    "    print(\"No. is div by both 5 and 7\")\n",
    "elif x%5==0 or x%7==0:\n",
    "    print(\"No. is either div by 5 or 7\")\n",
    "else:\n",
    "    print(\"invalid no.\")"
   ]
  },
  {
   "cell_type": "code",
   "execution_count": 4,
   "id": "d71df196",
   "metadata": {},
   "outputs": [
    {
     "name": "stdout",
     "output_type": "stream",
     "text": [
      "three will get 26 candies\n",
      "diksha gets 1 candies\n"
     ]
    }
   ],
   "source": [
    "#divide candies b/w r,s and a and if any remains give them to diksha\n",
    "r=23\n",
    "s=34\n",
    "a=22\n",
    "sum=r+s+a\n",
    "rem=sum%3\n",
    "m=sum//3\n",
    "if sum%3==0:\n",
    "    print(\"all three will get\",sum/3,\"candies\")\n",
    "else:\n",
    "    print(\"three will get\",m,\"candies\")\n",
    "    print(\"diksha gets\",rem,\"candies\")"
   ]
  },
  {
   "cell_type": "markdown",
   "id": "ef1006bd",
   "metadata": {},
   "source": [
    "# 05/09/2022"
   ]
  },
  {
   "cell_type": "code",
   "execution_count": 22,
   "id": "6d05c9f1",
   "metadata": {},
   "outputs": [
    {
     "name": "stdout",
     "output_type": "stream",
     "text": [
      "0\n",
      "1\n",
      "2\n",
      "3\n",
      "4\n",
      "5\n",
      "6\n",
      "7\n",
      "8\n",
      "9\n"
     ]
    }
   ],
   "source": [
    "# FIRST operation in 'for loop' is range\n",
    "for i in range(10):\n",
    "    print(i)\n",
    "# in range 1 argument is starting point and second is ending point which is (n-1)"
   ]
  },
  {
   "cell_type": "code",
   "execution_count": 2,
   "id": "83d22327",
   "metadata": {},
   "outputs": [
    {
     "name": "stdout",
     "output_type": "stream",
     "text": [
      "Enter the number:5\n",
      "5 is prime\n"
     ]
    }
   ],
   "source": [
    "#take input and determine if prime\n",
    "num=int(input(\"Enter the number:\"))\n",
    "count=0\n",
    "for i in range(1,num+1):\n",
    "    if num%i==0:\n",
    "        count=count+1\n",
    "if count==2:\n",
    "    print(num,\"is prime\")\n",
    "else:\n",
    "    print(num,\"is composite\")\n",
    "    "
   ]
  },
  {
   "cell_type": "code",
   "execution_count": 5,
   "id": "1bc0e70f",
   "metadata": {},
   "outputs": [
    {
     "name": "stdout",
     "output_type": "stream",
     "text": [
      "1\n",
      "2\n",
      "3\n",
      "4\n",
      "5\n",
      "6\n",
      "7\n",
      "8\n",
      "9\n"
     ]
    }
   ],
   "source": [
    "# range with start and end\n",
    "for i in range(1,10):\n",
    "    print(i)"
   ]
  },
  {
   "cell_type": "code",
   "execution_count": 6,
   "id": "7e8b98e7",
   "metadata": {},
   "outputs": [
    {
     "name": "stdout",
     "output_type": "stream",
     "text": [
      "1\n",
      "3\n",
      "5\n",
      "7\n",
      "9\n"
     ]
    }
   ],
   "source": [
    "# next operation in for loop is  using all parameters along with step size\n",
    "for i in range(1,10,2):\n",
    "    print(i)\n",
    "# stepsize is argument after end of range it helps in jumping or getting desired output.\n",
    "# in above I want to get odd numbers between 1,9\n",
    "# so I used stepsize of 2 which skips 1 value"
   ]
  },
  {
   "cell_type": "code",
   "execution_count": 7,
   "id": "79acc5d4",
   "metadata": {},
   "outputs": [
    {
     "name": "stdout",
     "output_type": "stream",
     "text": [
      "10\n",
      "9\n",
      "8\n",
      "7\n",
      "6\n",
      "5\n",
      "4\n",
      "3\n",
      "2\n"
     ]
    }
   ],
   "source": [
    "# with negative step size \n",
    "for i in range(10,1,-1):\n",
    "    print(i)\n",
    "# negative stepsize gives us decreasing or opposite order of output"
   ]
  },
  {
   "cell_type": "code",
   "execution_count": 8,
   "id": "e1e98261",
   "metadata": {},
   "outputs": [
    {
     "name": "stdout",
     "output_type": "stream",
     "text": [
      "10\n",
      "8\n",
      "6\n",
      "4\n",
      "2\n"
     ]
    }
   ],
   "source": [
    "for i in range(10,0,-2):\n",
    "    print(i)"
   ]
  },
  {
   "cell_type": "code",
   "execution_count": 9,
   "id": "558785c2",
   "metadata": {},
   "outputs": [
    {
     "name": "stdout",
     "output_type": "stream",
     "text": [
      "2\n",
      "4\n",
      "6\n",
      "8\n"
     ]
    }
   ],
   "source": [
    "# applying functions or if/else in for loop\n",
    "for i in range(1,10):\n",
    "    if i%2==0:\n",
    "        print(i)\n",
    "# as we can see for loop applies if else condition in a list  without looping we have to apply if/else condition 9 times\n",
    "# but with for loop it gets complete in 2 line code"
   ]
  },
  {
   "cell_type": "code",
   "execution_count": 10,
   "id": "13fec430",
   "metadata": {},
   "outputs": [
    {
     "name": "stdout",
     "output_type": "stream",
     "text": [
      "1 2 3 4 5 "
     ]
    }
   ],
   "source": [
    "#### output in one line \n",
    "for i in range(1,6):\n",
    "    print(i, end=\" \")"
   ]
  },
  {
   "cell_type": "code",
   "execution_count": 11,
   "id": "8bc811a2",
   "metadata": {},
   "outputs": [
    {
     "name": "stdout",
     "output_type": "stream",
     "text": [
      "12345"
     ]
    }
   ],
   "source": [
    "#### output in one line \n",
    "for i in range(1,6):\n",
    "    print(i, end= \"\")"
   ]
  },
  {
   "cell_type": "code",
   "execution_count": 12,
   "id": "054d8427",
   "metadata": {},
   "outputs": [
    {
     "name": "stdout",
     "output_type": "stream",
     "text": [
      "hello,1 hello,2 hello,3 hello,4 hello,5 "
     ]
    }
   ],
   "source": [
    "for i in range(1,6):\n",
    "    print(\"hello\",i, sep=\",\", end=\" \")"
   ]
  },
  {
   "cell_type": "code",
   "execution_count": 13,
   "id": "b1dfd92e",
   "metadata": {},
   "outputs": [
    {
     "name": "stdout",
     "output_type": "stream",
     "text": [
      "enter the number : 5\n",
      "5 * 1 = 5\n",
      "5 * 2 = 10\n",
      "5 * 3 = 15\n",
      "5 * 4 = 20\n",
      "5 * 5 = 25\n",
      "5 * 6 = 30\n",
      "5 * 7 = 35\n",
      "5 * 8 = 40\n",
      "5 * 9 = 45\n",
      "5 * 10 = 50\n"
     ]
    }
   ],
   "source": [
    "#table of number entered by user\n",
    "num=int(input(\"enter the number : \"))\n",
    "for i in range(1,11):\n",
    "    print(num ,\"*\", i ,\"=\", num*i)"
   ]
  },
  {
   "cell_type": "code",
   "execution_count": 14,
   "id": "b796db61",
   "metadata": {
    "scrolled": true
   },
   "outputs": [
    {
     "name": "stdout",
     "output_type": "stream",
     "text": [
      "enter the number : 3\n",
      "3 * 1 = 3\n",
      "              sqaure of 2 is   4\n",
      "3 * 3 = 9\n",
      "              sqaure of 4 is   16\n",
      "3 * 5 = 15\n",
      "              sqaure of 6 is   36\n",
      "3 * 7 = 21\n",
      "              sqaure of 8 is   64\n",
      "3 * 9 = 27\n",
      "              sqaure of 10 is   100\n"
     ]
    }
   ],
   "source": [
    "#square of even no and table of odd no\n",
    "num=int(input(\"enter the number : \"))\n",
    "for i in range(1,11):\n",
    "    if (i%2==0):\n",
    "        print(\"              sqaure of\", i,\"is  \", i*i)\n",
    "    else:\n",
    "        print(num ,\"*\", i ,\"=\", num*i)"
   ]
  },
  {
   "cell_type": "code",
   "execution_count": 16,
   "id": "3bd7c206",
   "metadata": {},
   "outputs": [
    {
     "name": "stdout",
     "output_type": "stream",
     "text": [
      "8 *  10 = 80\n",
      "8 *  9 = 72\n",
      "8 *  8 = 64\n",
      "8 *  7 = 56\n",
      "8 *  6 = 48\n",
      "8 *  5 = 40\n",
      "8 *  4 = 32\n",
      "8 *  3 = 24\n",
      "8 *  2 = 16\n",
      "8 *  1 = 8\n"
     ]
    }
   ],
   "source": [
    "#table in reverse\n",
    "j=10\n",
    "for i in range(80,7,-8):\n",
    "    print(\"8 * \",j,\"=\" , i )\n",
    "    j-=1"
   ]
  },
  {
   "cell_type": "code",
   "execution_count": 17,
   "id": "81466436",
   "metadata": {
    "scrolled": true
   },
   "outputs": [
    {
     "name": "stdout",
     "output_type": "stream",
     "text": [
      "enter the number : 2\n",
      "2 * 10 = 20\n",
      "2 * 9 = 18\n",
      "2 * 8 = 16\n",
      "2 * 7 = 14\n",
      "2 * 6 = 12\n",
      "2 * 5 = 10\n",
      "2 * 4 = 8\n",
      "2 * 3 = 6\n",
      "2 * 2 = 4\n",
      "2 * 1 = 2\n"
     ]
    }
   ],
   "source": [
    "#table in reverse\n",
    "num=int(input(\"enter the number : \"))\n",
    "for i in range(10,0,-1):\n",
    "    print(num ,\"*\", i ,\"=\", num*i)"
   ]
  },
  {
   "cell_type": "code",
   "execution_count": 18,
   "id": "6917d8c4",
   "metadata": {},
   "outputs": [
    {
     "name": "stdout",
     "output_type": "stream",
     "text": [
      "the cube of 1 is 1\n",
      "the square of 2 is 4\n",
      "the cube of 3 is 27\n",
      "the square of 4 is 16\n",
      "the cube of 5 is 125\n",
      "the square of 6 is 36\n",
      "the cube of 7 is 343\n",
      "the square of 8 is 64\n",
      "the cube of 9 is 729\n",
      "the square of 10 is 100\n",
      "the cube of 11 is 1331\n",
      "the square of 12 is 144\n",
      "the cube of 13 is 2197\n",
      "the square of 14 is 196\n",
      "the cube of 15 is 3375\n",
      "the square of 16 is 256\n",
      "the cube of 17 is 4913\n",
      "the square of 18 is 324\n",
      "the cube of 19 is 6859\n",
      "the square of 20 is 400\n"
     ]
    }
   ],
   "source": [
    "#print square of even nos. and cube of odd nos.\n",
    "for i in range (1,21):\n",
    "    if i%2==0:\n",
    "        print(\"the square of\",i,\"is\",i**2)\n",
    "    else:\n",
    "        print(\"the cube of\",i,\"is\",i**3)"
   ]
  },
  {
   "cell_type": "code",
   "execution_count": 21,
   "id": "5a97209f",
   "metadata": {},
   "outputs": [
    {
     "name": "stdout",
     "output_type": "stream",
     "text": [
      "Enter the range1@2\n",
      "3\n"
     ]
    }
   ],
   "source": [
    "#using split function for taking multiple outputs\n",
    "a,b=input(\"Enter the range\").split(\"@\")\n",
    "a=int(a)\n",
    "b=int(b)\n",
    "c=a+b\n",
    "print(c)"
   ]
  },
  {
   "cell_type": "code",
   "execution_count": 19,
   "id": "191c9e44",
   "metadata": {},
   "outputs": [
    {
     "name": "stdout",
     "output_type": "stream",
     "text": [
      "1@2@hello@hii\n"
     ]
    }
   ],
   "source": [
    "#using separator parameter in print fn\n",
    "print(1,2,\"hello\",\"hii\",sep=\"@\")"
   ]
  },
  {
   "cell_type": "code",
   "execution_count": 20,
   "id": "14920c0c",
   "metadata": {},
   "outputs": [
    {
     "name": "stdout",
     "output_type": "stream",
     "text": [
      "1@\n",
      "@2@hello@hii\n"
     ]
    }
   ],
   "source": [
    "#for adding new line in a single print fn(by default it's new line for prints in a loop)\n",
    "print(1,\"\\n\",2,\"hello\",\"hii\",sep=\"@\")"
   ]
  },
  {
   "cell_type": "code",
   "execution_count": 22,
   "id": "e4788e02",
   "metadata": {},
   "outputs": [
    {
     "name": "stdout",
     "output_type": "stream",
     "text": [
      "Enter a no: 5\n",
      "1 is the factor of 5\n",
      "5 is the factor of 5\n"
     ]
    }
   ],
   "source": [
    "#find factors of a no.\n",
    "x=int(input(\"Enter a no: \"))\n",
    "for i in range(1,x+1):\n",
    "    if (x%i==0):\n",
    "        print(i,\"is the factor of\",x)"
   ]
  },
  {
   "cell_type": "code",
   "execution_count": 23,
   "id": "49d06a21",
   "metadata": {},
   "outputs": [
    {
     "name": "stdout",
     "output_type": "stream",
     "text": [
      "1 neither by 5 nor by 3\n",
      "2 neither by 5 nor by 3\n",
      "12 either by 5 or 3\n",
      "23 neither by 5 nor by 3\n",
      "34 neither by 5 nor by 3\n",
      "45 div by both\n",
      "56 neither by 5 nor by 3\n",
      "55 either by 5 or 3\n"
     ]
    }
   ],
   "source": [
    "#check divisibilty with 5 and 3 in a list\n",
    "list=[1,2,12,23,34,45,56,55]\n",
    "for i in list:\n",
    "    if i%5==0 and i%3==0:\n",
    "        print(i,\"div by both\")\n",
    "    elif i%5==0 or i%3==0:\n",
    "        print(i,\"either by 5 or 3\")\n",
    "    else:\n",
    "        print(i,\"neither by 5 nor by 3\")"
   ]
  },
  {
   "cell_type": "code",
   "execution_count": 24,
   "id": "d82b8613",
   "metadata": {},
   "outputs": [
    {
     "name": "stdout",
     "output_type": "stream",
     "text": [
      "Enter the numbers:1,7\n",
      "28\n"
     ]
    }
   ],
   "source": [
    "#sum of all nos. in a range\n",
    "start,end=input(\"Enter the numbers:\").split(\",\")\n",
    "start=int(start)\n",
    "end=int(end)\n",
    "sum=0\n",
    "for i in range(start,end+1):\n",
    "    sum=sum+i\n",
    "print(sum)"
   ]
  },
  {
   "cell_type": "markdown",
   "id": "5ba293c5",
   "metadata": {},
   "source": [
    "#### loops with sequence: strings,list,tuple etc. or any iterable(any object which can be looped over or iterated over with the help of a 'for' loop)"
   ]
  },
  {
   "cell_type": "code",
   "execution_count": 25,
   "id": "7621f69d",
   "metadata": {},
   "outputs": [
    {
     "name": "stdout",
     "output_type": "stream",
     "text": [
      "1\n",
      "2\n",
      "3\n",
      "4\n"
     ]
    }
   ],
   "source": [
    "# first we take a list\n",
    "a=[1,2,3,4]\n",
    "# applying for loop in it to print all values\n",
    "for i in a:\n",
    "    print(i)"
   ]
  },
  {
   "cell_type": "code",
   "execution_count": 26,
   "id": "e62b7630",
   "metadata": {
    "scrolled": true
   },
   "outputs": [
    {
     "name": "stdout",
     "output_type": "stream",
     "text": [
      "p\n",
      "y\n",
      "t\n",
      "h\n",
      "o\n",
      "n\n"
     ]
    }
   ],
   "source": [
    "# using string instead of list or any other iterable object\n",
    "for i in 'python':\n",
    "    print(i)"
   ]
  },
  {
   "cell_type": "code",
   "execution_count": 2,
   "id": "226b4052",
   "metadata": {},
   "outputs": [
    {
     "name": "stdout",
     "output_type": "stream",
     "text": [
      "1\n",
      "2\n"
     ]
    }
   ],
   "source": [
    "#using loop over a dictionary dat type( has keys and values)\n",
    "d={1:\"one\",2:\"two\"}\n",
    "for i in d:\n",
    "    print(i)  # returns keys"
   ]
  },
  {
   "cell_type": "code",
   "execution_count": 29,
   "id": "6cdd5272",
   "metadata": {},
   "outputs": [
    {
     "name": "stdout",
     "output_type": "stream",
     "text": [
      "1\n",
      "2\n",
      "3\n",
      "4\n",
      "5\n",
      "6\n",
      "7\n",
      "8\n",
      "9\n",
      "hello\n"
     ]
    }
   ],
   "source": [
    "for i in range(1,10):\n",
    "    print(i)\n",
    "else:\n",
    "    print(\"hello\")"
   ]
  },
  {
   "cell_type": "markdown",
   "id": "32e1903c",
   "metadata": {},
   "source": [
    "# 06/09/2022"
   ]
  },
  {
   "cell_type": "code",
   "execution_count": 30,
   "id": "a7da9632",
   "metadata": {},
   "outputs": [
    {
     "name": "stdout",
     "output_type": "stream",
     "text": [
      "enter the no: 5\n",
      "factorial of 5 is 120\n"
     ]
    }
   ],
   "source": [
    "#factorial of a no.\n",
    "x=int(input(\"enter the no: \"))\n",
    "if x==0 or x==1:\n",
    "    print(\"factorial of\",x,\"is\",1)\n",
    "elif(x<0):\n",
    "    print(\"factorial of negative number cant be exist\")\n",
    "else:\n",
    "    fact=1\n",
    "    for i in range(1,x+1):\n",
    "        fact=fact*i\n",
    "print(\"factorial of\",x,\"is\",fact)"
   ]
  },
  {
   "cell_type": "code",
   "execution_count": 32,
   "id": "e7c3d1d2",
   "metadata": {},
   "outputs": [
    {
     "name": "stdout",
     "output_type": "stream",
     "text": [
      "Enter the number:7\n",
      "7 is prime\n"
     ]
    }
   ],
   "source": [
    "#whether a no. is prime and composite  \n",
    "num=int(input(\"Enter the number:\"))\n",
    "count=0\n",
    "for i in range(1,num+1):\n",
    "    if num%i==0:\n",
    "        count=count+1\n",
    "if count==2:\n",
    "    print(i,\"is prime\")\n",
    "else:\n",
    "    print(i,\"is composite\")\n",
    "    "
   ]
  },
  {
   "cell_type": "code",
   "execution_count": 34,
   "id": "2b25591d",
   "metadata": {},
   "outputs": [
    {
     "name": "stdout",
     "output_type": "stream",
     "text": [
      "enter the range1,30\n",
      "1 2 3 4 5 6 7 8 9 10 11 12 13 14 15 16 17 18 19 20 21 22 23 24 "
     ]
    }
   ],
   "source": [
    "#using break statement in a loop to terminate the current loop and resume execution of next statement\n",
    "start,end=input(\"enter the range\").split(\",\")\n",
    "start=int(start)\n",
    "end=int(end)\n",
    "for i in range(start,end+1):\n",
    "    if i==25:\n",
    "        break\n",
    "    print(i,end=\" \")\n",
    "    "
   ]
  },
  {
   "cell_type": "code",
   "execution_count": 36,
   "id": "0ba82919",
   "metadata": {},
   "outputs": [
    {
     "name": "stdout",
     "output_type": "stream",
     "text": [
      "enter the number :12\n",
      "1\n",
      "bye\n",
      "2\n",
      "bye\n",
      "3\n",
      "bye\n",
      "4\n",
      "bye\n",
      "5\n",
      "bye\n",
      "6\n",
      "bye\n",
      "7\n",
      "bye\n",
      "8\n",
      "bye\n",
      "10\n",
      "bye\n",
      "11\n",
      "bye\n",
      "12\n",
      "bye\n"
     ]
    }
   ],
   "source": [
    "#using continue statement in a loop to skip the rest of the loop and return the control to the beginning of the loop\n",
    "a=int(input(\"enter the number :\"))\n",
    "for i in range(1,a+1):\n",
    "    if i==9:\n",
    "        continue\n",
    "    print(i)\n",
    "    print(\"bye\")"
   ]
  },
  {
   "cell_type": "code",
   "execution_count": 37,
   "id": "bef71932",
   "metadata": {},
   "outputs": [],
   "source": [
    "#pass statement used as a placeholder for future code, executes nothing\n",
    "a=\"hi\"\n",
    "if a==\"hello\":\n",
    "    pass"
   ]
  },
  {
   "cell_type": "code",
   "execution_count": 41,
   "id": "21f09edd",
   "metadata": {},
   "outputs": [
    {
     "name": "stdout",
     "output_type": "stream",
     "text": [
      "Enter the numbers: 2,8\n",
      "the table of 2 is as:\n",
      "2 * 10 =  20\n",
      "2 * 9 =  18\n",
      "2 * 8 =  16\n",
      "2 * 7 =  14\n",
      "2 * 6 =  12\n",
      "2 * 5 =  10\n",
      "2 * 4 =  8\n",
      "2 * 3 =  6\n",
      "2 * 2 =  4\n",
      "2 * 1 =  2\n",
      "the table of 3 is as:\n",
      "3 * 10 =  30\n",
      "3 * 9 =  27\n",
      "3 * 8 =  24\n",
      "3 * 7 =  21\n",
      "3 * 6 =  18\n",
      "3 * 5 =  15\n",
      "3 * 4 =  12\n",
      "3 * 3 =  9\n",
      "3 * 2 =  6\n",
      "3 * 1 =  3\n",
      "the table of 4 is as:\n",
      "4 * 10 =  40\n",
      "4 * 9 =  36\n",
      "4 * 8 =  32\n",
      "4 * 7 =  28\n",
      "4 * 6 =  24\n",
      "4 * 5 =  20\n",
      "4 * 4 =  16\n",
      "4 * 3 =  12\n",
      "4 * 2 =  8\n",
      "4 * 1 =  4\n",
      "the table of 5 is as:\n",
      "5 * 10 =  50\n",
      "5 * 9 =  45\n",
      "5 * 8 =  40\n",
      "5 * 7 =  35\n",
      "5 * 6 =  30\n",
      "5 * 5 =  25\n",
      "5 * 4 =  20\n",
      "5 * 3 =  15\n",
      "5 * 2 =  10\n",
      "5 * 1 =  5\n",
      "the table of 6 is as:\n",
      "6 * 10 =  60\n",
      "6 * 9 =  54\n",
      "6 * 8 =  48\n",
      "6 * 7 =  42\n",
      "6 * 6 =  36\n",
      "6 * 5 =  30\n",
      "6 * 4 =  24\n",
      "6 * 3 =  18\n",
      "6 * 2 =  12\n",
      "6 * 1 =  6\n",
      "the table of 7 is as:\n",
      "7 * 10 =  70\n",
      "7 * 9 =  63\n",
      "7 * 8 =  56\n",
      "7 * 7 =  49\n",
      "7 * 6 =  42\n",
      "7 * 5 =  35\n",
      "7 * 4 =  28\n",
      "7 * 3 =  21\n",
      "7 * 2 =  14\n",
      "7 * 1 =  7\n",
      "the table of 8 is as:\n",
      "8 * 10 =  80\n",
      "8 * 9 =  72\n",
      "8 * 8 =  64\n",
      "8 * 7 =  56\n",
      "8 * 6 =  48\n",
      "8 * 5 =  40\n",
      "8 * 4 =  32\n",
      "8 * 3 =  24\n",
      "8 * 2 =  16\n",
      "8 * 1 =  8\n"
     ]
    }
   ],
   "source": [
    "#wap to print the table from specified range in reverse\n",
    "x,y=input(\"Enter the numbers: \").split(\",\")\n",
    "x=int(x)\n",
    "y=int(y)\n",
    "for i in range(x,y+1):\n",
    "    print(\"the table of\",i,\"is as:\")\n",
    "    for j in range(10,0,-1): #normally range(1,11)\n",
    "        print(i,\"*\",j,\"= \",i*j)"
   ]
  },
  {
   "cell_type": "markdown",
   "id": "2a3fd01c",
   "metadata": {},
   "source": [
    "## hw"
   ]
  },
  {
   "cell_type": "code",
   "execution_count": 5,
   "id": "43de9a84",
   "metadata": {},
   "outputs": [
    {
     "name": "stdout",
     "output_type": "stream",
     "text": [
      "enter the range :2 5\n",
      "The factorial of 2 is 2\n",
      "The factorial of 3 is 6\n",
      "The factorial of 4 is 24\n",
      "The factorial of 5 is 120\n"
     ]
    }
   ],
   "source": [
    "start,end=input(\"enter the range :\").split(\" \")\n",
    "start=int(start)\n",
    "end=int(end)\n",
    "for i in range(start, end + 1):\n",
    "        fact = 1\n",
    "        for j in range(1, i + 1):\n",
    "            fact = fact * j\n",
    "        print(\"The factorial of\",i,\"is\",fact)"
   ]
  },
  {
   "cell_type": "code",
   "execution_count": 6,
   "id": "1cb5e331",
   "metadata": {},
   "outputs": [
    {
     "name": "stdout",
     "output_type": "stream",
     "text": [
      "enter range: 2,11\n",
      "2 is prime\n",
      "3 is prime\n",
      "4 is composite\n",
      "5 is prime\n",
      "6 is composite\n",
      "7 is prime\n",
      "8 is composite\n",
      "9 is composite\n",
      "10 is composite\n"
     ]
    }
   ],
   "source": [
    "#print prime and composite from a given list\n",
    "start,end=input(\"enter range: \").split(\",\")\n",
    "start=int(start)\n",
    "end=int(end)\n",
    "for i in range(start,end):\n",
    "    count=0\n",
    "    for j in range(1,i+1):\n",
    "        if i%j==0:\n",
    "            count=count+1\n",
    "    if count==2:\n",
    "        print(j,\"is prime\")\n",
    "    else:\n",
    "        print(j,\"is composite\")\n",
    "            "
   ]
  },
  {
   "cell_type": "code",
   "execution_count": 8,
   "id": "065038e9",
   "metadata": {},
   "outputs": [
    {
     "name": "stdout",
     "output_type": "stream",
     "text": [
      "enter a list:3,19,0,8,2,52\n",
      "3 is odd\n",
      "19 is odd\n",
      "0 is even\n",
      "8 is even\n",
      "2 is even\n",
      "52 is even\n"
     ]
    }
   ],
   "source": [
    "#take a list from user and determine odd and even nos.\n",
    "l=input(\"enter a list:\").split(\",\")\n",
    "for i in l:\n",
    "    i=int(i)\n",
    "    if i%2==0:\n",
    "        print(i,\"is even\")\n",
    "    else:\n",
    "        print(i,\"is odd\")"
   ]
  },
  {
   "cell_type": "markdown",
   "id": "96811bad",
   "metadata": {},
   "source": [
    "# 07/09/2022"
   ]
  },
  {
   "cell_type": "code",
   "execution_count": 15,
   "id": "cad61d17",
   "metadata": {},
   "outputs": [
    {
     "name": "stdout",
     "output_type": "stream",
     "text": [
      "enter a number: 1230\n",
      "321\n",
      "1230 not palindrom\n"
     ]
    }
   ],
   "source": [
    "#to reverse a no. and determine if palindrome or not\n",
    "num=int(input(\"enter a number: \"))\n",
    "temp=num\n",
    "rev=0\n",
    "if num==0:\n",
    "    print(\"reverse of \",0,\"is\",0)\n",
    "while(num!=0):\n",
    "    r=num%10\n",
    "    num=num//10\n",
    "    rev=rev*10+r\n",
    "print(rev)\n",
    "if temp!=rev:\n",
    "    print(temp,\"not palindrom\")\n",
    "else:\n",
    "    print(temp,\"is palindrom\")"
   ]
  },
  {
   "cell_type": "code",
   "execution_count": 7,
   "id": "f2da1af3",
   "metadata": {},
   "outputs": [
    {
     "name": "stdout",
     "output_type": "stream",
     "text": [
      "enter a number: 1230\n",
      "0321\n",
      "1230 is palindrom\n"
     ]
    }
   ],
   "source": [
    "#string reverse\n",
    "num=int(input(\"enter a number: \"))\n",
    "rev=\"\"\n",
    "temp=num\n",
    "while(num!=0):\n",
    "    r=num%10\n",
    "    r=str(r)\n",
    "    num=num//10\n",
    "    #print(r,end=\"\")\n",
    "    rev=rev+r\n",
    "print(rev)\n",
    "#print(temp)\n",
    "if rev==str(temp):\n",
    "    print(temp,\"not palindrom\")\n",
    "else:\n",
    "    print(temp,\"is palindrom\")"
   ]
  },
  {
   "cell_type": "code",
   "execution_count": 17,
   "id": "ce3c9fa6",
   "metadata": {},
   "outputs": [
    {
     "data": {
      "text/plain": [
       "'A'"
      ]
     },
     "execution_count": 17,
     "metadata": {},
     "output_type": "execute_result"
    }
   ],
   "source": [
    "chr(65)"
   ]
  },
  {
   "cell_type": "code",
   "execution_count": 18,
   "id": "157588e0",
   "metadata": {},
   "outputs": [
    {
     "data": {
      "text/plain": [
       "'%'"
      ]
     },
     "execution_count": 18,
     "metadata": {},
     "output_type": "execute_result"
    }
   ],
   "source": [
    "chr(37)"
   ]
  },
  {
   "cell_type": "code",
   "execution_count": 19,
   "id": "4561e635",
   "metadata": {},
   "outputs": [
    {
     "data": {
      "text/plain": [
       "65"
      ]
     },
     "execution_count": 19,
     "metadata": {},
     "output_type": "execute_result"
    }
   ],
   "source": [
    "ord(\"A\")"
   ]
  },
  {
   "cell_type": "markdown",
   "id": "bf401ed3",
   "metadata": {},
   "source": [
    "## hw"
   ]
  },
  {
   "cell_type": "code",
   "execution_count": 2,
   "id": "e6d90ee2",
   "metadata": {},
   "outputs": [
    {
     "name": "stdout",
     "output_type": "stream",
     "text": [
      "enter range: 1,9\n",
      "1 is composite\n",
      "2 is prime\n",
      "3 is prime\n",
      "4 is composite\n",
      "5 is prime\n",
      "6 is composite\n",
      "7 is prime\n",
      "8 is composite\n",
      "sum of primes is: 4\n",
      "sum of composites is: 4\n"
     ]
    }
   ],
   "source": [
    "#prime and composite in a range and total number of primes and composites\n",
    "start,end=input(\"enter range: \").split(\",\")\n",
    "start=int(start)\n",
    "end=int(end)\n",
    "sum_p=0\n",
    "sum_c=0\n",
    "for i in range(start,end):\n",
    "    count=0\n",
    "    for j in range(1,i+1):\n",
    "        if i%j==0:\n",
    "            count=count+1\n",
    "    if count==2:\n",
    "        print(j,\"is prime\")\n",
    "        sum_p+=1\n",
    "    else:\n",
    "        print(j,\"is composite\")\n",
    "        sum_c+=1\n",
    "print(\"sum of primes is:\",sum_p)\n",
    "print(\"sum of composites is:\",sum_c)       "
   ]
  },
  {
   "cell_type": "code",
   "execution_count": 5,
   "id": "22810fa9",
   "metadata": {},
   "outputs": [
    {
     "name": "stdout",
     "output_type": "stream",
     "text": [
      "enter a list:121,12321,123,1567\n",
      "['121', '12321', '123', '1567']\n",
      "121 is palindrome\n",
      "12321 is palindrome\n",
      "321 not palindrome\n",
      "7651 not palindrome\n"
     ]
    }
   ],
   "source": [
    "#take a list from user and display palindrome or not\n",
    "l=input(\"enter a list:\").split(\",\")\n",
    "print(l)\n",
    "for num in l:\n",
    "    num=int(num)\n",
    "    rev=0\n",
    "    temp=num\n",
    "    while(num!=0):\n",
    "        r=num%10\n",
    "        num=num//10\n",
    "        rev=rev*10+r\n",
    "    print(rev,end=\" \")\n",
    "    if rev==temp:\n",
    "        print(\"is palindrome\")\n",
    "    else:\n",
    "        print(\"not palindrome\")\n",
    "    \n"
   ]
  },
  {
   "cell_type": "markdown",
   "id": "25c5ee1c",
   "metadata": {},
   "source": [
    "# 08/09/2022"
   ]
  },
  {
   "cell_type": "code",
   "execution_count": 3,
   "id": "7e18515c",
   "metadata": {},
   "outputs": [
    {
     "name": "stdout",
     "output_type": "stream",
     "text": [
      "enter the no.:1\n",
      "do you wish to enter more then enter 1 otherwise 0:1\n",
      "enter the no.:6\n",
      "do you wish to enter more then enter 1 otherwise 0:0\n",
      "7\n"
     ]
    }
   ],
   "source": [
    "#menu driven program\n",
    "sum=0\n",
    "while(1):\n",
    "    num=int(input(\"enter the no.:\"))\n",
    "    sum=sum+num\n",
    "    choice=input(\"do you wish to enter more then enter 1 otherwise 0:\")\n",
    "    if choice==\"1\":\n",
    "        continue\n",
    "    elif choice==\"0\":\n",
    "        break\n",
    "    else:\n",
    "        print(\"invalid choice\")\n",
    "print(sum)\n",
    "        \n",
    "        "
   ]
  },
  {
   "cell_type": "markdown",
   "id": "27479ef5",
   "metadata": {},
   "source": [
    "# hw"
   ]
  },
  {
   "cell_type": "code",
   "execution_count": 1,
   "id": "0b317e0f",
   "metadata": {},
   "outputs": [
    {
     "name": "stdout",
     "output_type": "stream",
     "text": [
      "enter a number: 1234\n",
      "10\n"
     ]
    }
   ],
   "source": [
    "#wap to do sum of digits of a number\n",
    "num=int(input(\"enter a number: \"))\n",
    "sum=0\n",
    "while(num!=0):\n",
    "    r=num%10\n",
    "    num=num//10\n",
    "    sum=sum+r\n",
    "print(sum)"
   ]
  },
  {
   "cell_type": "code",
   "execution_count": 5,
   "id": "5a040526",
   "metadata": {},
   "outputs": [
    {
     "name": "stdout",
     "output_type": "stream",
     "text": [
      "enter the number371\n",
      "371\n",
      "371 is armstrong number\n"
     ]
    }
   ],
   "source": [
    "#armstrong number or not like 0,1,153, 370, 371 and 407 are the Armstrong numbers.\n",
    "n=int(input(\"enter the number\"))\n",
    "sum=0\n",
    "temp=n\n",
    "while(n!=0):\n",
    "    r=n%10\n",
    "    n=n//10\n",
    "    sum=sum+r*r*r\n",
    "print(sum)\n",
    "if temp==sum:\n",
    "    print(temp,\"is armstrong number\")\n",
    "else :\n",
    "    print(temp,\"is not armstrong\")\n"
   ]
  },
  {
   "cell_type": "code",
   "execution_count": null,
   "id": "35e242fb",
   "metadata": {},
   "outputs": [],
   "source": []
  }
 ],
 "metadata": {
  "kernelspec": {
   "display_name": "Python 3 (ipykernel)",
   "language": "python",
   "name": "python3"
  },
  "language_info": {
   "codemirror_mode": {
    "name": "ipython",
    "version": 3
   },
   "file_extension": ".py",
   "mimetype": "text/x-python",
   "name": "python",
   "nbconvert_exporter": "python",
   "pygments_lexer": "ipython3",
   "version": "3.9.12"
  }
 },
 "nbformat": 4,
 "nbformat_minor": 5
}
