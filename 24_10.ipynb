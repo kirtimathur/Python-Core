{
 "cells": [
  {
   "cell_type": "code",
   "execution_count": 1,
   "id": "f5531e03",
   "metadata": {},
   "outputs": [
    {
     "name": "stdout",
     "output_type": "stream",
     "text": [
      "enter the name of the students:raven\n",
      "enter marks of Mathematics:89\n",
      "enter marks of Physics:78\n",
      "enter marks of Computer Science:97\n",
      "264  is the total of marks\n",
      "88.0  is the overall percentage\n"
     ]
    }
   ],
   "source": [
    "#Write a function which takes the students details as name,marks of 3 subjects and display total marks and his percentage.\n",
    "\n",
    "def marks():\n",
    "    name=input(\"enter the name of the students:\")\n",
    "    m1=int(input(\"enter marks of Mathematics:\"))\n",
    "    m2=int(input(\"enter marks of Physics:\"))\n",
    "    m3=int(input(\"enter marks of Computer Science:\"))\n",
    "    sum=m1+m2+m3\n",
    "    print(sum,\" is the total of marks\")\n",
    "    per=sum/3\n",
    "    print(per,\" is the overall percentage\")\n",
    "marks()"
   ]
  },
  {
   "cell_type": "code",
   "execution_count": 3,
   "id": "f47be48b",
   "metadata": {},
   "outputs": [
    {
     "name": "stdout",
     "output_type": "stream",
     "text": [
      "enter the age:16\n",
      "not eligible to vote\n"
     ]
    }
   ],
   "source": [
    "#Write a function to tell user if he/she is able to vote or not.\n",
    "\n",
    "def vote(age):\n",
    "    if age>=18:\n",
    "        print(\"eligible to vote\")\n",
    "    else:\n",
    "        print(\"not eligible to vote\")\n",
    "a=int(input(\"enter the age:\"))\n",
    "v=vote(a)"
   ]
  },
  {
   "cell_type": "code",
   "execution_count": 4,
   "id": "30b1faaa",
   "metadata": {},
   "outputs": [
    {
     "name": "stdout",
     "output_type": "stream",
     "text": [
      "enter length and width:6,7\n",
      "42 is the area\n",
      "26 is the perimeter\n"
     ]
    }
   ],
   "source": [
    "#Write a function to calculate area and perimeter of a rectangle.\n",
    "\n",
    "def rec(l,b):\n",
    "    print(l*b,\"is the area\")\n",
    "    print(2*(l+b),\"is the perimeter\")\n",
    "    \n",
    "le,wid=input(\"enter length and width:\").split(\",\")\n",
    "le=int(le)\n",
    "wid=int(wid)\n",
    "r=rec(le,wid)"
   ]
  },
  {
   "cell_type": "code",
   "execution_count": 5,
   "id": "3dc1b34c",
   "metadata": {},
   "outputs": [
    {
     "name": "stdout",
     "output_type": "stream",
     "text": [
      "enter the radius:7\n",
      "308.0 is the circumference of the circle\n"
     ]
    }
   ],
   "source": [
    "#Write a function to calculate area and circumference of a circle.\n",
    "\n",
    "def circum(r):\n",
    "    print(2*(22/7)*r*r,\"is the circumference of the circle\")\n",
    "rad=float(input(\"enter the radius:\"))\n",
    "c=circum(rad)"
   ]
  },
  {
   "cell_type": "code",
   "execution_count": 7,
   "id": "5429b755",
   "metadata": {},
   "outputs": [
    {
     "name": "stdout",
     "output_type": "stream",
     "text": [
      "enter a list:5,9,1,4\n",
      "180 is multiplication of all elements\n"
     ]
    }
   ],
   "source": [
    "#Write a function to calculate the multiplication of all the elements in the list.\n",
    "\n",
    "def mul():\n",
    "    m=1\n",
    "    for i in l:\n",
    "        i=int(i)\n",
    "        m=m*i\n",
    "    print(m,\"is multiplication of all elements\")\n",
    "    \n",
    "l=input(\"enter a list:\").split(\",\")\n",
    "mul()"
   ]
  },
  {
   "cell_type": "code",
   "execution_count": null,
   "id": "a915c87d",
   "metadata": {},
   "outputs": [],
   "source": []
  }
 ],
 "metadata": {
  "kernelspec": {
   "display_name": "Python 3 (ipykernel)",
   "language": "python",
   "name": "python3"
  },
  "language_info": {
   "codemirror_mode": {
    "name": "ipython",
    "version": 3
   },
   "file_extension": ".py",
   "mimetype": "text/x-python",
   "name": "python",
   "nbconvert_exporter": "python",
   "pygments_lexer": "ipython3",
   "version": "3.9.12"
  }
 },
 "nbformat": 4,
 "nbformat_minor": 5
}
