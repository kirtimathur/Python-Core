{
 "cells": [
  {
   "cell_type": "code",
   "execution_count": 1,
   "id": "d50663ab",
   "metadata": {},
   "outputs": [
    {
     "name": "stdout",
     "output_type": "stream",
     "text": [
      "Aman,Aplan,Agoodman:\n",
      "AmanAplanAgoodman\n",
      "not\n"
     ]
    }
   ],
   "source": [
    "#q.1 u need to lower all the characters in the given string s = \"A man, A plan, A goodman:\" and remove all non-alphanumeric \n",
    "#characters from the string and check after removing if the string is palindrome or not.\n",
    "s=\"A man, A plan, A goodman:\"\n",
    "s1=s.replace(\" \",\"\")\n",
    "print(s1)\n",
    "s1=s1.replace(\",\",\"\").replace(\":\",\"\")\n",
    "print(s1)\n",
    "l_s=s1.lower()\n",
    "if l_s==l_s[::-1]:\n",
    "    print(\"palindorme\")\n",
    "else:\n",
    "    print(\"not\")"
   ]
  },
  {
   "cell_type": "code",
   "execution_count": 2,
   "id": "76ff47aa",
   "metadata": {},
   "outputs": [
    {
     "name": "stdout",
     "output_type": "stream",
     "text": [
      "{'no bun': 0, 'bug bun bug bun bug bug': 4, 'bunny bug': 1, 'buggy bug bug buggy': 4}\n",
      "dict_items([('no bun', 0), ('bug bun bug bun bug bug', 4), ('bunny bug', 1), ('buggy bug bug buggy', 4)])\n",
      "[('bug bun bug bun bug bug', 4), ('buggy bug bug buggy', 4), ('bunny bug', 1), ('no bun', 0)]\n",
      "['bug bun bug bun bug bug', 'buggy bug bug buggy', 'bunny bug', 'no bun']\n"
     ]
    }
   ],
   "source": [
    "#q.2 Take a list containg only strings. Now, take a string input from user and rearrange the elements of the list \n",
    "#according to the number of occurence of the string taken from user in the elements of the list.\n",
    "#E.g.-LIST : [\"no bun\",\"bug bun bug bun bug bug\",\"bunny bug\",\"buggy bug bug buggy\"]\n",
    "\n",
    "#STRING TAKEN : \"bug\"\n",
    "\n",
    "#OUTPUT LIST:[\"bug bun bug bun bug bug\",\"buggy bug bug buggy\",\"bunny bug\",\"no bun\"]\n",
    "\n",
    "l=[\"no bun\",\"bug bun bug bun bug bug\",\"bunny bug\",\"buggy bug bug buggy\"]\n",
    "d={}\n",
    "for i in l:\n",
    "    v=i.count(\"bug\")\n",
    "    d[i]=v\n",
    "print(d)\n",
    "print(d.items())\n",
    "k=sorted(d.items(),key=lambda t:t[1],reverse=True)\n",
    "print(k)\n",
    "l1=[]\n",
    "for i in k:\n",
    "    l1.append(i[0])\n",
    "print(l1)"
   ]
  },
  {
   "cell_type": "code",
   "execution_count": null,
   "id": "fb3a664f",
   "metadata": {},
   "outputs": [],
   "source": []
  }
 ],
 "metadata": {
  "kernelspec": {
   "display_name": "Python 3 (ipykernel)",
   "language": "python",
   "name": "python3"
  },
  "language_info": {
   "codemirror_mode": {
    "name": "ipython",
    "version": 3
   },
   "file_extension": ".py",
   "mimetype": "text/x-python",
   "name": "python",
   "nbconvert_exporter": "python",
   "pygments_lexer": "ipython3",
   "version": "3.9.12"
  }
 },
 "nbformat": 4,
 "nbformat_minor": 5
}
