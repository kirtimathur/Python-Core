{
 "cells": [
  {
   "cell_type": "code",
   "execution_count": 1,
   "id": "90950413",
   "metadata": {},
   "outputs": [
    {
     "name": "stdout",
     "output_type": "stream",
     "text": [
      "enter the password according requirements:Wandarer123#\n",
      "password accepted\n",
      "1\n",
      "7\n",
      "3\n",
      "1\n"
     ]
    }
   ],
   "source": [
    "#wap to input a password from user and check validity of the password -> minimum one uppercase,lowercase,digit,\n",
    "#special char -> minimum length of pass should be 10. -> menu driven-> gives 5 attempts\n",
    "\n",
    "u,lo,d,c=0,0,0,0\n",
    "for j in range(0,5): #can use while true\n",
    "    pas=input(\"enter the password according requirements:\")\n",
    "    for i in pas:\n",
    "        if i.isupper():\n",
    "            u+=1\n",
    "        elif i.islower():\n",
    "            lo+=1\n",
    "        elif i.isdigit():\n",
    "            d+=1\n",
    "        else:\n",
    "            c+=1\n",
    "    if len(pas)>=10 and u>=1 and lo>=1 and d>=1 and c>=1:\n",
    "        print(\"password accepted\")\n",
    "        break\n",
    "    else:\n",
    "        print(\"password doesn't meet the requirements, enter again\")\n",
    "print(u)\n",
    "print(lo)\n",
    "print(d)\n",
    "print(c)"
   ]
  },
  {
   "cell_type": "code",
   "execution_count": 2,
   "id": "ed558cb7",
   "metadata": {},
   "outputs": [
    {
     "name": "stdout",
     "output_type": "stream",
     "text": [
      "enter a string:STRING\n",
      "string\n"
     ]
    }
   ],
   "source": [
    "#Write a program to accept a string and display the string with changed case(Change upper and lower case)\n",
    "\n",
    "s=input(\"enter a string:\")\n",
    "for i in s:\n",
    "    s1=s.swapcase()\n",
    "print(s1)\n"
   ]
  },
  {
   "cell_type": "code",
   "execution_count": 3,
   "id": "c78924c4",
   "metadata": {},
   "outputs": [
    {
     "name": "stdout",
     "output_type": "stream",
     "text": [
      "enter a string:string\n",
      "6 is the length of the string\n"
     ]
    }
   ],
   "source": [
    "#Write a program to count the length of string without using len() function.\n",
    "\n",
    "s=input(\"enter a string:\")\n",
    "count=0\n",
    "for i in s:\n",
    "    count+=1\n",
    "print(count,\"is the length of the string\")"
   ]
  },
  {
   "cell_type": "code",
   "execution_count": 5,
   "id": "ffca4872",
   "metadata": {},
   "outputs": [
    {
     "name": "stdout",
     "output_type": "stream",
     "text": [
      "enter a string:str\n",
      "115 is the ascii value of  s\n",
      "116 is the ascii value of  t\n",
      "114 is the ascii value of  r\n"
     ]
    }
   ],
   "source": [
    "#Write a program to accept the string from user and display the ascii value for each letter.\n",
    "\n",
    "s=input(\"enter a string:\")\n",
    "for i in s:\n",
    "    print(ord(i),\"is the ascii value of \",i)"
   ]
  },
  {
   "cell_type": "code",
   "execution_count": null,
   "id": "27025514",
   "metadata": {},
   "outputs": [],
   "source": []
  }
 ],
 "metadata": {
  "kernelspec": {
   "display_name": "Python 3 (ipykernel)",
   "language": "python",
   "name": "python3"
  },
  "language_info": {
   "codemirror_mode": {
    "name": "ipython",
    "version": 3
   },
   "file_extension": ".py",
   "mimetype": "text/x-python",
   "name": "python",
   "nbconvert_exporter": "python",
   "pygments_lexer": "ipython3",
   "version": "3.9.12"
  }
 },
 "nbformat": 4,
 "nbformat_minor": 5
}
