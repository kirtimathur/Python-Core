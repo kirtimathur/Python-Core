{
 "cells": [
  {
   "cell_type": "code",
   "execution_count": 1,
   "id": "85c9fe4a",
   "metadata": {},
   "outputs": [
    {
     "name": "stdout",
     "output_type": "stream",
     "text": [
      "enter two numbers:89,67\n",
      "(156, 22) addition and subtraction respectively\n"
     ]
    }
   ],
   "source": [
    "#Write a function name calculation which accepts two variables and calculate addition and subtraction. Also it returns both \n",
    "#addition and subtraction result in a single return call.\n",
    "\n",
    "def calc(num1,num2):\n",
    "    sum=num1+num2\n",
    "    if num1>=num2:\n",
    "        sub=num1-num2\n",
    "    else:\n",
    "        sub=num2-num1\n",
    "    return sum,sub \n",
    "n1,n2=input(\"enter two numbers:\").split(\",\")\n",
    "n1=int(n1)\n",
    "n2=int(n2)\n",
    "c=calc(n1,n2)\n",
    "print(c,\"addition and subtraction respectively\")"
   ]
  },
  {
   "cell_type": "code",
   "execution_count": 3,
   "id": "53a7c125",
   "metadata": {},
   "outputs": [
    {
     "name": "stdout",
     "output_type": "stream",
     "text": [
      "enter three numbers:-89,9,0\n",
      "9 is maximum\n"
     ]
    }
   ],
   "source": [
    "#Write a function which computes maximum of three numbers\n",
    "\n",
    "def fun(x,y,z):\n",
    "    if x>=y and x>=z:\n",
    "        return x\n",
    "    elif y>=x and y>=z:\n",
    "        return y\n",
    "    elif z>=x and z>=y:\n",
    "        return z\n",
    "    \n",
    "n1,n2,n3=input(\"enter three numbers:\").split(\",\")\n",
    "n1=int(n1)\n",
    "n2=int(n2)\n",
    "n3=int(n3)\n",
    "f=fun(n1,n2,n3)\n",
    "print(f,\"is maximum\")"
   ]
  },
  {
   "cell_type": "code",
   "execution_count": 6,
   "id": "34a39dbd",
   "metadata": {},
   "outputs": [
    {
     "name": "stdout",
     "output_type": "stream",
     "text": [
      "enter two numbers:-9,0\n",
      "-4 is the sum\n"
     ]
    }
   ],
   "source": [
    "#Create an outer function that will accept two parameters, a and b .Create an inner function inside an outer function that \n",
    "#will calculate the addition of a and b .At last, an outer function will add 5 into addition and return it\n",
    "\n",
    "def out(a,b):\n",
    "    def inn(a1,b1):\n",
    "        add=a1+b1\n",
    "        return add\n",
    "    \n",
    "    i=inn(a,b)\n",
    "    return i+5\n",
    "\n",
    "n1,n2=input(\"enter two numbers:\").split(\",\")\n",
    "n1=int(n1)\n",
    "n2=int(n2)\n",
    "o=out(n1,n2)\n",
    "print(o,\"is the sum\")"
   ]
  },
  {
   "cell_type": "code",
   "execution_count": 7,
   "id": "a024f23e",
   "metadata": {},
   "outputs": [
    {
     "name": "stdout",
     "output_type": "stream",
     "text": [
      "enter a number: 78651\n",
      "2 is the no. of even digits\n",
      "3 is the no. of odd digits\n"
     ]
    }
   ],
   "source": [
    "#Write a function which counts the even digits and odd digits in the number entered by user.\n",
    "\n",
    "def dig(num):\n",
    "    sum_e=0\n",
    "    sum_o=0\n",
    "    while(num!=0):\n",
    "        r=num%10\n",
    "        if r%2==0:\n",
    "            sum_e+=1\n",
    "        else:\n",
    "            sum_o+=1\n",
    "        num=num//10\n",
    "    print(sum_e,\"is the no. of even digits\")\n",
    "    print(sum_o,\"is the no. of odd digits\")\n",
    "        \n",
    "n=int(input(\"enter a number: \"))\n",
    "d=dig(n)"
   ]
  },
  {
   "cell_type": "code",
   "execution_count": null,
   "id": "56f2531b",
   "metadata": {},
   "outputs": [],
   "source": []
  }
 ],
 "metadata": {
  "kernelspec": {
   "display_name": "Python 3 (ipykernel)",
   "language": "python",
   "name": "python3"
  },
  "language_info": {
   "codemirror_mode": {
    "name": "ipython",
    "version": 3
   },
   "file_extension": ".py",
   "mimetype": "text/x-python",
   "name": "python",
   "nbconvert_exporter": "python",
   "pygments_lexer": "ipython3",
   "version": "3.9.12"
  }
 },
 "nbformat": 4,
 "nbformat_minor": 5
}
