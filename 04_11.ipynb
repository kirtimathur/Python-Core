{
 "cells": [
  {
   "cell_type": "code",
   "execution_count": 4,
   "id": "5345f0cf",
   "metadata": {},
   "outputs": [
    {
     "name": "stdout",
     "output_type": "stream",
     "text": [
      "enter a list:a,b,c,d,e,f,g,h\n",
      "enter the index of element to be removed:4\n",
      "['e', 'f', 'g', 'h']\n"
     ]
    }
   ],
   "source": [
    "#Q.13 How to remove elements in a list before a specific index\n",
    "\n",
    "'''l=input(\"enter a list:\").split(\",\")\n",
    "pos=int(input(\"enter the index of element to be removed:\"))\n",
    "for i in l:\n",
    "    del l[pos]\n",
    "    break\n",
    "print(l)'''\n",
    "l=input(\"enter a list:\").split(\",\")\n",
    "pos=int(input(\"enter the index of element to be removed:\"))\n",
    "l1=len(l)\n",
    "if pos<=len(l):\n",
    "    l=l[pos:l1]\n",
    "print(l)"
   ]
  },
  {
   "cell_type": "code",
   "execution_count": 5,
   "id": "e9e65a24",
   "metadata": {},
   "outputs": [
    {
     "name": "stdout",
     "output_type": "stream",
     "text": [
      "enter a string:str\n",
      "rts\n"
     ]
    }
   ],
   "source": [
    "#Q. print string reverse using for and while loop\n",
    "\n",
    "s=input(\"enter a string:\")\n",
    "i=len(s)-1\n",
    "s1=\"\"\n",
    "while(i>=0):\n",
    "    s1=s1+s[i]\n",
    "    i-=1\n",
    "print(s1)"
   ]
  },
  {
   "cell_type": "code",
   "execution_count": 6,
   "id": "ec5dc9fa",
   "metadata": {},
   "outputs": [
    {
     "name": "stdout",
     "output_type": "stream",
     "text": [
      "enter a string:candies\n",
      "seidnac\n"
     ]
    }
   ],
   "source": [
    "s=input(\"enter a string:\")\n",
    "i=len(s)-1\n",
    "s1=\"\"\n",
    "for i in range(i,-1,-1):\n",
    "    s1=s1+s[i]\n",
    "print(s1)    "
   ]
  },
  {
   "cell_type": "code",
   "execution_count": 7,
   "id": "b36ad9a6",
   "metadata": {},
   "outputs": [
    {
     "name": "stdout",
     "output_type": "stream",
     "text": [
      "{1: 1, 2: 4, 3: 9, 4: 16, 5: 25, 6: 36, 7: 49, 8: 64, 9: 81, 10: 100, 11: 121, 12: 144, 13: 169, 14: 196, 15: 225}\n"
     ]
    }
   ],
   "source": [
    "#Q.create a dict with keys and values as squares\n",
    "\n",
    "d={}\n",
    "for i in range(1,16): #i=keys\n",
    "    d[i]=i*i\n",
    "print(d)"
   ]
  },
  {
   "cell_type": "code",
   "execution_count": null,
   "id": "115a9eac",
   "metadata": {},
   "outputs": [],
   "source": []
  }
 ],
 "metadata": {
  "kernelspec": {
   "display_name": "Python 3 (ipykernel)",
   "language": "python",
   "name": "python3"
  },
  "language_info": {
   "codemirror_mode": {
    "name": "ipython",
    "version": 3
   },
   "file_extension": ".py",
   "mimetype": "text/x-python",
   "name": "python",
   "nbconvert_exporter": "python",
   "pygments_lexer": "ipython3",
   "version": "3.9.12"
  }
 },
 "nbformat": 4,
 "nbformat_minor": 5
}
