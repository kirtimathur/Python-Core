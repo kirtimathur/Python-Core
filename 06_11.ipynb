{
 "cells": [
  {
   "cell_type": "code",
   "execution_count": 1,
   "id": "ff2932b3",
   "metadata": {},
   "outputs": [
    {
     "name": "stdout",
     "output_type": "stream",
     "text": [
      "{'Math': [88, 89, 90], 'Physics': [92, 94, 87], 'Chemistry': [90, 87, 93]}\n"
     ]
    }
   ],
   "source": [
    "'''A Python Dictionary contains List as value. Write a Python program to update the list values in the said dictionary. \n",
    "{'Math': [88, 89, 90], 'Physics': [92, 94, 87], 'Chemistry': [90, 87, 93]}\n",
    "Update the list values of the said dictionary:\n",
    "given :  {'Math': [89, 90, 91], 'Physics': [90, 92, 87], 'Chemistry': [90, 87, 93]}\n",
    "'''\n",
    "\n",
    "'''dup={'Math': [88, 89, 90], 'Physics': [92, 94, 87], 'Chemistry': [90, 87, 93]}\n",
    "d={'Math': [89, 90, 91], 'Physics': [90, 92, 87], 'Chemistry': [90, 87, 93]}\n",
    "d.update(dup)\n",
    "print(dup)'''\n",
    "\n",
    "d={'Math': [89, 90, 91], 'Physics': [90, 92, 87], 'Chemistry': [90, 87, 93]}\n",
    "for i in d:\n",
    "    if i=='Math':\n",
    "        d[i][0]=88\n",
    "        d[i][1]=89\n",
    "        d[i][2]=90\n",
    "    if i=='Physics':\n",
    "        d[i][0]=92\n",
    "        d[i][1]=94\n",
    "print(d)"
   ]
  },
  {
   "cell_type": "code",
   "execution_count": 2,
   "id": "9b2d1970",
   "metadata": {},
   "outputs": [
    {
     "name": "stdout",
     "output_type": "stream",
     "text": [
      "{1: [1, 2]}\n",
      "{2: [3, 4]}\n",
      "{3: [5, 6]}\n",
      "[{1: [1, 2]}, {2: [3, 4]}, {3: [5, 6]}]\n"
     ]
    }
   ],
   "source": [
    "'''Wap to convert dictionary of list to list of dictionaries \n",
    "d = {1:[1,2],2:[3,4],3:[5,6]}\n",
    "output\n",
    "l = [{1:[1,2]},{2:[3,4]},{3:[5,6]}]\n",
    "'''\n",
    "\n",
    "d = {1:[1,2],2:[3,4],3:[5,6]}\n",
    "l=[]\n",
    "d1={}\n",
    "d2={}\n",
    "d3={}\n",
    "for i in d:\n",
    "    if i==1:\n",
    "        d1[i]=d[i]\n",
    "        print(d1)\n",
    "    if i==2:\n",
    "        d2[i]=d[i]\n",
    "        print(d2)\n",
    "    if i==3:\n",
    "        d3[i]=d[i]\n",
    "        print(d3)\n",
    "l.append(d1)\n",
    "l.append(d2)\n",
    "l.append(d3)\n",
    "print(l)"
   ]
  },
  {
   "cell_type": "code",
   "execution_count": null,
   "id": "5a1a13d7",
   "metadata": {},
   "outputs": [],
   "source": []
  }
 ],
 "metadata": {
  "kernelspec": {
   "display_name": "Python 3 (ipykernel)",
   "language": "python",
   "name": "python3"
  },
  "language_info": {
   "codemirror_mode": {
    "name": "ipython",
    "version": 3
   },
   "file_extension": ".py",
   "mimetype": "text/x-python",
   "name": "python",
   "nbconvert_exporter": "python",
   "pygments_lexer": "ipython3",
   "version": "3.9.12"
  }
 },
 "nbformat": 4,
 "nbformat_minor": 5
}
