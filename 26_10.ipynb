{
 "cells": [
  {
   "cell_type": "code",
   "execution_count": 1,
   "id": "7fd5f740",
   "metadata": {},
   "outputs": [
    {
     "name": "stdout",
     "output_type": "stream",
     "text": [
      "enter a string:madrid\n",
      "d adri m\n",
      "dadrim\n"
     ]
    }
   ],
   "source": [
    "#wap to change a given string to a new string where the 1st and last char have been exchanged.\n",
    "\n",
    "def exchange(str):\n",
    "    return str[-1:]+str[1:-1]+str[:1] #or str[1:5]\n",
    "s=input(\"enter a string:\")\n",
    "print(s[-1:],s[1:-1],s[:1])\n",
    "e=exchange(s)\n",
    "print(e)"
   ]
  },
  {
   "cell_type": "code",
   "execution_count": 3,
   "id": "eaa4cc26",
   "metadata": {},
   "outputs": [
    {
     "name": "stdout",
     "output_type": "stream",
     "text": [
      "enter a string:string\n",
      "srn\n"
     ]
    }
   ],
   "source": [
    "#wap to remove the character which have odd index value in a given string\n",
    "\n",
    "s=input(\"enter a string:\") #concatenate\n",
    "even=\"\"\n",
    "for i in range(len(s)):\n",
    "    if i%2==0:\n",
    "        even=even+s[i]\n",
    "print(even)\n",
    "        "
   ]
  },
  {
   "cell_type": "code",
   "execution_count": 5,
   "id": "47f64986",
   "metadata": {},
   "outputs": [
    {
     "name": "stdout",
     "output_type": "stream",
     "text": [
      "enter a string:strings\n",
      "s --- 2\n",
      "t --- 1\n",
      "r --- 1\n",
      "i --- 1\n",
      "n --- 1\n",
      "g --- 1\n",
      "s --- 2\n"
     ]
    }
   ],
   "source": [
    "#wap to count the no. of chars in a string.\n",
    "\n",
    "s=input(\"enter a string:\")\n",
    "for i in s:\n",
    "    print(i,\"---\",s.count(i))"
   ]
  },
  {
   "cell_type": "code",
   "execution_count": 6,
   "id": "3116664a",
   "metadata": {},
   "outputs": [
    {
     "name": "stdout",
     "output_type": "stream",
     "text": [
      "enter the string:strings\n",
      "strings\n"
     ]
    },
    {
     "data": {
      "text/plain": [
       "Counter({'s': 2, 't': 1, 'r': 1, 'i': 1, 'n': 1, 'g': 1})"
      ]
     },
     "execution_count": 6,
     "metadata": {},
     "output_type": "execute_result"
    }
   ],
   "source": [
    "#wap to count the no. of chars in a string distinctly\n",
    "from collections import Counter #collection is a lib\n",
    "s=input(\"enter the string:\")\n",
    "print(s)\n",
    "Counter(s)"
   ]
  },
  {
   "cell_type": "code",
   "execution_count": null,
   "id": "81fc2ccc",
   "metadata": {},
   "outputs": [],
   "source": []
  }
 ],
 "metadata": {
  "kernelspec": {
   "display_name": "Python 3 (ipykernel)",
   "language": "python",
   "name": "python3"
  },
  "language_info": {
   "codemirror_mode": {
    "name": "ipython",
    "version": 3
   },
   "file_extension": ".py",
   "mimetype": "text/x-python",
   "name": "python",
   "nbconvert_exporter": "python",
   "pygments_lexer": "ipython3",
   "version": "3.9.12"
  }
 },
 "nbformat": 4,
 "nbformat_minor": 5
}
