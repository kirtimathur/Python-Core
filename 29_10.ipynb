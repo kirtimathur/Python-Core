{
 "cells": [
  {
   "cell_type": "code",
   "execution_count": 1,
   "id": "4d3cecc7",
   "metadata": {},
   "outputs": [
    {
     "name": "stdout",
     "output_type": "stream",
     "text": [
      "enter a string:striing\n",
      "strng\n"
     ]
    }
   ],
   "source": [
    "#WAP to remove vowels from the string.\n",
    "\n",
    "s=input(\"enter a string:\")\n",
    "#v=('a','e','i','o','u','A','E','I','O','U')\n",
    "v=\"aeiouAEIOU\"\n",
    "s1=\"\"\n",
    "for i in range(0,len(s)):\n",
    "    if s[i] not in v:\n",
    "        s1+=s[i]\n",
    "print(s1)"
   ]
  },
  {
   "cell_type": "code",
   "execution_count": 2,
   "id": "2d52fe77",
   "metadata": {},
   "outputs": [
    {
     "name": "stdout",
     "output_type": "stream",
     "text": [
      "enter the name:Robert Brett Roser\n",
      "R.B.Roser\n"
     ]
    }
   ],
   "source": [
    "#Write a program that takes full name as input and displays the abbrevations of the first and middle names except \n",
    "#the last name which is displayed as it is. Eg: Robert Brett Roser output :R.B.Roser.\n",
    "\n",
    "name=input(\"enter the name:\")\n",
    "l=name.split(\" \")\n",
    "print(l[0][0],\".\",l[1][0],\".\",l[2][:],sep=\"\")"
   ]
  },
  {
   "cell_type": "code",
   "execution_count": 3,
   "id": "8e4397f4",
   "metadata": {},
   "outputs": [
    {
     "name": "stdout",
     "output_type": "stream",
     "text": [
      "enter a string:wkresource\n",
      "wkce\n"
     ]
    }
   ],
   "source": [
    "'''Q.10 Write a Python program to get a string made of the first 2 and the last 2 chars from a given a string. \n",
    "If the string length is less than 2, return instead of the empty string.\n",
    "\n",
    "Sample String : 'wkresource'\n",
    "Expected Result : 'wkce'\n",
    "Sample String : 'wk'\n",
    "Expected Result : 'wkwk'\n",
    "Sample String : ' w'\n",
    "Expected Result : Empty String'''\n",
    "s=input(\"enter a string:\")\n",
    "l=len(s)\n",
    "for i in s:\n",
    "    if l==2:\n",
    "        print(s*2,end=\"\")\n",
    "    elif l<2:\n",
    "        print(\"empty string\")\n",
    "    else:\n",
    "        s=s[0:2]+s[-1:-3:-1]\n",
    "print(s)"
   ]
  },
  {
   "cell_type": "code",
   "execution_count": 5,
   "id": "b0848f7d",
   "metadata": {},
   "outputs": [
    {
     "name": "stdout",
     "output_type": "stream",
     "text": [
      "enter two string:abc,xyz\n",
      "abc xyz\n",
      "xyc abz\n"
     ]
    }
   ],
   "source": [
    "'''Q.12 Write a Python program to get a single string from two given strings, \n",
    "separated by a space and swap the first two characters of each string. Go to the editor\n",
    "Sample String : 'abc', 'xyz'\n",
    "Expected Result : 'xyc abz'''\n",
    "a,b=input(\"enter two string:\").split(\",\")\n",
    "for i in a:\n",
    "    d=a[0:]\n",
    "    for j in b:\n",
    "        e=b[0:]\n",
    "c=d+\" \"+e\n",
    "print(c)\n",
    "for k in c:\n",
    "    c=b[0:2]+a[2:]+\" \"+a[0:2]+b[2:]\n",
    "print(c)   "
   ]
  },
  {
   "cell_type": "code",
   "execution_count": null,
   "id": "3026cc27",
   "metadata": {},
   "outputs": [],
   "source": []
  }
 ],
 "metadata": {
  "kernelspec": {
   "display_name": "Python 3 (ipykernel)",
   "language": "python",
   "name": "python3"
  },
  "language_info": {
   "codemirror_mode": {
    "name": "ipython",
    "version": 3
   },
   "file_extension": ".py",
   "mimetype": "text/x-python",
   "name": "python",
   "nbconvert_exporter": "python",
   "pygments_lexer": "ipython3",
   "version": "3.9.12"
  }
 },
 "nbformat": 4,
 "nbformat_minor": 5
}
