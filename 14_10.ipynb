{
 "cells": [
  {
   "cell_type": "code",
   "execution_count": 3,
   "id": "61eb9a1a",
   "metadata": {},
   "outputs": [
    {
     "name": "stdout",
     "output_type": "stream",
     "text": [
      "enter a list:12,7889,34,789,7000,12\n",
      "12 is not a lucky no.\n",
      "7889 is lucky no.\n",
      "34 is not a lucky no.\n",
      "789 is not a lucky no.\n",
      "7000 is lucky no.\n",
      "12 is not a lucky no.\n"
     ]
    }
   ],
   "source": [
    "#Q. Write a program whether the given list of number is lucky. a lucky list contains at least one number is divisible by 7.\n",
    "\n",
    "l=input(\"enter a list:\").split(\",\")\n",
    "for i in l:\n",
    "    i=int(i)\n",
    "    if i%7==0:\n",
    "        print(i,\"is lucky no.\")\n",
    "    else:\n",
    "        print(i,\"is not a lucky no.\")"
   ]
  },
  {
   "cell_type": "code",
   "execution_count": null,
   "id": "5ef72a81",
   "metadata": {},
   "outputs": [],
   "source": []
  }
 ],
 "metadata": {
  "kernelspec": {
   "display_name": "Python 3 (ipykernel)",
   "language": "python",
   "name": "python3"
  },
  "language_info": {
   "codemirror_mode": {
    "name": "ipython",
    "version": 3
   },
   "file_extension": ".py",
   "mimetype": "text/x-python",
   "name": "python",
   "nbconvert_exporter": "python",
   "pygments_lexer": "ipython3",
   "version": "3.9.12"
  }
 },
 "nbformat": 4,
 "nbformat_minor": 5
}
