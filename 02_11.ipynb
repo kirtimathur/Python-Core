{
 "cells": [
  {
   "cell_type": "code",
   "execution_count": 1,
   "id": "99c6056d",
   "metadata": {},
   "outputs": [
    {
     "name": "stdout",
     "output_type": "stream",
     "text": [
      "4.0\n",
      "6\n",
      "the fashionably late are: mona\n",
      "the fashionably late are: gilbert\n",
      "the very late are: ford\n",
      "the very late are: cole\n"
     ]
    }
   ],
   "source": [
    "'''Q2. we have a list of party attendees according to their time of reaching venue means \"adela\" reached to the party early\n",
    "than \"fleda\" and cole came at last and so on\n",
    "\n",
    "a guest is considered \"fashionably late\" if they arrived after at least half of the party's guests.\n",
    "however, they must not be very late guest (that is taking too far)\n",
    "in this mona and gilbert are the only guests who were fashionably late.\n",
    "guest_list=[\"adela\",\"fleda\",\"owen\",\"may\",\"mona\",\"gilbert\",\"ford\",\"cole\"]'''\n",
    "\n",
    "\n",
    "guest_list=[\"adela\",\"fleda\",\"owen\",\"may\",\"mona\",\"gilbert\",\"ford\",\"cole\"]\n",
    "fash_late=(len(guest_list))/2\n",
    "very_late=len(guest_list[:-2])\n",
    "print(fash_late)\n",
    "print(very_late)\n",
    "for i in range(0,len(guest_list)):\n",
    "    if i>=fash_late and i<very_late:\n",
    "        print(\"the fashionably late are:\",guest_list[i])\n",
    "    elif i>=very_late:\n",
    "        print(\"the very late are:\",guest_list[i])"
   ]
  },
  {
   "cell_type": "code",
   "execution_count": 2,
   "id": "86ec7038",
   "metadata": {},
   "outputs": [
    {
     "name": "stdout",
     "output_type": "stream",
     "text": [
      "enter a list:1,2,3,4,5,6\n",
      "['2', '4', '6']\n"
     ]
    }
   ],
   "source": [
    "#Q.5 Write a program to display all the elements of odd position.\n",
    "\n",
    "l=input(\"enter a list:\").split(\",\")\n",
    "l1=[]\n",
    "for i in range(len(l)+1):\n",
    "    if i%2!=0:\n",
    "        l1.append(l[i])\n",
    "print(l1)\n",
    "        "
   ]
  },
  {
   "cell_type": "code",
   "execution_count": 3,
   "id": "4c0e5521",
   "metadata": {},
   "outputs": [
    {
     "name": "stdout",
     "output_type": "stream",
     "text": [
      "enter a string:string\n",
      "['s', 't', 'r', 'i', 'n', 'g']\n"
     ]
    }
   ],
   "source": [
    "#Q.6 Write a Python program to convert a string to a list.\n",
    "\n",
    "s=input(\"enter a string:\")\n",
    "l=[]\n",
    "for i in s:\n",
    "    l.append(i)\n",
    "print(l)"
   ]
  },
  {
   "cell_type": "code",
   "execution_count": 4,
   "id": "21984238",
   "metadata": {},
   "outputs": [
    {
     "name": "stdout",
     "output_type": "stream",
     "text": [
      "enter a position:3\n",
      "enter the no. to insert:100\n",
      "[1, 1, 2, 100, 3, 4, 4, 5, 1]\n"
     ]
    }
   ],
   "source": [
    "#Q.7 Write a Python program to insert an element at a specified position into a given list. \n",
    "#Original list: [1, 1, 2, 3, 4, 4, 5, 1] \n",
    "#After inserting an element at kth position in the said list: [1, 1, 12, 2, 3, 4, 4, 5, 1]\n",
    "\n",
    "l=[1,1,2,3,4,4,5,1]\n",
    "k=int(input(\"enter a position:\"))\n",
    "el=int(input(\"enter the no. to insert:\"))\n",
    "l.insert(k,el)\n",
    "print(l)"
   ]
  },
  {
   "cell_type": "code",
   "execution_count": null,
   "id": "ffda4a8e",
   "metadata": {},
   "outputs": [],
   "source": []
  }
 ],
 "metadata": {
  "kernelspec": {
   "display_name": "Python 3 (ipykernel)",
   "language": "python",
   "name": "python3"
  },
  "language_info": {
   "codemirror_mode": {
    "name": "ipython",
    "version": 3
   },
   "file_extension": ".py",
   "mimetype": "text/x-python",
   "name": "python",
   "nbconvert_exporter": "python",
   "pygments_lexer": "ipython3",
   "version": "3.9.12"
  }
 },
 "nbformat": 4,
 "nbformat_minor": 5
}
