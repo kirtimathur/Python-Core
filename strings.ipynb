{
 "cells": [
  {
   "cell_type": "markdown",
   "id": "89a4e7b3",
   "metadata": {},
   "source": [
    "# 16/09/022"
   ]
  },
  {
   "cell_type": "markdown",
   "id": "2fccd6c0",
   "metadata": {},
   "source": [
    "string represents a textual data in quotes"
   ]
  },
  {
   "cell_type": "code",
   "execution_count": 2,
   "id": "2945ae2f",
   "metadata": {},
   "outputs": [
    {
     "name": "stdout",
     "output_type": "stream",
     "text": [
      "python\n",
      "python's cool\n"
     ]
    }
   ],
   "source": [
    "#creating a string\n",
    "a='python'\n",
    "print(a)\n",
    "s=\"python's cool\" #if apostrophe s is to be used then we use double quotes\n",
    "print(s)"
   ]
  },
  {
   "cell_type": "code",
   "execution_count": 3,
   "id": "ecc1ecb0",
   "metadata": {},
   "outputs": [
    {
     "name": "stdout",
     "output_type": "stream",
     "text": [
      "nhklwm\n",
      "nksdmd\n",
      "ewkwq\n"
     ]
    }
   ],
   "source": [
    "#multiline string\n",
    "a='''nhklwm\n",
    "nksdmd\n",
    "ewkwq'''\n",
    "print(a)"
   ]
  },
  {
   "cell_type": "code",
   "execution_count": 5,
   "id": "b7b0ccb5",
   "metadata": {},
   "outputs": [
    {
     "name": "stdout",
     "output_type": "stream",
     "text": [
      "hello\n",
      "\n"
     ]
    }
   ],
   "source": [
    "#using contructor, detail in oops \n",
    "s=str('hello')\n",
    "print(s)//\n",
    "a=\"\" #empty string, if later it has to be used\n",
    "print(a)\n",
    "b=str() #empty"
   ]
  },
  {
   "cell_type": "code",
   "execution_count": 8,
   "id": "94ec9dec",
   "metadata": {},
   "outputs": [
    {
     "data": {
      "text/plain": [
       "'Y'"
      ]
     },
     "execution_count": 8,
     "metadata": {},
     "output_type": "execute_result"
    }
   ],
   "source": [
    "s='PYTHON'\n",
    "s[1]\n",
    "s[-5]"
   ]
  },
  {
   "cell_type": "code",
   "execution_count": 9,
   "id": "9695d46e",
   "metadata": {},
   "outputs": [
    {
     "data": {
      "text/plain": [
       "'YTHO'"
      ]
     },
     "execution_count": 9,
     "metadata": {},
     "output_type": "execute_result"
    }
   ],
   "source": [
    "s='PYTHON'\n",
    "s[1:5]"
   ]
  },
  {
   "cell_type": "code",
   "execution_count": 10,
   "id": "93682502",
   "metadata": {},
   "outputs": [
    {
     "data": {
      "text/plain": [
       "'YTH'"
      ]
     },
     "execution_count": 10,
     "metadata": {},
     "output_type": "execute_result"
    }
   ],
   "source": [
    "s='PYTHON'\n",
    "s[1:-2] #-2-1=-3='H'"
   ]
  },
  {
   "cell_type": "code",
   "execution_count": 11,
   "id": "4ee014bd",
   "metadata": {},
   "outputs": [
    {
     "data": {
      "text/plain": [
       "'re sub'"
      ]
     },
     "execution_count": 11,
     "metadata": {},
     "output_type": "execute_result"
    }
   ],
   "source": [
    "s=\"python is my core subject\"\n",
    "s[-10:-4] #space is also part of the string"
   ]
  },
  {
   "cell_type": "code",
   "execution_count": 12,
   "id": "1a4d672c",
   "metadata": {},
   "outputs": [
    {
     "data": {
      "text/plain": [
       "'ython is my core subject'"
      ]
     },
     "execution_count": 12,
     "metadata": {},
     "output_type": "execute_result"
    }
   ],
   "source": [
    "s=\"python is my core subject\"\n",
    "s[1:] #gets rest of the string"
   ]
  },
  {
   "cell_type": "code",
   "execution_count": 13,
   "id": "90973287",
   "metadata": {},
   "outputs": [
    {
     "data": {
      "text/plain": [
       "''"
      ]
     },
     "execution_count": 13,
     "metadata": {},
     "output_type": "execute_result"
    }
   ],
   "source": [
    "s=\"python is my core subject\"\n",
    "s[-4:-6] #stepsize "
   ]
  },
  {
   "cell_type": "code",
   "execution_count": 14,
   "id": "c189ac66",
   "metadata": {},
   "outputs": [
    {
     "data": {
      "text/plain": [
       "'python is my core subject'"
      ]
     },
     "execution_count": 14,
     "metadata": {},
     "output_type": "execute_result"
    }
   ],
   "source": [
    "s=\"python is my core subject\"\n",
    "s[:]"
   ]
  },
  {
   "cell_type": "code",
   "execution_count": 15,
   "id": "ce72155c",
   "metadata": {},
   "outputs": [
    {
     "data": {
      "text/plain": [
       "'yhni'"
      ]
     },
     "execution_count": 15,
     "metadata": {},
     "output_type": "execute_result"
    }
   ],
   "source": [
    "s=\"python is my core subject\"\n",
    "s[1:9:2] #takes stepsize as 2"
   ]
  },
  {
   "cell_type": "code",
   "execution_count": 16,
   "id": "20b79b6e",
   "metadata": {},
   "outputs": [
    {
     "data": {
      "text/plain": [
       "'yoim'"
      ]
     },
     "execution_count": 16,
     "metadata": {},
     "output_type": "execute_result"
    }
   ],
   "source": [
    "s=\"python is my core subject\"\n",
    "s[1:12:3]"
   ]
  },
  {
   "cell_type": "code",
   "execution_count": 17,
   "id": "cbfdaaad",
   "metadata": {},
   "outputs": [
    {
     "data": {
      "text/plain": [
       "'tcejbus '"
      ]
     },
     "execution_count": 17,
     "metadata": {},
     "output_type": "execute_result"
    }
   ],
   "source": [
    "s=\"python is my core subject\"\n",
    "s[-1:-9:-1] #stepsize necessary, as backward"
   ]
  },
  {
   "cell_type": "code",
   "execution_count": 18,
   "id": "f1f7ee0f",
   "metadata": {},
   "outputs": [
    {
     "data": {
      "text/plain": [
       "'tebs'"
      ]
     },
     "execution_count": 18,
     "metadata": {},
     "output_type": "execute_result"
    }
   ],
   "source": [
    "s=\"python is my core subject\"\n",
    "s[-1:-9:-2]"
   ]
  },
  {
   "cell_type": "code",
   "execution_count": 20,
   "id": "1707d49a",
   "metadata": {},
   "outputs": [
    {
     "data": {
      "text/plain": [
       "'esbe'"
      ]
     },
     "execution_count": 20,
     "metadata": {},
     "output_type": "execute_result"
    }
   ],
   "source": [
    "s=\"python is my core subject\"\n",
    "s[-9:-1:2] #forward, so no stepsize"
   ]
  },
  {
   "cell_type": "code",
   "execution_count": 22,
   "id": "10e7d03c",
   "metadata": {},
   "outputs": [
    {
     "data": {
      "text/plain": [
       "''"
      ]
     },
     "execution_count": 22,
     "metadata": {},
     "output_type": "execute_result"
    }
   ],
   "source": [
    "s=\"python is my core subject\"\n",
    "s[-9:-1:-2]"
   ]
  },
  {
   "cell_type": "code",
   "execution_count": 23,
   "id": "8ad393c0",
   "metadata": {},
   "outputs": [
    {
     "data": {
      "text/plain": [
       "'python is my core subject'"
      ]
     },
     "execution_count": 23,
     "metadata": {},
     "output_type": "execute_result"
    }
   ],
   "source": [
    "s=\"python is my core subject\"\n",
    "s[::]"
   ]
  },
  {
   "cell_type": "code",
   "execution_count": 24,
   "id": "42b25579",
   "metadata": {},
   "outputs": [
    {
     "data": {
      "text/plain": [
       "'tcejbus eroc ym si nohtyp'"
      ]
     },
     "execution_count": 24,
     "metadata": {},
     "output_type": "execute_result"
    }
   ],
   "source": [
    "s=\"python is my core subject\"\n",
    "s[::-1] #reverse string"
   ]
  },
  {
   "cell_type": "code",
   "execution_count": 29,
   "id": "0307eb81",
   "metadata": {},
   "outputs": [],
   "source": [
    "#for palindrom using slicing\n",
    "s=\"python is my core subject\"\n",
    "if s[::]==s[::-1]:\n",
    "    print(\"true\")"
   ]
  },
  {
   "cell_type": "code",
   "execution_count": 28,
   "id": "c333a4de",
   "metadata": {},
   "outputs": [
    {
     "data": {
      "text/plain": [
       "'t mose'"
      ]
     },
     "execution_count": 28,
     "metadata": {},
     "output_type": "execute_result"
    }
   ],
   "source": [
    "s=\"python is my core subject\"\n",
    "s[2::4] #start and stepsize"
   ]
  },
  {
   "cell_type": "code",
   "execution_count": 30,
   "id": "ae56007a",
   "metadata": {},
   "outputs": [
    {
     "data": {
      "text/plain": [
       "'ct'"
      ]
     },
     "execution_count": 30,
     "metadata": {},
     "output_type": "execute_result"
    }
   ],
   "source": [
    "s=\"python is my core subject\"\n",
    "s[-2::] #from start to end as no stepsize"
   ]
  },
  {
   "cell_type": "code",
   "execution_count": 31,
   "id": "c199aaa0",
   "metadata": {},
   "outputs": [
    {
     "data": {
      "text/plain": [
       "'ubject'"
      ]
     },
     "execution_count": 31,
     "metadata": {},
     "output_type": "execute_result"
    }
   ],
   "source": [
    "s=\"python is my core subject\"\n",
    "s[-6::]"
   ]
  },
  {
   "cell_type": "code",
   "execution_count": 32,
   "id": "21e3b475",
   "metadata": {},
   "outputs": [
    {
     "data": {
      "text/plain": [
       "'us eroc ym si nohtyp'"
      ]
     },
     "execution_count": 32,
     "metadata": {},
     "output_type": "execute_result"
    }
   ],
   "source": [
    "s=\"python is my core subject\"\n",
    "s[-6::-1]"
   ]
  },
  {
   "cell_type": "code",
   "execution_count": 34,
   "id": "f46117f8",
   "metadata": {},
   "outputs": [
    {
     "ename": "NameError",
     "evalue": "name 'b' is not defined",
     "output_type": "error",
     "traceback": [
      "\u001b[1;31m---------------------------------------------------------------------------\u001b[0m",
      "\u001b[1;31mNameError\u001b[0m                                 Traceback (most recent call last)",
      "Input \u001b[1;32mIn [34]\u001b[0m, in \u001b[0;36m<cell line: 2>\u001b[1;34m()\u001b[0m\n\u001b[0;32m      1\u001b[0m s\u001b[38;5;241m=\u001b[39m\u001b[38;5;124m'\u001b[39m\u001b[38;5;124mpython\u001b[39m\u001b[38;5;124m'\u001b[39m\n\u001b[1;32m----> 2\u001b[0m s[\u001b[38;5;241m1\u001b[39m]\u001b[38;5;241m=\u001b[39m\u001b[43mb\u001b[49m \u001b[38;5;66;03m#modification not possible, updating or deleting\u001b[39;00m\n\u001b[0;32m      3\u001b[0m \u001b[38;5;28;01mdel\u001b[39;00m s[\u001b[38;5;241m1\u001b[39m]\n",
      "\u001b[1;31mNameError\u001b[0m: name 'b' is not defined"
     ]
    }
   ],
   "source": [
    "s='python'\n",
    "s[1]=b #modification not possible, updating or deleting\n",
    "del s[1]"
   ]
  },
  {
   "cell_type": "code",
   "execution_count": 36,
   "id": "49737853",
   "metadata": {},
   "outputs": [
    {
     "ename": "NameError",
     "evalue": "name 's' is not defined",
     "output_type": "error",
     "traceback": [
      "\u001b[1;31m---------------------------------------------------------------------------\u001b[0m",
      "\u001b[1;31mNameError\u001b[0m                                 Traceback (most recent call last)",
      "Input \u001b[1;32mIn [36]\u001b[0m, in \u001b[0;36m<cell line: 3>\u001b[1;34m()\u001b[0m\n\u001b[0;32m      1\u001b[0m s\u001b[38;5;241m=\u001b[39m\u001b[38;5;124m\"\u001b[39m\u001b[38;5;124mpython is my core subject\u001b[39m\u001b[38;5;124m\"\u001b[39m\n\u001b[0;32m      2\u001b[0m \u001b[38;5;28;01mdel\u001b[39;00m s\n\u001b[1;32m----> 3\u001b[0m \u001b[38;5;28mprint\u001b[39m(\u001b[43ms\u001b[49m)\n",
      "\u001b[1;31mNameError\u001b[0m: name 's' is not defined"
     ]
    }
   ],
   "source": [
    "s=\"python is my core subject\"\n",
    "del s\n",
    "print(s)\n"
   ]
  },
  {
   "cell_type": "code",
   "execution_count": 37,
   "id": "ab2835ac",
   "metadata": {},
   "outputs": [
    {
     "name": "stdout",
     "output_type": "stream",
     "text": [
      "python is my core subject\n",
      "madrid\n"
     ]
    }
   ],
   "source": [
    "s=\"python is my core subject\"\n",
    "print(s)\n",
    "s=\"madrid\"\n",
    "print(s)"
   ]
  },
  {
   "cell_type": "code",
   "execution_count": 38,
   "id": "af942130",
   "metadata": {},
   "outputs": [
    {
     "data": {
      "text/plain": [
       "'pythoncore'"
      ]
     },
     "execution_count": 38,
     "metadata": {},
     "output_type": "execute_result"
    }
   ],
   "source": [
    "#using arithmetic operators using concatenation\n",
    "s='python'\n",
    "s1='core'\n",
    "s+s1"
   ]
  },
  {
   "cell_type": "code",
   "execution_count": 40,
   "id": "bb343c25",
   "metadata": {},
   "outputs": [
    {
     "name": "stdout",
     "output_type": "stream",
     "text": [
      "enter two numbers:1,2\n",
      "12\n"
     ]
    }
   ],
   "source": [
    "num1,num2=input(\"enter two numbers:\").split(\",\")\n",
    "print(num1+num2) #joined"
   ]
  },
  {
   "cell_type": "code",
   "execution_count": 42,
   "id": "cf226983",
   "metadata": {},
   "outputs": [
    {
     "data": {
      "text/plain": [
       "'corepython is interesed'"
      ]
     },
     "execution_count": 42,
     "metadata": {},
     "output_type": "execute_result"
    }
   ],
   "source": [
    "s='python'\n",
    "s1='core'\n",
    "k=s1+s+\" \"+\"is interesed\"\n",
    "k"
   ]
  },
  {
   "cell_type": "code",
   "execution_count": 44,
   "id": "71e9bf76",
   "metadata": {},
   "outputs": [
    {
     "data": {
      "text/plain": [
       "'hello hello hello hello hello hello hello hello hello hello '"
      ]
     },
     "execution_count": 44,
     "metadata": {},
     "output_type": "execute_result"
    }
   ],
   "source": [
    "\"hello \"*10 #to replictae,copies"
   ]
  },
  {
   "cell_type": "code",
   "execution_count": 45,
   "id": "02fbb031",
   "metadata": {},
   "outputs": [
    {
     "name": "stdout",
     "output_type": "stream",
     "text": [
      "False\n"
     ]
    }
   ],
   "source": [
    "#relational ops\n",
    "a='python'\n",
    "b='core'\n",
    "print(a==b)"
   ]
  },
  {
   "cell_type": "code",
   "execution_count": 46,
   "id": "33c99ae1",
   "metadata": {},
   "outputs": [
    {
     "name": "stdout",
     "output_type": "stream",
     "text": [
      "True\n"
     ]
    }
   ],
   "source": [
    "a='python'\n",
    "b='core'\n",
    "print(a!=b)"
   ]
  },
  {
   "cell_type": "code",
   "execution_count": 47,
   "id": "ea4dcb60",
   "metadata": {},
   "outputs": [
    {
     "name": "stdout",
     "output_type": "stream",
     "text": [
      "True\n"
     ]
    }
   ],
   "source": [
    "a='python' #comparing ascii values, lexiographic order\n",
    "b='core'\n",
    "print(a>b)"
   ]
  },
  {
   "cell_type": "code",
   "execution_count": 48,
   "id": "b07c7592",
   "metadata": {},
   "outputs": [
    {
     "name": "stdout",
     "output_type": "stream",
     "text": [
      "False\n"
     ]
    }
   ],
   "source": [
    "a='python' #comparing ascii values, lexiographic order\n",
    "b='zebra'\n",
    "print(a>b)"
   ]
  },
  {
   "cell_type": "code",
   "execution_count": 54,
   "id": "19cb0bb9",
   "metadata": {},
   "outputs": [
    {
     "data": {
      "text/plain": [
       "''"
      ]
     },
     "execution_count": 54,
     "metadata": {},
     "output_type": "execute_result"
    }
   ],
   "source": [
    "#logical ops\n",
    "k='python' and '' #both should be true, empty string treated as false\n",
    "k"
   ]
  },
  {
   "cell_type": "code",
   "execution_count": 50,
   "id": "cb5b2068",
   "metadata": {},
   "outputs": [
    {
     "data": {
      "text/plain": [
       "'python'"
      ]
     },
     "execution_count": 50,
     "metadata": {},
     "output_type": "execute_result"
    }
   ],
   "source": [
    "k='python' or '' #atleast 1 true\n",
    "k"
   ]
  },
  {
   "cell_type": "code",
   "execution_count": 55,
   "id": "1f03ceb4",
   "metadata": {},
   "outputs": [
    {
     "name": "stdout",
     "output_type": "stream",
     "text": [
      "h\n",
      "e\n",
      "l\n",
      "l\n",
      "o\n"
     ]
    }
   ],
   "source": [
    "#loops on string using for loop\n",
    "s='hello'\n",
    "for i in s:\n",
    "    print(i)"
   ]
  },
  {
   "cell_type": "code",
   "execution_count": 58,
   "id": "3e0cdc63",
   "metadata": {},
   "outputs": [
    {
     "name": "stdout",
     "output_type": "stream",
     "text": [
      "h\n",
      "e\n",
      "l\n",
      "l\n"
     ]
    }
   ],
   "source": [
    "s='hello'\n",
    "for i in s[0:4]:\n",
    "    print(i)"
   ]
  },
  {
   "cell_type": "code",
   "execution_count": 60,
   "id": "ab94028c",
   "metadata": {},
   "outputs": [
    {
     "data": {
      "text/plain": [
       "True"
      ]
     },
     "execution_count": 60,
     "metadata": {},
     "output_type": "execute_result"
    }
   ],
   "source": [
    "#membership ops\n",
    "s='hello'\n",
    "'e' in s"
   ]
  },
  {
   "cell_type": "code",
   "execution_count": 61,
   "id": "e1238a77",
   "metadata": {},
   "outputs": [],
   "source": [
    "#common fns for all sequences lists, tuples,str"
   ]
  },
  {
   "cell_type": "code",
   "execution_count": 62,
   "id": "4954bc75",
   "metadata": {},
   "outputs": [
    {
     "data": {
      "text/plain": [
       "6"
      ]
     },
     "execution_count": 62,
     "metadata": {},
     "output_type": "execute_result"
    }
   ],
   "source": [
    "len(\"madrid\")"
   ]
  },
  {
   "cell_type": "code",
   "execution_count": 63,
   "id": "0250f530",
   "metadata": {},
   "outputs": [
    {
     "data": {
      "text/plain": [
       "'r'"
      ]
     },
     "execution_count": 63,
     "metadata": {},
     "output_type": "execute_result"
    }
   ],
   "source": [
    "max(\"madrid\") #max ascii"
   ]
  },
  {
   "cell_type": "code",
   "execution_count": 64,
   "id": "63f5d70b",
   "metadata": {},
   "outputs": [
    {
     "data": {
      "text/plain": [
       "'a'"
      ]
     },
     "execution_count": 64,
     "metadata": {},
     "output_type": "execute_result"
    }
   ],
   "source": [
    "min(\"madrid\")"
   ]
  },
  {
   "cell_type": "code",
   "execution_count": 65,
   "id": "e57c9c46",
   "metadata": {},
   "outputs": [
    {
     "data": {
      "text/plain": [
       "5"
      ]
     },
     "execution_count": 65,
     "metadata": {},
     "output_type": "execute_result"
    }
   ],
   "source": [
    "len([1,2,3,4,5])"
   ]
  },
  {
   "cell_type": "code",
   "execution_count": 66,
   "id": "cf793c59",
   "metadata": {},
   "outputs": [
    {
     "ename": "TypeError",
     "evalue": "object of type 'int' has no len()",
     "output_type": "error",
     "traceback": [
      "\u001b[1;31m---------------------------------------------------------------------------\u001b[0m",
      "\u001b[1;31mTypeError\u001b[0m                                 Traceback (most recent call last)",
      "Input \u001b[1;32mIn [66]\u001b[0m, in \u001b[0;36m<cell line: 1>\u001b[1;34m()\u001b[0m\n\u001b[1;32m----> 1\u001b[0m \u001b[38;5;28;43mlen\u001b[39;49m\u001b[43m(\u001b[49m\u001b[38;5;241;43m1\u001b[39;49m\u001b[43m)\u001b[49m\n",
      "\u001b[1;31mTypeError\u001b[0m: object of type 'int' has no len()"
     ]
    }
   ],
   "source": [
    "len(1) #not iterable"
   ]
  },
  {
   "cell_type": "code",
   "execution_count": 67,
   "id": "c7f6f5ea",
   "metadata": {},
   "outputs": [
    {
     "data": {
      "text/plain": [
       "1"
      ]
     },
     "execution_count": 67,
     "metadata": {},
     "output_type": "execute_result"
    }
   ],
   "source": [
    "len(\"1\")"
   ]
  },
  {
   "cell_type": "code",
   "execution_count": 68,
   "id": "2d446114",
   "metadata": {},
   "outputs": [
    {
     "data": {
      "text/plain": [
       "['a', 'd', 'd', 'i', 'm', 'r']"
      ]
     },
     "execution_count": 68,
     "metadata": {},
     "output_type": "execute_result"
    }
   ],
   "source": [
    "sorted(\"madrid\") #ascending order sorting by default"
   ]
  },
  {
   "cell_type": "code",
   "execution_count": 69,
   "id": "2711348a",
   "metadata": {},
   "outputs": [
    {
     "data": {
      "text/plain": [
       "['r', 'm', 'i', 'd', 'd', 'a']"
      ]
     },
     "execution_count": 69,
     "metadata": {},
     "output_type": "execute_result"
    }
   ],
   "source": [
    "sorted(\"madrid\",reverse=True) #descending order"
   ]
  },
  {
   "cell_type": "code",
   "execution_count": 70,
   "id": "d9c0299f",
   "metadata": {},
   "outputs": [
    {
     "data": {
      "text/plain": [
       "['__add__',\n",
       " '__class__',\n",
       " '__contains__',\n",
       " '__delattr__',\n",
       " '__dir__',\n",
       " '__doc__',\n",
       " '__eq__',\n",
       " '__format__',\n",
       " '__ge__',\n",
       " '__getattribute__',\n",
       " '__getitem__',\n",
       " '__getnewargs__',\n",
       " '__gt__',\n",
       " '__hash__',\n",
       " '__init__',\n",
       " '__init_subclass__',\n",
       " '__iter__',\n",
       " '__le__',\n",
       " '__len__',\n",
       " '__lt__',\n",
       " '__mod__',\n",
       " '__mul__',\n",
       " '__ne__',\n",
       " '__new__',\n",
       " '__reduce__',\n",
       " '__reduce_ex__',\n",
       " '__repr__',\n",
       " '__rmod__',\n",
       " '__rmul__',\n",
       " '__setattr__',\n",
       " '__sizeof__',\n",
       " '__str__',\n",
       " '__subclasshook__',\n",
       " 'capitalize',\n",
       " 'casefold',\n",
       " 'center',\n",
       " 'count',\n",
       " 'encode',\n",
       " 'endswith',\n",
       " 'expandtabs',\n",
       " 'find',\n",
       " 'format',\n",
       " 'format_map',\n",
       " 'index',\n",
       " 'isalnum',\n",
       " 'isalpha',\n",
       " 'isascii',\n",
       " 'isdecimal',\n",
       " 'isdigit',\n",
       " 'isidentifier',\n",
       " 'islower',\n",
       " 'isnumeric',\n",
       " 'isprintable',\n",
       " 'isspace',\n",
       " 'istitle',\n",
       " 'isupper',\n",
       " 'join',\n",
       " 'ljust',\n",
       " 'lower',\n",
       " 'lstrip',\n",
       " 'maketrans',\n",
       " 'partition',\n",
       " 'removeprefix',\n",
       " 'removesuffix',\n",
       " 'replace',\n",
       " 'rfind',\n",
       " 'rindex',\n",
       " 'rjust',\n",
       " 'rpartition',\n",
       " 'rsplit',\n",
       " 'rstrip',\n",
       " 'split',\n",
       " 'splitlines',\n",
       " 'startswith',\n",
       " 'strip',\n",
       " 'swapcase',\n",
       " 'title',\n",
       " 'translate',\n",
       " 'upper',\n",
       " 'zfill']"
      ]
     },
     "execution_count": 70,
     "metadata": {},
     "output_type": "execute_result"
    }
   ],
   "source": [
    "#specific fns for string\n",
    "dir(str) #from captalize"
   ]
  },
  {
   "cell_type": "code",
   "execution_count": 72,
   "id": "428b101e",
   "metadata": {},
   "outputs": [
    {
     "data": {
      "text/plain": [
       "'Python core'"
      ]
     },
     "execution_count": 72,
     "metadata": {},
     "output_type": "execute_result"
    }
   ],
   "source": [
    "s=\"python core\"\n",
    "s.capitalize() #caps 1st letter"
   ]
  },
  {
   "cell_type": "code",
   "execution_count": 74,
   "id": "0fe1a650",
   "metadata": {},
   "outputs": [
    {
     "name": "stdout",
     "output_type": "stream",
     "text": [
      "Python Core\n"
     ]
    }
   ],
   "source": [
    "s=\"python core\"\n",
    "t=s.title() #caps 1st letter of all words\n",
    "print(t) #t stores the title"
   ]
  },
  {
   "cell_type": "code",
   "execution_count": 76,
   "id": "6cf40155",
   "metadata": {},
   "outputs": [
    {
     "data": {
      "text/plain": [
       "'python core'"
      ]
     },
     "execution_count": 76,
     "metadata": {},
     "output_type": "execute_result"
    }
   ],
   "source": [
    "s=\"Python COre\"\n",
    "s.lower()"
   ]
  },
  {
   "cell_type": "code",
   "execution_count": 77,
   "id": "d658be32",
   "metadata": {},
   "outputs": [
    {
     "data": {
      "text/plain": [
       "'PYTHON CORE'"
      ]
     },
     "execution_count": 77,
     "metadata": {},
     "output_type": "execute_result"
    }
   ],
   "source": [
    "s=\"python core\"\n",
    "s.upper()"
   ]
  },
  {
   "cell_type": "code",
   "execution_count": 78,
   "id": "c3f4bd3f",
   "metadata": {},
   "outputs": [
    {
     "data": {
      "text/plain": [
       "'PYthon CORE'"
      ]
     },
     "execution_count": 78,
     "metadata": {},
     "output_type": "execute_result"
    }
   ],
   "source": [
    "s=\"pyTHON core\"\n",
    "s.swapcase()"
   ]
  },
  {
   "cell_type": "code",
   "execution_count": 79,
   "id": "5d6ac70d",
   "metadata": {},
   "outputs": [
    {
     "data": {
      "text/plain": [
       "3"
      ]
     },
     "execution_count": 79,
     "metadata": {},
     "output_type": "execute_result"
    }
   ],
   "source": [
    "s=\"hi hazel how are you\"\n",
    "s.count(\"h\")"
   ]
  },
  {
   "cell_type": "code",
   "execution_count": 80,
   "id": "1502bb97",
   "metadata": {},
   "outputs": [
    {
     "data": {
      "text/plain": [
       "3"
      ]
     },
     "execution_count": 80,
     "metadata": {},
     "output_type": "execute_result"
    }
   ],
   "source": [
    "s=\"hi hazel how are you hi hi\" #frequencies and occurances of a subtring\n",
    "s.count(\"hi\")"
   ]
  },
  {
   "cell_type": "code",
   "execution_count": 81,
   "id": "aa9852cf",
   "metadata": {},
   "outputs": [
    {
     "data": {
      "text/plain": [
       "1"
      ]
     },
     "execution_count": 81,
     "metadata": {},
     "output_type": "execute_result"
    }
   ],
   "source": [
    "#counting in a search region, start and end are optional in syntax\n",
    "s=\"hi hazel how are you hi hi\"\n",
    "s.count(\"hi\",0,8)\n"
   ]
  },
  {
   "cell_type": "markdown",
   "id": "03d27fb3",
   "metadata": {},
   "source": [
    "# 19/09/2022"
   ]
  },
  {
   "cell_type": "code",
   "execution_count": 1,
   "id": "54e56938",
   "metadata": {},
   "outputs": [
    {
     "data": {
      "text/plain": [
       "4"
      ]
     },
     "execution_count": 1,
     "metadata": {},
     "output_type": "execute_result"
    }
   ],
   "source": [
    "s='python core' #gives position of 1st occurence\n",
    "s.index('o')"
   ]
  },
  {
   "cell_type": "code",
   "execution_count": 2,
   "id": "59d34c25",
   "metadata": {},
   "outputs": [
    {
     "data": {
      "text/plain": [
       "2"
      ]
     },
     "execution_count": 2,
     "metadata": {},
     "output_type": "execute_result"
    }
   ],
   "source": [
    "s='python core'\n",
    "s.index('th') #subtring, t at index 2"
   ]
  },
  {
   "cell_type": "code",
   "execution_count": 3,
   "id": "38a5d225",
   "metadata": {},
   "outputs": [
    {
     "ename": "ValueError",
     "evalue": "substring not found",
     "output_type": "error",
     "traceback": [
      "\u001b[1;31m---------------------------------------------------------------------------\u001b[0m",
      "\u001b[1;31mValueError\u001b[0m                                Traceback (most recent call last)",
      "Input \u001b[1;32mIn [3]\u001b[0m, in \u001b[0;36m<cell line: 2>\u001b[1;34m()\u001b[0m\n\u001b[0;32m      1\u001b[0m s\u001b[38;5;241m=\u001b[39m\u001b[38;5;124m'\u001b[39m\u001b[38;5;124mpython core\u001b[39m\u001b[38;5;124m'\u001b[39m\n\u001b[1;32m----> 2\u001b[0m \u001b[43ms\u001b[49m\u001b[38;5;241;43m.\u001b[39;49m\u001b[43mindex\u001b[49m\u001b[43m(\u001b[49m\u001b[38;5;124;43m'\u001b[39;49m\u001b[38;5;124;43mk\u001b[39;49m\u001b[38;5;124;43m'\u001b[39;49m\u001b[43m)\u001b[49m\n",
      "\u001b[1;31mValueError\u001b[0m: substring not found"
     ]
    }
   ],
   "source": [
    "s='python core'\n",
    "s.index('k') #not present"
   ]
  },
  {
   "cell_type": "code",
   "execution_count": 4,
   "id": "1b4b6fd9",
   "metadata": {},
   "outputs": [
    {
     "data": {
      "text/plain": [
       "-1"
      ]
     },
     "execution_count": 4,
     "metadata": {},
     "output_type": "execute_result"
    }
   ],
   "source": [
    "#find returns index, but if string isn't available returns -1\n",
    "s='python core'\n",
    "s.find('k')"
   ]
  },
  {
   "cell_type": "code",
   "execution_count": 5,
   "id": "a29e5999",
   "metadata": {},
   "outputs": [
    {
     "data": {
      "text/plain": [
       "8"
      ]
     },
     "execution_count": 5,
     "metadata": {},
     "output_type": "execute_result"
    }
   ],
   "source": [
    "#search space, in a specific region, by default it from 0 to end\n",
    "s='python core'\n",
    "s.index('o',7,9) #o in core, starting and ending pt. are 7 and 9"
   ]
  },
  {
   "cell_type": "code",
   "execution_count": 6,
   "id": "647c1a5f",
   "metadata": {},
   "outputs": [
    {
     "data": {
      "text/plain": [
       "False"
      ]
     },
     "execution_count": 6,
     "metadata": {},
     "output_type": "execute_result"
    }
   ],
   "source": [
    "#is check methods\n",
    "s='madrid solutions'\n",
    "s.isalnum() #both alpha and numeric"
   ]
  },
  {
   "cell_type": "code",
   "execution_count": 8,
   "id": "63d767a6",
   "metadata": {},
   "outputs": [
    {
     "data": {
      "text/plain": [
       "False"
      ]
     },
     "execution_count": 8,
     "metadata": {},
     "output_type": "execute_result"
    }
   ],
   "source": [
    "s='madrid solutions'\n",
    "s.isalpha() #space as non alpha"
   ]
  },
  {
   "cell_type": "code",
   "execution_count": 9,
   "id": "8fa4129f",
   "metadata": {},
   "outputs": [
    {
     "data": {
      "text/plain": [
       "False"
      ]
     },
     "execution_count": 9,
     "metadata": {},
     "output_type": "execute_result"
    }
   ],
   "source": [
    "s='madrid solutions'\n",
    "s.istitle() #1st letter cap"
   ]
  },
  {
   "cell_type": "code",
   "execution_count": 10,
   "id": "dfa05f73",
   "metadata": {},
   "outputs": [
    {
     "data": {
      "text/plain": [
       "False"
      ]
     },
     "execution_count": 10,
     "metadata": {},
     "output_type": "execute_result"
    }
   ],
   "source": [
    "s='Madrid solutions'\n",
    "s.istitle()"
   ]
  },
  {
   "cell_type": "code",
   "execution_count": 12,
   "id": "52d35df9",
   "metadata": {},
   "outputs": [
    {
     "data": {
      "text/plain": [
       "True"
      ]
     },
     "execution_count": 12,
     "metadata": {},
     "output_type": "execute_result"
    }
   ],
   "source": [
    "s='Madrid Solutions'\n",
    "s.istitle()"
   ]
  },
  {
   "cell_type": "code",
   "execution_count": 13,
   "id": "9819fc2a",
   "metadata": {},
   "outputs": [
    {
     "data": {
      "text/plain": [
       "False"
      ]
     },
     "execution_count": 13,
     "metadata": {},
     "output_type": "execute_result"
    }
   ],
   "source": [
    "s='Madrid Solutions'\n",
    "s.islower() #not all letters in small"
   ]
  },
  {
   "cell_type": "code",
   "execution_count": 14,
   "id": "9fed2969",
   "metadata": {},
   "outputs": [
    {
     "data": {
      "text/plain": [
       "True"
      ]
     },
     "execution_count": 14,
     "metadata": {},
     "output_type": "execute_result"
    }
   ],
   "source": [
    "s='madrid solutions'\n",
    "s.islower()"
   ]
  },
  {
   "cell_type": "code",
   "execution_count": 15,
   "id": "51d8f49d",
   "metadata": {},
   "outputs": [
    {
     "data": {
      "text/plain": [
       "False"
      ]
     },
     "execution_count": 15,
     "metadata": {},
     "output_type": "execute_result"
    }
   ],
   "source": [
    "s='Madrid Solutions'\n",
    "s.isupper()"
   ]
  },
  {
   "cell_type": "code",
   "execution_count": 16,
   "id": "dc560482",
   "metadata": {},
   "outputs": [
    {
     "data": {
      "text/plain": [
       "False"
      ]
     },
     "execution_count": 16,
     "metadata": {},
     "output_type": "execute_result"
    }
   ],
   "source": [
    "s='Madrid Solutions'\n",
    "s.isdigit() #all els should be digits"
   ]
  },
  {
   "cell_type": "code",
   "execution_count": 17,
   "id": "f2b57faf",
   "metadata": {},
   "outputs": [
    {
     "data": {
      "text/plain": [
       "True"
      ]
     },
     "execution_count": 17,
     "metadata": {},
     "output_type": "execute_result"
    }
   ],
   "source": [
    "s='123'\n",
    "s.isdigit()"
   ]
  },
  {
   "cell_type": "code",
   "execution_count": 18,
   "id": "f5cadd32",
   "metadata": {},
   "outputs": [
    {
     "data": {
      "text/plain": [
       "False"
      ]
     },
     "execution_count": 18,
     "metadata": {},
     "output_type": "execute_result"
    }
   ],
   "source": [
    "s='Madrid Solutions'\n",
    "s.isspace() #all should be spaces"
   ]
  },
  {
   "cell_type": "code",
   "execution_count": 19,
   "id": "46e27003",
   "metadata": {},
   "outputs": [
    {
     "data": {
      "text/plain": [
       "True"
      ]
     },
     "execution_count": 19,
     "metadata": {},
     "output_type": "execute_result"
    }
   ],
   "source": [
    "s=' '\n",
    "s.isspace()"
   ]
  },
  {
   "cell_type": "code",
   "execution_count": 22,
   "id": "c6972b56",
   "metadata": {},
   "outputs": [
    {
     "ename": "AttributeError",
     "evalue": "'str' object has no attribute 'iscapitalize'",
     "output_type": "error",
     "traceback": [
      "\u001b[1;31m---------------------------------------------------------------------------\u001b[0m",
      "\u001b[1;31mAttributeError\u001b[0m                            Traceback (most recent call last)",
      "Input \u001b[1;32mIn [22]\u001b[0m, in \u001b[0;36m<cell line: 2>\u001b[1;34m()\u001b[0m\n\u001b[0;32m      1\u001b[0m s\u001b[38;5;241m=\u001b[39m\u001b[38;5;124m'\u001b[39m\u001b[38;5;124mMadrid Solutions\u001b[39m\u001b[38;5;124m'\u001b[39m\n\u001b[1;32m----> 2\u001b[0m \u001b[43ms\u001b[49m\u001b[38;5;241;43m.\u001b[39;49m\u001b[43miscapitalize\u001b[49m()\n",
      "\u001b[1;31mAttributeError\u001b[0m: 'str' object has no attribute 'iscapitalize'"
     ]
    }
   ],
   "source": [
    "s='Madrid Solutions'\n",
    "s.() #tab to check all "
   ]
  },
  {
   "cell_type": "code",
   "execution_count": 25,
   "id": "1048468a",
   "metadata": {},
   "outputs": [
    {
     "name": "stdout",
     "output_type": "stream",
     "text": [
      "python core is interesting\n",
      "python core is boring\n"
     ]
    }
   ],
   "source": [
    "s=\"python core is interesting\"\n",
    "s1=s.replace(\"interesting\",\"boring\") #doesn't alter original string, store in a variable\n",
    "print(s)\n",
    "print(s1)"
   ]
  },
  {
   "cell_type": "code",
   "execution_count": 24,
   "id": "5586b845",
   "metadata": {},
   "outputs": [
    {
     "data": {
      "text/plain": [
       "'pythan care is interesting'"
      ]
     },
     "execution_count": 24,
     "metadata": {},
     "output_type": "execute_result"
    }
   ],
   "source": [
    "s=\"python core is interesting\"\n",
    "s.replace(\"o\",\"a\") #all occurences replaced"
   ]
  },
  {
   "cell_type": "code",
   "execution_count": 26,
   "id": "2d708483",
   "metadata": {},
   "outputs": [
    {
     "name": "stdout",
     "output_type": "stream",
     "text": [
      "python core is interesting\n",
      "pythan core is interesting\n"
     ]
    }
   ],
   "source": [
    "#for a particular region\n",
    "s=\"python core is interesting\"\n",
    "s1=s.replace(\"o\",\"a\",1) #only 1 occurence is replaced\n",
    "print(s)\n",
    "print(s1)"
   ]
  },
  {
   "cell_type": "markdown",
   "id": "f30f4bbd",
   "metadata": {},
   "source": [
    "wap to remove a particular string from a given string"
   ]
  },
  {
   "cell_type": "code",
   "execution_count": 30,
   "id": "56e9388a",
   "metadata": {},
   "outputs": [
    {
     "name": "stdout",
     "output_type": "stream",
     "text": [
      "enter a string:madrid\n",
      "enter a substring:r\n"
     ]
    },
    {
     "data": {
      "text/plain": [
       "'mad id'"
      ]
     },
     "execution_count": 30,
     "metadata": {},
     "output_type": "execute_result"
    }
   ],
   "source": [
    "#using replace\n",
    "s=input(\"enter a string:\")\n",
    "s1=input(\"enter a substring:\")\n",
    "s.replace(s1,\" \")"
   ]
  },
  {
   "cell_type": "markdown",
   "id": "afaacecd",
   "metadata": {},
   "source": [
    "remove a char from a position given by user"
   ]
  },
  {
   "cell_type": "code",
   "execution_count": 33,
   "id": "59bfa59d",
   "metadata": {},
   "outputs": [
    {
     "name": "stdout",
     "output_type": "stream",
     "text": [
      "enter a string:madrid\n",
      "enter the position:2\n",
      "marid\n"
     ]
    }
   ],
   "source": [
    "#naive method\n",
    "s=input(\"enter a string:\")\n",
    "pos=int(input(\"enter the position:\"))\n",
    "s1=\"\"\n",
    "for i in range(0,len(s)): #length of entire string -1\n",
    "    if i!=pos:\n",
    "        s1=s1+s[i] #concatenated\n",
    "print(s1)"
   ]
  },
  {
   "cell_type": "code",
   "execution_count": 37,
   "id": "cd78276f",
   "metadata": {},
   "outputs": [
    {
     "name": "stdout",
     "output_type": "stream",
     "text": [
      "enter a string:madrid\n",
      "enter the position:2\n",
      "marid\n"
     ]
    }
   ],
   "source": [
    "#using slicing and concatenation\n",
    "s=input(\"enter a string:\")\n",
    "pos=int(input(\"enter the position:\"))\n",
    "s=s[0:pos]+s[pos+1:]\n",
    "print(s)"
   ]
  },
  {
   "cell_type": "code",
   "execution_count": 39,
   "id": "0498af71",
   "metadata": {},
   "outputs": [
    {
     "name": "stdout",
     "output_type": "stream",
     "text": [
      "4 is the square of 2\n"
     ]
    }
   ],
   "source": [
    "a=2\n",
    "b=4\n",
    "print(\"{} is the square of {}\".format(b,a)) #to replace variables in print "
   ]
  },
  {
   "cell_type": "code",
   "execution_count": 40,
   "id": "701a2263",
   "metadata": {},
   "outputs": [
    {
     "name": "stdout",
     "output_type": "stream",
     "text": [
      "hello is the square of hi\n"
     ]
    }
   ],
   "source": [
    "print(\"{} is the square of {}\".format(\"hello\",\"hi\"))"
   ]
  },
  {
   "cell_type": "code",
   "execution_count": 42,
   "id": "5b5c8202",
   "metadata": {},
   "outputs": [
    {
     "name": "stdout",
     "output_type": "stream",
     "text": [
      "its hello you\n"
     ]
    }
   ],
   "source": [
    "#positional formatting \n",
    "string=\"{1} {0} {2}\".format(\"hello\",\"its\",\"you\")\n",
    "print(string)"
   ]
  },
  {
   "cell_type": "code",
   "execution_count": 45,
   "id": "0b891ac0",
   "metadata": {},
   "outputs": [
    {
     "ename": "KeyError",
     "evalue": "'h'",
     "output_type": "error",
     "traceback": [
      "\u001b[1;31m---------------------------------------------------------------------------\u001b[0m",
      "\u001b[1;31mKeyError\u001b[0m                                  Traceback (most recent call last)",
      "Input \u001b[1;32mIn [45]\u001b[0m, in \u001b[0;36m<cell line: 2>\u001b[1;34m()\u001b[0m\n\u001b[0;32m      1\u001b[0m \u001b[38;5;66;03m#keyword formatting, using 1st alphabet\u001b[39;00m\n\u001b[1;32m----> 2\u001b[0m s\u001b[38;5;241m=\u001b[39m\u001b[38;5;124;43m\"\u001b[39;49m\u001b[38;5;132;43;01m{h}\u001b[39;49;00m\u001b[38;5;124;43m \u001b[39;49m\u001b[38;5;132;43;01m{i}\u001b[39;49;00m\u001b[38;5;124;43m \u001b[39;49m\u001b[38;5;132;43;01m{y}\u001b[39;49;00m\u001b[38;5;124;43m\"\u001b[39;49m\u001b[38;5;241;43m.\u001b[39;49m\u001b[43mformat\u001b[49m\u001b[43m(\u001b[49m\u001b[38;5;124;43m\"\u001b[39;49m\u001b[38;5;124;43mhello\u001b[39;49m\u001b[38;5;124;43m\"\u001b[39;49m\u001b[43m,\u001b[49m\u001b[38;5;124;43m\"\u001b[39;49m\u001b[38;5;124;43mits\u001b[39;49m\u001b[38;5;124;43m\"\u001b[39;49m\u001b[43m,\u001b[49m\u001b[38;5;124;43m\"\u001b[39;49m\u001b[38;5;124;43myou\u001b[39;49m\u001b[38;5;124;43m\"\u001b[39;49m\u001b[43m)\u001b[49m\n\u001b[0;32m      3\u001b[0m \u001b[38;5;28mprint\u001b[39m(s)\n",
      "\u001b[1;31mKeyError\u001b[0m: 'h'"
     ]
    }
   ],
   "source": [
    "#keyword formatting, using 1st alphabet\n",
    "s=\"{h} {i} {y}\".format(\"hello\",\"its\",\"you\")\n",
    "print(s)"
   ]
  },
  {
   "cell_type": "code",
   "execution_count": 46,
   "id": "2c02d087",
   "metadata": {},
   "outputs": [
    {
     "data": {
      "text/plain": [
       "False"
      ]
     },
     "execution_count": 46,
     "metadata": {},
     "output_type": "execute_result"
    }
   ],
   "source": [
    "s=\"madrid\"\n",
    "s.startswith(\"a\")"
   ]
  },
  {
   "cell_type": "code",
   "execution_count": 48,
   "id": "1655596d",
   "metadata": {},
   "outputs": [
    {
     "data": {
      "text/plain": [
       "True"
      ]
     },
     "execution_count": 48,
     "metadata": {},
     "output_type": "execute_result"
    }
   ],
   "source": [
    "s=\"madrid\"\n",
    "s.endswith(\"d\")"
   ]
  },
  {
   "cell_type": "code",
   "execution_count": 49,
   "id": "5c14a8db",
   "metadata": {},
   "outputs": [
    {
     "data": {
      "text/plain": [
       "True"
      ]
     },
     "execution_count": 49,
     "metadata": {},
     "output_type": "execute_result"
    }
   ],
   "source": [
    "s=\"madrid\"\n",
    "s.startswith(\"ma\")"
   ]
  },
  {
   "cell_type": "code",
   "execution_count": 50,
   "id": "cb9e9b83",
   "metadata": {},
   "outputs": [
    {
     "name": "stdout",
     "output_type": "stream",
     "text": [
      "['python', 'core']\n"
     ]
    }
   ],
   "source": [
    "#splits on the bases of the separator\n",
    "s=\"python core\"\n",
    "print(s.split()) #splits using space, by default"
   ]
  },
  {
   "cell_type": "code",
   "execution_count": 51,
   "id": "8ac7ba6c",
   "metadata": {},
   "outputs": [
    {
     "name": "stdout",
     "output_type": "stream",
     "text": [
      "['pyth', 'n c', 're']\n"
     ]
    }
   ],
   "source": [
    "s=\"python core\"\n",
    "print(s.split(\"o\"))"
   ]
  },
  {
   "cell_type": "code",
   "execution_count": 53,
   "id": "2f6e33ab",
   "metadata": {},
   "outputs": [
    {
     "name": "stdout",
     "output_type": "stream",
     "text": [
      "['kirtimathur67', 'gmail.com']\n"
     ]
    }
   ],
   "source": [
    "e=\"kirtimathur67@gmail.com\"\n",
    "print(e.split(\"@\"))"
   ]
  },
  {
   "cell_type": "code",
   "execution_count": 54,
   "id": "e333c4f8",
   "metadata": {},
   "outputs": [
    {
     "name": "stdout",
     "output_type": "stream",
     "text": [
      "['python core']\n"
     ]
    }
   ],
   "source": [
    "s=\"python core\"\n",
    "print(s.split(\"a\")) #stirng wont split"
   ]
  },
  {
   "cell_type": "code",
   "execution_count": 56,
   "id": "06bafb0d",
   "metadata": {},
   "outputs": [
    {
     "name": "stdout",
     "output_type": "stream",
     "text": [
      "['Ca', 'Ba', 'Sa', 'Ma', 'Or']\n"
     ]
    }
   ],
   "source": [
    "#maximum split\n",
    "word=\"CatBatSatMatOr\"\n",
    "print(word.split(\"t\"))"
   ]
  },
  {
   "cell_type": "code",
   "execution_count": 57,
   "id": "6aa33e55",
   "metadata": {},
   "outputs": [
    {
     "name": "stdout",
     "output_type": "stream",
     "text": [
      "['Ca', 'Ba', 'SatMatOr']\n"
     ]
    }
   ],
   "source": [
    "word=\"CatBatSatMatOr\"\n",
    "print(word.split(\"t\",2))"
   ]
  },
  {
   "cell_type": "code",
   "execution_count": 58,
   "id": "9040b800",
   "metadata": {},
   "outputs": [
    {
     "name": "stdout",
     "output_type": "stream",
     "text": [
      "['CatBatSatMatOr']\n"
     ]
    }
   ],
   "source": [
    "word=\"CatBatSatMatOr\"\n",
    "print(word.split()) #as no space"
   ]
  },
  {
   "cell_type": "code",
   "execution_count": 59,
   "id": "a343ebaf",
   "metadata": {},
   "outputs": [
    {
     "name": "stdout",
     "output_type": "stream",
     "text": [
      "['w', 'e', 'l', 'c', 'o', 'm', 'e']\n"
     ]
    }
   ],
   "source": [
    "s=\"w,e,l,c,o,m,e\"\n",
    "print(s.split(\",\"))"
   ]
  },
  {
   "cell_type": "code",
   "execution_count": 62,
   "id": "b78b8c5f",
   "metadata": {},
   "outputs": [
    {
     "name": "stdout",
     "output_type": "stream",
     "text": [
      "['w', 'e', 'l,c,o,m,e']\n"
     ]
    }
   ],
   "source": [
    "s=\"w,e,l,c,o,m,e\"\n",
    "print(s.split(\",\",2)) #by default split from left to right"
   ]
  },
  {
   "cell_type": "code",
   "execution_count": 63,
   "id": "7ace4989",
   "metadata": {},
   "outputs": [
    {
     "data": {
      "text/plain": [
       "['kirtimathur67@gmail.com', 'mails', 'inbox']"
      ]
     },
     "execution_count": 63,
     "metadata": {},
     "output_type": "execute_result"
    }
   ],
   "source": [
    "#for spliting from right\n",
    "s=\"kirtimathur67@gmail.com/mails/inbox\"\n",
    "s.rsplit(\"/\") #print visible from left only, but splitting from right"
   ]
  },
  {
   "cell_type": "code",
   "execution_count": 64,
   "id": "19597187",
   "metadata": {},
   "outputs": [
    {
     "data": {
      "text/plain": [
       "['kirtimathur67@gmail.com/mails', 'inbox']"
      ]
     },
     "execution_count": 64,
     "metadata": {},
     "output_type": "execute_result"
    }
   ],
   "source": [
    "s=\"kirtimathur67@gmail.com/mails/inbox\"\n",
    "s.rsplit(\"/\",1)"
   ]
  },
  {
   "cell_type": "code",
   "execution_count": 66,
   "id": "70800cc1",
   "metadata": {},
   "outputs": [
    {
     "name": "stdout",
     "output_type": "stream",
     "text": [
      "     hi how are you   \n"
     ]
    },
    {
     "data": {
      "text/plain": [
       "'hi how are you'"
      ]
     },
     "execution_count": 66,
     "metadata": {},
     "output_type": "execute_result"
    }
   ],
   "source": [
    "#strip() \n",
    "s=\"     hi how are you   \"\n",
    "print(s)\n",
    "s.strip() #removes spaces by default, leading and trailing spaces removed"
   ]
  },
  {
   "cell_type": "code",
   "execution_count": 67,
   "id": "b4d60cf7",
   "metadata": {},
   "outputs": [
    {
     "name": "stdout",
     "output_type": "stream",
     "text": [
      "    hi how are you@\n"
     ]
    },
    {
     "data": {
      "text/plain": [
       "'    hi how are you'"
      ]
     },
     "execution_count": 67,
     "metadata": {},
     "output_type": "execute_result"
    }
   ],
   "source": [
    "s=\"    hi how are you@\"\n",
    "print(s)\n",
    "s.strip(\"@\")"
   ]
  },
  {
   "cell_type": "code",
   "execution_count": 68,
   "id": "4b250bbc",
   "metadata": {},
   "outputs": [],
   "source": [
    "#lstrip and rstrip for only left and right"
   ]
  },
  {
   "cell_type": "code",
   "execution_count": 69,
   "id": "8b9c2f29",
   "metadata": {},
   "outputs": [
    {
     "data": {
      "text/plain": [
       "'1*2*3*4'"
      ]
     },
     "execution_count": 69,
     "metadata": {},
     "output_type": "execute_result"
    }
   ],
   "source": [
    "l=['1','2','3','4']\n",
    "s=\"*\"\n",
    "s.join(l) #same as concat but joining parameter is given"
   ]
  },
  {
   "cell_type": "markdown",
   "id": "8c2c0b3d",
   "metadata": {},
   "source": [
    "1. take a list of string from user and display all the words which starts with a"
   ]
  },
  {
   "cell_type": "code",
   "execution_count": 71,
   "id": "b72fcde2",
   "metadata": {},
   "outputs": [
    {
     "name": "stdout",
     "output_type": "stream",
     "text": [
      "enter the fruits name:apple,orange\n",
      "apple\n"
     ]
    }
   ],
   "source": [
    "fruit=input(\"enter the fruits name:\").split(\",\")\n",
    "for i in fruit:\n",
    "    if i.startswith(\"a\"):\n",
    "        print(i)"
   ]
  },
  {
   "cell_type": "markdown",
   "id": "b2882664",
   "metadata": {},
   "source": [
    "2. wap to check how many upper case, lower case, digits, and special char in a string\n"
   ]
  },
  {
   "cell_type": "code",
   "execution_count": 73,
   "id": "6d82e351",
   "metadata": {},
   "outputs": [
    {
     "name": "stdout",
     "output_type": "stream",
     "text": [
      "2\n",
      "13\n",
      "9\n",
      "7\n"
     ]
    }
   ],
   "source": [
    "s=\"ADsiakn2216738$&^%&*^sadnbmas13\"\n",
    "u,l,d,c=0,0,0,0\n",
    "for i in s:\n",
    "    if i.isupper():\n",
    "        u+=1\n",
    "    elif i.islower():\n",
    "        l+=1\n",
    "    elif i.isdigit():\n",
    "        d+=1\n",
    "    else:\n",
    "        c+=1\n",
    "print(u)\n",
    "print(l)\n",
    "print(d)\n",
    "print(c)"
   ]
  },
  {
   "cell_type": "code",
   "execution_count": 77,
   "id": "686f5e32",
   "metadata": {},
   "outputs": [
    {
     "name": "stdout",
     "output_type": "stream",
     "text": [
      "enter a string:madrid\n",
      "dirdam"
     ]
    }
   ],
   "source": [
    "s=input(\"enter a string:\")\n",
    "l=len(s)\n",
    "l1=l-1\n",
    "while(l1>=0):\n",
    "    print(s[l1],end=\"\")\n",
    "    l1-=1"
   ]
  },
  {
   "cell_type": "code",
   "execution_count": 82,
   "id": "7973826b",
   "metadata": {},
   "outputs": [
    {
     "name": "stdout",
     "output_type": "stream",
     "text": [
      "4\n",
      "18\n",
      "9\n",
      "18\n"
     ]
    }
   ],
   "source": [
    "#wap to display and count vowels, consonants, digits and special char in the string\n",
    "s=\"ADsiakn2216738$&^%&*^sadnbmas13\"\n",
    "v,c,d,c=0,0,0,0\n",
    "for i in s:\n",
    "    if i.isalpha():\n",
    "        if i==\"a\" or i==\"e\" or i==\"i\" or i==\"o\" or i==\"u\":\n",
    "            v+=1\n",
    "        else:\n",
    "            c+=1\n",
    "    elif i.isdigit():\n",
    "        d+=1\n",
    "    else:\n",
    "        c+=1\n",
    "print(v)\n",
    "print(c)\n",
    "print(d)\n",
    "print(c)"
   ]
  },
  {
   "cell_type": "markdown",
   "id": "211d54f1",
   "metadata": {},
   "source": [
    "# hw"
   ]
  },
  {
   "cell_type": "markdown",
   "id": "cfdd9895",
   "metadata": {},
   "source": [
    "Q1. wap to change a given string to a new string where the 1st and last char have been exchanged."
   ]
  },
  {
   "cell_type": "code",
   "execution_count": 3,
   "id": "d60f609f",
   "metadata": {},
   "outputs": [
    {
     "name": "stdout",
     "output_type": "stream",
     "text": [
      "enter a string:madrid\n",
      "dadrim\n"
     ]
    }
   ],
   "source": [
    "def exchange(str):\n",
    "    return str[-1:]+str[1:-1]+str[:1]\n",
    "s=input(\"enter a string:\")\n",
    "e=exchange(s)\n",
    "print(e)"
   ]
  },
  {
   "cell_type": "code",
   "execution_count": 16,
   "id": "d0b37e06",
   "metadata": {},
   "outputs": [
    {
     "name": "stdout",
     "output_type": "stream",
     "text": [
      "enter a string:madrid\n",
      "mamrim\n"
     ]
    }
   ],
   "source": [
    "s=input(\"enter a string:\")\n",
    "l=len(s)-1\n",
    "first=s[0]\n",
    "for i in s:\n",
    "    s1=s.replace(s[0],s[l])\n",
    "    break\n",
    "l1=len(s1)-1\n",
    "s2=s1.replace(s[l],first)\n",
    "print(s2)"
   ]
  },
  {
   "cell_type": "markdown",
   "id": "873d0834",
   "metadata": {},
   "source": [
    "Q2. wap to remove the character which have odd index value in a given string"
   ]
  },
  {
   "cell_type": "code",
   "execution_count": 2,
   "id": "2a75efc3",
   "metadata": {},
   "outputs": [
    {
     "name": "stdout",
     "output_type": "stream",
     "text": [
      "enter a string:qhkjs\n",
      "qks\n"
     ]
    }
   ],
   "source": [
    "s=input(\"enter a string:\")\n",
    "even=\"\"\n",
    "for i in range(len(s)+1):\n",
    "    if i%2==0:\n",
    "        even=even+s[i]\n",
    "print(even)\n",
    "        "
   ]
  },
  {
   "cell_type": "markdown",
   "id": "bafdccfb",
   "metadata": {},
   "source": [
    "Q3. wap to count the no. of chars in a string."
   ]
  },
  {
   "cell_type": "code",
   "execution_count": 20,
   "id": "16dfe56b",
   "metadata": {},
   "outputs": [
    {
     "name": "stdout",
     "output_type": "stream",
     "text": [
      "enter a string:iuwjisj\n",
      "7\n"
     ]
    }
   ],
   "source": [
    "absjms=input(\"enter a string:\")\n",
    "count=0\n",
    "for i in s:\n",
    "    count+=1\n",
    "print(count)"
   ]
  },
  {
   "cell_type": "markdown",
   "id": "800aa02a",
   "metadata": {},
   "source": [
    "Q4. wap to input a password from user and check validity of the password\n",
    "-> minimum one uppercase,lowercase,digit,special char\n",
    "-> minimum length of pass should be 10.\n",
    "-> menu driven-> gives 5 attempts"
   ]
  },
  {
   "cell_type": "code",
   "execution_count": 37,
   "id": "57c01f33",
   "metadata": {},
   "outputs": [
    {
     "name": "stdout",
     "output_type": "stream",
     "text": [
      "enter the password according requirements:fgAS3#\n",
      "password accepted\n",
      "2\n",
      "2\n",
      "1\n",
      "1\n"
     ]
    }
   ],
   "source": [
    "\n",
    "u,lo,d,c=0,0,0,0\n",
    "for j in range(0,5):\n",
    "    pas=input(\"enter the password according requirements:\")\n",
    "    for i in pas:\n",
    "        if i.isupper():\n",
    "            u+=1\n",
    "        elif i.islower():\n",
    "            lo+=1\n",
    "        elif i.isdigit():\n",
    "            d+=1\n",
    "        else:\n",
    "            c+=1\n",
    "    if len(pas)>=10 and u>=1 or l>=1 or d>=1 or c>=1:\n",
    "        print(\"password accepted\")\n",
    "        break\n",
    "    else:\n",
    "        print(\"password doesn't meet the requirements, enter again\")\n",
    "print(u)\n",
    "print(lo)\n",
    "print(d)\n",
    "print(c)"
   ]
  },
  {
   "cell_type": "code",
   "execution_count": null,
   "id": "971c2fcd",
   "metadata": {},
   "outputs": [],
   "source": []
  }
 ],
 "metadata": {
  "kernelspec": {
   "display_name": "Python 3 (ipykernel)",
   "language": "python",
   "name": "python3"
  },
  "language_info": {
   "codemirror_mode": {
    "name": "ipython",
    "version": 3
   },
   "file_extension": ".py",
   "mimetype": "text/x-python",
   "name": "python",
   "nbconvert_exporter": "python",
   "pygments_lexer": "ipython3",
   "version": "3.9.12"
  }
 },
 "nbformat": 4,
 "nbformat_minor": 5
}
