{
 "cells": [
  {
   "cell_type": "code",
   "execution_count": 1,
   "id": "250d4289",
   "metadata": {},
   "outputs": [
    {
     "name": "stdout",
     "output_type": "stream",
     "text": [
      "enter no. of rows: 5\n",
      "A   F   K   P   U   \n",
      "B   G   L   Q   V   \n",
      "C   H   M   R   W   \n",
      "D   I   N   S   X   \n",
      "E   J   O   T   Y   \n"
     ]
    }
   ],
   "source": [
    "'''\n",
    "A F K P U\n",
    "B G L Q V\n",
    "C H M R W\n",
    "D I N S X\n",
    "E J O T Y'''\n",
    "r=int(input(\"enter no. of rows: \"))\n",
    "m=65\n",
    "for i in range(1,r+1):\n",
    "    k=m\n",
    "    for j in range(1,r+1):\n",
    "        print(chr(k),\" \",end=\" \")\n",
    "        k=k+5\n",
    "    m=m+1\n",
    "    print(end=\"\\n\")"
   ]
  },
  {
   "cell_type": "code",
   "execution_count": 2,
   "id": "f426c45d",
   "metadata": {},
   "outputs": [
    {
     "name": "stdout",
     "output_type": "stream",
     "text": [
      "enter no. of rows: 3\n",
      "  *\n",
      " **\n",
      "***\n"
     ]
    }
   ],
   "source": [
    "'''\n",
    "  *\n",
    " **\n",
    "***\n",
    "'''\n",
    "r=int(input(\"enter no. of rows: \"))\n",
    "space=r\n",
    "for i in range(1,r+1):\n",
    "    for j in range(1,space):\n",
    "        print(end=\" \")\n",
    "    space=space-1\n",
    "    for k in range(1,i+1):\n",
    "        print(\"*\",end=\"\")\n",
    "    print(end=\"\\n\")\n",
    "        "
   ]
  },
  {
   "cell_type": "code",
   "execution_count": 3,
   "id": "07dbc1c9",
   "metadata": {},
   "outputs": [
    {
     "name": "stdout",
     "output_type": "stream",
     "text": [
      "enter no. of rows: 5\n",
      "5 \n",
      "4 4 \n",
      "3 3 3 \n",
      "2 2 2 2 \n",
      "1 1 1 1 1 \n"
     ]
    }
   ],
   "source": [
    "'''\n",
    "5\n",
    "4 4\n",
    "3 3 3\n",
    "2 2 2 2\n",
    "1 1 1 1 1'''\n",
    "r=int(input(\"enter no. of rows: \"))\n",
    "k=r\n",
    "for i in range(1,r+1):\n",
    "    for j in range(1,i+1):\n",
    "        print(k,end=\" \")\n",
    "    k=k-1\n",
    "    print(end=\"\\n\")\n",
    "        "
   ]
  },
  {
   "cell_type": "code",
   "execution_count": 4,
   "id": "59f38063",
   "metadata": {},
   "outputs": [
    {
     "name": "stdout",
     "output_type": "stream",
     "text": [
      "enter no. of rows: 5\n",
      "1 \n",
      "2 2 \n",
      "3 3 3 \n",
      "4 4 4 4 \n",
      "5 5 5 5 5 \n"
     ]
    }
   ],
   "source": [
    "r=int(input(\"enter no. of rows: \"))\n",
    "k=1\n",
    "for i in range(1,r+1):\n",
    "    for j in range(1,i+1):\n",
    "        print(k,end=\" \") #used end so that default new line is not taken\n",
    "    k=k+1\n",
    "    print(end=\"\\n\")"
   ]
  },
  {
   "cell_type": "code",
   "execution_count": null,
   "id": "0d099d11",
   "metadata": {},
   "outputs": [],
   "source": []
  }
 ],
 "metadata": {
  "kernelspec": {
   "display_name": "Python 3 (ipykernel)",
   "language": "python",
   "name": "python3"
  },
  "language_info": {
   "codemirror_mode": {
    "name": "ipython",
    "version": 3
   },
   "file_extension": ".py",
   "mimetype": "text/x-python",
   "name": "python",
   "nbconvert_exporter": "python",
   "pygments_lexer": "ipython3",
   "version": "3.9.12"
  }
 },
 "nbformat": 4,
 "nbformat_minor": 5
}
