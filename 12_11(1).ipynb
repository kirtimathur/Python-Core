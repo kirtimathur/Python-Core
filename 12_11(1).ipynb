{
 "cells": [
  {
   "cell_type": "code",
   "execution_count": 1,
   "id": "fe9f7cd4",
   "metadata": {},
   "outputs": [
    {
     "name": "stdout",
     "output_type": "stream",
     "text": [
      "first half values of the tuple are :   (1, 2, 3, 4, 5)\n",
      "second half values are  (6, 7, 8, 9, 10)\n"
     ]
    }
   ],
   "source": [
    "#With a given tuple (1,2,3,4,5,6,7,8,9,10), write a program to print the first half values in one line and the last half \n",
    "#values in one line.\n",
    "t=(1,2,3,4,5,6,7,8,9,10)\n",
    "print(\"first half values of the tuple are :  \",t[0:(len(t)//2)])\n",
    "print(\"second half values are \",t[len(t)//2:len(t)])\n"
   ]
  },
  {
   "cell_type": "code",
   "execution_count": 2,
   "id": "08988024",
   "metadata": {},
   "outputs": [
    {
     "name": "stdout",
     "output_type": "stream",
     "text": [
      "enter the elements in the list 2,3,6,17,9,0,-1\n",
      "[9, 289, 81, 1]\n"
     ]
    }
   ],
   "source": [
    "#Use a list comprehension to square each odd number in a list. The list is input by a sequence of comma-separated numbers.\n",
    "l=input(\"enter the elements in the list \").split(\",\")\n",
    "\n",
    "l1=[int(num)*int(num) for num in l if int(num)%2!=0]\n",
    "print(l1)"
   ]
  },
  {
   "cell_type": "code",
   "execution_count": 3,
   "id": "d1755b64",
   "metadata": {},
   "outputs": [
    {
     "data": {
      "text/plain": [
       "['hello', '12', '224', 'hi', 'howr u']"
      ]
     },
     "execution_count": 3,
     "metadata": {},
     "output_type": "execute_result"
    }
   ],
   "source": [
    "#a) wap  to remove punctuation mark from list of string using list comprehension\n",
    "l=[\"hello'\",\"1'2\",\"22'4\",\"hi\" ,\"how'r u\"]\n",
    "l1=[]\n",
    "for i in l:\n",
    "    l1.append(i.replace(\"'\",\"\"))\n",
    "l1\n"
   ]
  },
  {
   "cell_type": "code",
   "execution_count": 4,
   "id": "ba6c341e",
   "metadata": {},
   "outputs": [
    {
     "name": "stdout",
     "output_type": "stream",
     "text": [
      "[1, 3, 5, 7, 9]\n"
     ]
    }
   ],
   "source": [
    "#b) Use a list comprehension to display the lement at odd index in a list. \n",
    "#The list is input by a sequence of comma-separated numbers.\n",
    "#Suppose the input is supplied to the program: 1,2,3,4,5,6,7,8,9\n",
    "#Then, the output should be: 1, 3, 5, 7, 9 \n",
    "l=[1,2,3,4,5,6,7,8,9]\n",
    "l1=[]\n",
    "for i in range(0,len(l),2):\n",
    "    l1.append(l[i])\n",
    "print(l1)\n"
   ]
  },
  {
   "cell_type": "code",
   "execution_count": null,
   "id": "2958468b",
   "metadata": {},
   "outputs": [],
   "source": []
  }
 ],
 "metadata": {
  "kernelspec": {
   "display_name": "Python 3 (ipykernel)",
   "language": "python",
   "name": "python3"
  },
  "language_info": {
   "codemirror_mode": {
    "name": "ipython",
    "version": 3
   },
   "file_extension": ".py",
   "mimetype": "text/x-python",
   "name": "python",
   "nbconvert_exporter": "python",
   "pygments_lexer": "ipython3",
   "version": "3.9.12"
  }
 },
 "nbformat": 4,
 "nbformat_minor": 5
}
