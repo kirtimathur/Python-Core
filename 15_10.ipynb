{
 "cells": [
  {
   "cell_type": "code",
   "execution_count": 2,
   "id": "e546a675",
   "metadata": {},
   "outputs": [
    {
     "name": "stdout",
     "output_type": "stream",
     "text": [
      "enter the no.:4\n",
      "do you wish to enter more then enter 1 otherwise 0:1\n",
      "enter the no.:6\n",
      "do you wish to enter more then enter 1 otherwise 0:1\n",
      "enter the no.:9\n",
      "do you wish to enter more then enter 1 otherwise 0:0\n",
      "sum is: 19\n"
     ]
    }
   ],
   "source": [
    "# Q.Write a program to enter the numbers till the user wants and at the end it should display the sum of all the numbers entered\n",
    "sum=0\n",
    "while(1):\n",
    "    num=int(input(\"enter the no.:\"))\n",
    "    sum=sum+num\n",
    "    choice=input(\"do you wish to enter more then enter 1 otherwise 0:\")\n",
    "    if choice==\"1\":\n",
    "        continue\n",
    "    elif choice==\"0\":\n",
    "        break\n",
    "    else:\n",
    "        print(\"invalid choice\")\n",
    "print(\"sum is:\",sum)\n",
    "        "
   ]
  },
  {
   "cell_type": "code",
   "execution_count": null,
   "id": "aa529683",
   "metadata": {},
   "outputs": [],
   "source": []
  }
 ],
 "metadata": {
  "kernelspec": {
   "display_name": "Python 3 (ipykernel)",
   "language": "python",
   "name": "python3"
  },
  "language_info": {
   "codemirror_mode": {
    "name": "ipython",
    "version": 3
   },
   "file_extension": ".py",
   "mimetype": "text/x-python",
   "name": "python",
   "nbconvert_exporter": "python",
   "pygments_lexer": "ipython3",
   "version": "3.9.12"
  }
 },
 "nbformat": 4,
 "nbformat_minor": 5
}
