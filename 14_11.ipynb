{
 "cells": [
  {
   "cell_type": "code",
   "execution_count": 2,
   "id": "e33cecf0",
   "metadata": {},
   "outputs": [
    {
     "name": "stdout",
     "output_type": "stream",
     "text": [
      "enter a list:2,19,0,123,7,-9,13\n",
      "7\n",
      "13\n",
      "123 is largest\n",
      "13 is 2nd largest\n"
     ]
    }
   ],
   "source": [
    "#Write a program to display second largest element of the list entered by user\n",
    "l=input(\"enter a list:\").split(\",\")\n",
    "m=l[0]\n",
    "sm=l[0]\n",
    "for i in l:\n",
    "    i=int(i)\n",
    "    m=int(m)\n",
    "    sm=int(sm)\n",
    "    #print(type(i),type(m))\n",
    "    if i>m:\n",
    "        m=i\n",
    "    elif i!=m and i>sm:\n",
    "        print(i)\n",
    "        sm=i\n",
    "print(m,\"is largest\")\n",
    "print(sm,\"is 2nd largest\")"
   ]
  },
  {
   "cell_type": "code",
   "execution_count": 6,
   "id": "41bbbbf6",
   "metadata": {},
   "outputs": [
    {
     "name": "stdout",
     "output_type": "stream",
     "text": [
      "Counter({'abb': 3, 'abc': 2, 'bac': 1})\n"
     ]
    }
   ],
   "source": [
    "#Write a program to display the most, second most and least frequent word of the list\n",
    "l=[\"abc\",\"bac\",\"abc\",\"abb\",\"abb\",\"abb\"]\n",
    "\n",
    "l=[\"abc\",\"bac\",\"abc\",\"abb\",\"abb\",\"abb\"]\n",
    "from collections import Counter\n",
    "'''for i in l:\n",
    "    print(i,\"---\",l.count(i))'''\n",
    "print(Counter(l))"
   ]
  },
  {
   "cell_type": "code",
   "execution_count": 7,
   "id": "1f0fc844",
   "metadata": {},
   "outputs": [
    {
     "name": "stdout",
     "output_type": "stream",
     "text": [
      "5.773502691896258\n"
     ]
    }
   ],
   "source": [
    "'''Write a program that calculates and prints the value according to the given formula:\n",
    "Q = Square root of [(2 * C * D)/H]\n",
    "\n",
    "Following are the fixed values of C and H: C is 50. H is 30.'''\n",
    "\n",
    "import math\n",
    "c=50\n",
    "h=30\n",
    "d=10\n",
    "q=math.sqrt((2*c*d)/h)\n",
    "print(q)"
   ]
  },
  {
   "cell_type": "code",
   "execution_count": 8,
   "id": "d5224bb1",
   "metadata": {},
   "outputs": [
    {
     "name": "stdout",
     "output_type": "stream",
     "text": [
      "['hello', 'a', 'd', 'r', 'i', 'd']\n",
      "['hello', 'a', 'hello', 'r', 'i', 'd']\n",
      "['hello', 'a', 'hello', 'r', 'hello', 'd']\n",
      "helloahellorhellod\n"
     ]
    }
   ],
   "source": [
    "'''wap to place \"hello\" at even index of string.\n",
    "eg: string : \"madrid\"\n",
    "\n",
    "output: helloahellorhellod'''\n",
    "\n",
    "l=\"madrid\"\n",
    "l1=[]\n",
    "for k in l:\n",
    "    l1.append(k)\n",
    "s1=\"\"\n",
    "for i in range(len(l1)):\n",
    "    if i%2==0:\n",
    "        l1[i]=\"hello\"\n",
    "        print(l1)\n",
    "for j in l1:\n",
    "    s1+=j\n",
    "print(s1)"
   ]
  },
  {
   "cell_type": "code",
   "execution_count": null,
   "id": "688a6c01",
   "metadata": {},
   "outputs": [],
   "source": []
  }
 ],
 "metadata": {
  "kernelspec": {
   "display_name": "Python 3 (ipykernel)",
   "language": "python",
   "name": "python3"
  },
  "language_info": {
   "codemirror_mode": {
    "name": "ipython",
    "version": 3
   },
   "file_extension": ".py",
   "mimetype": "text/x-python",
   "name": "python",
   "nbconvert_exporter": "python",
   "pygments_lexer": "ipython3",
   "version": "3.9.12"
  }
 },
 "nbformat": 4,
 "nbformat_minor": 5
}
