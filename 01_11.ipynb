{

 "cells": [
  {
   "cell_type": "code",
   "execution_count": 5,
   "id": "28f99ed2",
   "metadata": {},
   "outputs": [
    {
     "name": "stdout",
     "output_type": "stream",
     "text": [
      "enter the no.1\n",
      "enter the no.2\n",
      "enter the no.3\n",
      "enter the no.4\n",
      "enter the no.5\n",
      "enter the no.6\n",
      "enter the no.7\n",
      "enter the no.8\n",
      "enter the no.9\n",
      "[1, 2, 3, 4, 5, 6, 7, 8, 9]\n",
      "enter the no. to be searched:4\n",
      "it's present\n"
     ]
    }
   ],
   "source": [
    "#take a list from user and check if a entered number is present\n",
    "l=[]\n",
    "flag=0\n",
    "for i in range(1,10):\n",
    "    i=int(input(\"enter the no.\"))\n",
    "    l.append(i)\n",
    "print(l)\n",
    "element=int(input(\"enter the no. to be searched:\"))\n",
    "for j in l:\n",
    "    if j==element:\n",
    "        flag=1 #defining the presence\n",
    "if flag==1:\n",
    "    print(\"it's present\")\n",
    "else:\n",
    "    print(\"it's not present\")"
   ]
  },
  {
   "cell_type": "code",
   "execution_count": 6,
   "id": "fbb4713b",
   "metadata": {},
   "outputs": [
    {
     "name": "stdout",
     "output_type": "stream",
     "text": [
      "-1\n"
     ]
    }
   ],
   "source": [
    "#to find smallest el of list\n",
    "l=[1,0,-1,5]\n",
    "sm=l[0]=2\n",
    "for i in l[1:]:\n",
    "    i=int(i)\n",
    "    if i<sm:\n",
    "        sm=i\n",
    "print(sm)"
   ]
  },
  {
   "cell_type": "code",
   "execution_count": 7,
   "id": "c31fc148",
   "metadata": {},
   "outputs": [
    {
     "name": "stdout",
     "output_type": "stream",
     "text": [
      "[1, 2, 3, 4, 5, 6]\n"
     ]
    }
   ],
   "source": [
    "#to remove duplicate el form the list, and display all uniques\n",
    "l=[1,1,1,2,3,4,4,5,6]\n",
    "unique=[]\n",
    "for i in l:\n",
    "    if i not in unique:\n",
    "        unique.append(i)\n",
    "print(unique)"
   ]
  },
  {
   "cell_type": "code",
   "execution_count": 8,
   "id": "ce70b800",
   "metadata": {},
   "outputs": [
    {
     "name": "stdout",
     "output_type": "stream",
     "text": [
      "['here', 'we learn', 'pyon']\n"
     ]
    }
   ],
   "source": [
    "#input: l1=[\"he\",\"we \",\"py\"] and l2=[\"re\",\"learn\",\"on\"], output: l=[\"here\",\"we re\",\"pyon\"]\n",
    "l1=[\"he\",\"we \",\"py\"]\n",
    "l2=[\"re\",\"learn\",\"on\"]\n",
    "#l=[\"here\",\"we re\",\"pyon\"], parallel, using zip fn\n",
    "l=tuple(zip(l1,l2))\n",
    "#print(l)\n",
    "a=l[0][0]+l[0][1]\n",
    "b=l[1][0]+l[1][1]\n",
    "c=l[2][0]+l[2][1]\n",
    "#print(a,b,c)\n",
    "l3=[]\n",
    "k=0\n",
    "for i in l:\n",
    "    #print(i)\n",
    "    j=l[k][0]+l[k][1]\n",
    "    l3.append(j)\n",
    "    k+=1\n",
    "print(l3)"
   ]
  },
  {
   "cell_type": "code",
   "execution_count": null,
   "id": "9e36f35c",
   "metadata": {},
   "outputs": [],
   "source": []
  }
 ],
 "metadata": {
  "kernelspec": {
   "display_name": "Python 3 (ipykernel)",
   "language": "python",
   "name": "python3"
  },
  "language_info": {
   "codemirror_mode": {
    "name": "ipython",
    "version": 3
   },
   "file_extension": ".py",
   "mimetype": "text/x-python",
   "name": "python",
   "nbconvert_exporter": "python",
   "pygments_lexer": "ipython3",
   "version": "3.9.12"
  }
 },
 "nbformat": 4,
 "nbformat_minor": 5
}
