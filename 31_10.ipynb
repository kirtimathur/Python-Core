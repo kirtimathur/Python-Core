{
 "cells": [
  {
   "cell_type": "code",
   "execution_count": 1,
   "id": "d721ff0d",
   "metadata": {},
   "outputs": [
    {
     "name": "stdout",
     "output_type": "stream",
     "text": [
      "[2, 4, 6, 8]\n"
     ]
    }
   ],
   "source": [
    "#Q1. wap to display all the even no.s of the list in a new list. (using append)\n",
    "\n",
    "l=[1,2,3,4,6,8]\n",
    "l1=[]\n",
    "for i in l:\n",
    "    if i%2==0:\n",
    "        l1.append(i)\n",
    "print(l1)"
   ]
  },
  {
   "cell_type": "code",
   "execution_count": 3,
   "id": "ce250280",
   "metadata": {},
   "outputs": [
    {
     "name": "stdout",
     "output_type": "stream",
     "text": [
      "1\n",
      "<class 'int'>\n",
      "2\n",
      "<class 'int'>\n",
      "3.3\n",
      "<class 'float'>\n",
      "hi\n",
      "<class 'str'>\n"
     ]
    }
   ],
   "source": [
    "#Q2. wap to display the list which contains the type of the corresponding element. (using append)\n",
    "\n",
    "l=[1,2,3.3,\"hi\"]\n",
    "for i in range(0,len(l)):\n",
    "    x=l[i]\n",
    "    print(x)\n",
    "    print(type(x))"
   ]
  },
  {
   "cell_type": "code",
   "execution_count": 4,
   "id": "19b6c565",
   "metadata": {},
   "outputs": [
    {
     "name": "stdout",
     "output_type": "stream",
     "text": [
      "['here', 'helearn', 'heon', 'we re', 'we learn', 'we on', 'pyre', 'pylearn', 'pyon']\n"
     ]
    }
   ],
   "source": [
    "'''Q3. make a list from l1=[\"he\",\"we \",\"py\"] and l2=[\"re\",\"learn\",\"on\"] into \n",
    "l=[\"here\",\"helearn\",\"heon\",\"we re\",\"we learn\",\"we on\",\"python\",\"pylearn\",\"pyon\"]'''\n",
    "l1=[\"he\",\"we \",\"py\"] #he fixed, added with each of l2\n",
    "l2=[\"re\",\"learn\",\"on\"]\n",
    "l3=[]\n",
    "for i in l1:\n",
    "    for j in l2:\n",
    "        l3.append(i+j)\n",
    "print(l3)\n"
   ]
  },
  {
   "cell_type": "code",
   "execution_count": 10,
   "id": "3657b1fa",
   "metadata": {},
   "outputs": [
    {
     "name": "stdout",
     "output_type": "stream",
     "text": [
      "[1, 2, 3, 4, 5]\n",
      "[2, 4, 6, 8, 10]\n",
      "['odd', 2, 'odd', 4, 'odd', 6, 'odd', 8, 'odd', 10]\n",
      "['yes it is present']\n"
     ]
    }
   ],
   "source": [
    "#list comprehension, to optimize the code, in short\n",
    "print([i for i in range(1,6)])\n",
    "print([i for i in range(1,11) if i%2==0])\n",
    "print([i if i%2==0 else \"odd\" for i in range(1,11)])\n",
    "l=[[2,3,4],[5,6,7],[8,9,0]]\n",
    "print([\"yes it is present\" for i in l if i==[5,6,7]])"
   ]
  },
  {
   "cell_type": "code",
   "execution_count": null,
   "id": "83474260",
   "metadata": {},
   "outputs": [],
   "source": []
  }
 ],
 "metadata": {
  "kernelspec": {
   "display_name": "Python 3 (ipykernel)",
   "language": "python",
   "name": "python3"
  },
  "language_info": {
   "codemirror_mode": {
    "name": "ipython",
    "version": 3
   },
   "file_extension": ".py",
   "mimetype": "text/x-python",
   "name": "python",
   "nbconvert_exporter": "python",
   "pygments_lexer": "ipython3",
   "version": "3.9.12"
  }
 },
 "nbformat": 4,
 "nbformat_minor": 5
}
