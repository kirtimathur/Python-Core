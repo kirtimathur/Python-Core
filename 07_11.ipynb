{
 
 "cells": [
  {
   "cell_type": "code",
   "execution_count": 1,
   "id": "3a6433cd",
   "metadata": {},
   "outputs": [
    {
     "name": "stdout",
     "output_type": "stream",
     "text": [
      "enter the no. of els:5\n",
      "enter the value to be added in the seta\n",
      "enter the value to be added in the setb\n",
      "enter the value to be added in the setc\n",
      "enter the value to be added in the setd\n",
      "enter the value to be added in the sete\n",
      "{'d', 'a', 'e', 'b', 'c'}\n"
     ]
    }
   ],
   "source": [
    "#wap to add the element into the set which is entered by user\n",
    "s=set()\n",
    "size=int(input(\"enter the no. of els:\"))\n",
    "for i in range(1,size+1):\n",
    "    x=input(\"enter the value to be added in the set\")\n",
    "    s.add(x)\n",
    "print(s)"
   ]
  },
  {
   "cell_type": "code",
   "execution_count": 2,
   "id": "618e6628",
   "metadata": {},
   "outputs": [
    {
     "name": "stdout",
     "output_type": "stream",
     "text": [
      "{2048, 2050, 2052, 2054, 2056, 2058, 2060, 2062, 2064, 2066, 2068, 2070, 2072, 2074, 2076, 2078, 2080, 2082, 2084, 2086, 2088, 2090, 2092, 2094, 2096, 2098, 2100, 2002, 2004, 2006, 2008, 2010, 2012, 2014, 2016, 2018, 2020, 2022, 2024, 2026, 2028, 2030, 2032, 2034, 2036, 2038, 2040, 2042, 2044, 2046}\n"
     ]
    }
   ],
   "source": [
    "#Q1.wap to add all the els in the set from 2002 to 2100 whose all digits are even\n",
    "s=set()\n",
    "sum=0\n",
    "for i in range(2002,2101):\n",
    "    if i%2==0:\n",
    "        #print(i)\n",
    "        s.add(i)\n",
    "        sum+=i\n",
    "print(s)"
   ]
  },
  {
   "cell_type": "code",
   "execution_count": 3,
   "id": "e3d556b9",
   "metadata": {},
   "outputs": [
    {
     "name": "stdout",
     "output_type": "stream",
     "text": [
      "['JAI', 'NITISH']\n",
      "['KUMAR', 'SINGH']\n",
      "['SINGH', 'KATARIA']\n"
     ]
    }
   ],
   "source": [
    "l1=[\"JAI KUMAR SINGH\"]\n",
    "l2=[\"NITISH SINGH KATARIA\"]\n",
    "#OUTPUT---first=[JAI,NITISH]\n",
    "#---middle=[KUMAR,SINGH]\n",
    "#---last=[\"SINGH\",KATARIA]\n",
    "#print(type(l1))\n",
    "lf=[]\n",
    "lm=[]\n",
    "ll=[]\n",
    "for i in l1:\n",
    "    #print(l1[0])\n",
    "    x=l1[0]\n",
    "    #print(type(x))\n",
    "    x1=x.split(\" \")\n",
    "    #print(x1[0])\n",
    "    lf.append(x1[0])\n",
    "    lm.append(x1[1])\n",
    "    ll.append(x1[2])\n",
    "for i in l2:\n",
    "    y=l2[0]\n",
    "    y1=y.split(\" \")\n",
    "    lf.append(y1[0])\n",
    "    lm.append(y1[1])\n",
    "    ll.append(y1[2])\n",
    "print(lf)\n",
    "print(lm)\n",
    "print(ll)"
   ]
  },
  {
   "cell_type": "code",
   "execution_count": null,
   "id": "1c739800",
   "metadata": {},
   "outputs": [],
   "source": []
  }
 ],
 "metadata": {
  "kernelspec": {
   "display_name": "Python 3 (ipykernel)",
   "language": "python",
   "name": "python3"
  },
  "language_info": {
   "codemirror_mode": {
    "name": "ipython",
    "version": 3
   },
   "file_extension": ".py",
   "mimetype": "text/x-python",
   "name": "python",
   "nbconvert_exporter": "python",
   "pygments_lexer": "ipython3",
   "version": "3.9.12"
  }
 },
 "nbformat": 4,
 "nbformat_minor": 5
}
