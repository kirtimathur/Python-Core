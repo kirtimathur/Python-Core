{
 
 "cells": [
  {
   "cell_type": "code",
   "execution_count": 1,
   "id": "30f8e5ef",
   "metadata": {},
   "outputs": [
    {
     "name": "stdout",
     "output_type": "stream",
     "text": [
      "enter a string:loving\n",
      "lovingly\n"
     ]
    }
   ],
   "source": [
    "'''Q.13 Write a Python program to add 'ing' at the end of a given string (length should be at least 3). \n",
    "If the given string already ends with 'ing' then add 'ly' instead. \n",
    "If the string length of the given string is less than 3, leave it unchanged. \n",
    "Sample String : 'abc'\n",
    "Expected Result : 'abcing'\n",
    "Sample String : 'string'\n",
    "Expected Result : 'stringly'''\n",
    "s=input(\"enter a string:\")\n",
    "l=len(s)\n",
    "for i in s:\n",
    "    if l<3:\n",
    "        print(s,\"-no change\")\n",
    "        break\n",
    "    elif s[-1:-4:-1]==\"gni\":\n",
    "        s=s+\"ly\"\n",
    "        break\n",
    "    else:\n",
    "        s=s+\"ing\"\n",
    "        break\n",
    "print(s)        "
   ]
  },
  {
   "cell_type": "code",
   "execution_count": 2,
   "id": "f45783ef",
   "metadata": {},
   "outputs": [
    {
     "name": "stdout",
     "output_type": "stream",
     "text": [
      "enter a string:string\n",
      "0 s\n",
      "1 t\n",
      "2 r\n",
      "3 i\n",
      "4 n\n",
      "5 g\n",
      "srn\n"
     ]
    }
   ],
   "source": [
    "#Q.14 Write a Python program to remove the characters which have odd index values of a given string.\n",
    "\n",
    "s=input(\"enter a string:\")#concatenate\n",
    "l=len(s)\n",
    "even=\"\"\n",
    "for i in range(l):\n",
    "    print(i,s[i])\n",
    "    if i%2==0:\n",
    "        even=even+s[i]\n",
    "print(even)\n",
    "        "
   ]
  },
  {
   "cell_type": "code",
   "execution_count": 4,
   "id": "180abffe",
   "metadata": {},
   "outputs": [
    {
     "name": "stdout",
     "output_type": "stream",
     "text": [
      "enter a string:ASking\n",
      "1\n",
      "2\n",
      "ASKING\n"
     ]
    }
   ],
   "source": [
    "#Q.15 Write a Python function to convert a given string to all uppercase if it contains at least 2 uppercase characters in \n",
    "#the first 4 characters.\n",
    "\n",
    "s=input(\"enter a string:\")\n",
    "count=0\n",
    "for i in s[0:5]:\n",
    "    if i.isupper():\n",
    "        count+=1\n",
    "        print(count)\n",
    "        if count>=2:\n",
    "            s1=s.upper()\n",
    "print(s1)   "
   ]
  },
  {
   "cell_type": "code",
   "execution_count": 5,
   "id": "f880eb7f",
   "metadata": {},
   "outputs": [
    {
     "name": "stdout",
     "output_type": "stream",
     "text": [
      "enter a string:string\n",
      "Current character s position at 0\n",
      "Current character t position at 1\n",
      "Current character r position at 2\n",
      "Current character i position at 3\n",
      "Current character n position at 4\n",
      "Current character g position at 5\n"
     ]
    }
   ],
   "source": [
    "'''Q.16 Write a Python program to print the index of the character in a string.\n",
    "Sample string: w3resource\n",
    "Expected output:\n",
    "Current character w position at 0\n",
    "Current character 3 position at 1\n",
    "Current character r position at 2\n",
    "- - - - - - - - - - - - - - - - - - - - - - - - -\n",
    "Current character c position at 8\n",
    "Current character e position at 9'''\n",
    "s=input(\"enter a string:\")\n",
    "for i in s:\n",
    "    ind=s.find(i)\n",
    "    print(\"Current character\",i,\"position at\",ind)"
   ]
  },
  {
   "cell_type": "code",
   "execution_count": 10,
   "id": "0f386884",
   "metadata": {},
   "outputs": [
    {
     "name": "stdout",
     "output_type": "stream",
     "text": [
      "enter a string:the quick brown fox jumps over the lazy dog\n",
      "the quick brown fox jumps over the lazy dog :has all the alphabets\n"
     ]
    }
   ],
   "source": [
    "#Q.17 Write a Python program to check whether a string contains all letters of the alphabet.\n",
    "\n",
    "#the quick brown fox jumps over the lazy dog\n",
    "s=input(\"enter a string:\")\n",
    "count=0\n",
    "unique=[]\n",
    "for i in s:\n",
    "    #print(i)\n",
    "    if i.isalpha():\n",
    "        count+=1\n",
    "        #print(count)\n",
    "        if i not in unique:\n",
    "            unique.append(i)\n",
    "        #print(unique)\n",
    "        #print(len(unique))\n",
    "if len(unique)==26:\n",
    "    print(s,\":has all the alphabets\")\n",
    "else:\n",
    "    print(s,\":doesn't have all the alphabets\")"
   ]
  },
  {
   "cell_type": "code",
   "execution_count": null,
   "id": "4bfe5c09",
   "metadata": {},
   "outputs": [],
   "source": []
  }
 ],
 "metadata": {
  "kernelspec": {
   "display_name": "Python 3 (ipykernel)",
   "language": "python",
   "name": "python3"
  },
  "language_info": {
   "codemirror_mode": {
    "name": "ipython",
    "version": 3
   },
   "file_extension": ".py",
   "mimetype": "text/x-python",
   "name": "python",
   "nbconvert_exporter": "python",
   "pygments_lexer": "ipython3",
   "version": "3.9.12"
  }
 },
 "nbformat": 4,
 "nbformat_minor": 5
}
