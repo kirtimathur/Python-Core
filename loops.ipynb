{
 "cells": [
  {
   "cell_type": "code",
   "execution_count": 1,
   "id": "4bcef106",
   "metadata": {},
   "outputs": [
    {
     "name": "stdout",
     "output_type": "stream",
     "text": [
      "Enter the number:5\n",
      "5 is prime\n"
     ]
    }
   ],
   "source": [
    "#take input and determine if prime\n",
    "num=int(input(\"Enter the number:\"))\n",
    "count=0\n",
    "for i in range(1,num+1):\n",
    "    if num%i==0:\n",
    "        count=count+1\n",
    "if count==2:\n",
    "    print(num,\"is prime\")\n",
    "else:\n",
    "    print(num,\"is composite\")\n",
    "    "
   ]
  },
  {
   "cell_type": "code",
   "execution_count": 3,
   "id": "dd33cdba",
   "metadata": {},
   "outputs": [
    {
     "name": "stdout",
     "output_type": "stream",
     "text": [
      "enter the number : 5\n",
      "5 * 1 = 5\n",
      "5 * 2 = 10\n",
      "5 * 3 = 15\n",
      "5 * 4 = 20\n",
      "5 * 5 = 25\n",
      "5 * 6 = 30\n",
      "5 * 7 = 35\n",
      "5 * 8 = 40\n",
      "5 * 9 = 45\n",
      "5 * 10 = 50\n"
     ]
    }
   ],
   "source": [
    "#table of number entered by user\n",
    "num=int(input(\"enter the number : \"))\n",
    "for i in range(1,11):\n",
    "    print(num ,\"*\", i ,\"=\", num*i)"
   ]
  },
  {
   "cell_type": "code",
   "execution_count": 4,
   "id": "cb30132a",
   "metadata": {},
   "outputs": [
    {
     "name": "stdout",
     "output_type": "stream",
     "text": [
      "enter the number : 9\n",
      "9 * 1 = 9\n",
      "              sqaure of 2 is   4\n",
      "9 * 3 = 27\n",
      "              sqaure of 4 is   16\n",
      "9 * 5 = 45\n",
      "              sqaure of 6 is   36\n",
      "9 * 7 = 63\n",
      "              sqaure of 8 is   64\n",
      "9 * 9 = 81\n",
      "              sqaure of 10 is   100\n"
     ]
    }
   ],
   "source": [
    "#square of even no and table of odd no\n",
    "num=int(input(\"enter the number : \"))\n",
    "for i in range(1,11):\n",
    "    if (i%2==0):\n",
    "        print(\"              sqaure of\", i,\"is  \", i*i)\n",
    "    else:\n",
    "        print(num ,\"*\", i ,\"=\", num*i)"
   ]
  },
  {
   "cell_type": "code",
   "execution_count": 6,
   "id": "1b7f4d9a",
   "metadata": {},
   "outputs": [
    {
     "name": "stdout",
     "output_type": "stream",
     "text": [
      "enter the number : 8\n",
      "8 * 10 = 80\n",
      "8 * 9 = 72\n",
      "8 * 8 = 64\n",
      "8 * 7 = 56\n",
      "8 * 6 = 48\n",
      "8 * 5 = 40\n",
      "8 * 4 = 32\n",
      "8 * 3 = 24\n",
      "8 * 2 = 16\n",
      "8 * 1 = 8\n"
     ]
    }
   ],
   "source": [
    "#table in reverse\n",
    "num=int(input(\"enter the number : \"))\n",
    "for i in range(10,0,-1):\n",
    "    print(num ,\"*\", i ,\"=\", num*i)"
   ]
  },
  {
   "cell_type": "code",
   "execution_count": 7,
   "id": "42b54924",
   "metadata": {},
   "outputs": [
    {
     "name": "stdout",
     "output_type": "stream",
     "text": [
      "the cube of 1 is 1\n",
      "the square of 2 is 4\n",
      "the cube of 3 is 27\n",
      "the square of 4 is 16\n",
      "the cube of 5 is 125\n",
      "the square of 6 is 36\n",
      "the cube of 7 is 343\n",
      "the square of 8 is 64\n",
      "the cube of 9 is 729\n",
      "the square of 10 is 100\n",
      "the cube of 11 is 1331\n",
      "the square of 12 is 144\n",
      "the cube of 13 is 2197\n",
      "the square of 14 is 196\n",
      "the cube of 15 is 3375\n",
      "the square of 16 is 256\n",
      "the cube of 17 is 4913\n",
      "the square of 18 is 324\n",
      "the cube of 19 is 6859\n",
      "the square of 20 is 400\n"
     ]
    }
   ],
   "source": [
    "#print square of even nos. and cube of odd nos.\n",
    "for i in range (1,21):\n",
    "    if i%2==0:\n",
    "        print(\"the square of\",i,\"is\",i**2)\n",
    "    else:\n",
    "        print(\"the cube of\",i,\"is\",i**3)"
   ]
  },
  {
   "cell_type": "code",
   "execution_count": 8,
   "id": "36a59f04",
   "metadata": {},
   "outputs": [
    {
     "name": "stdout",
     "output_type": "stream",
     "text": [
      "Enter the range2@6\n",
      "8\n"
     ]
    }
   ],
   "source": [
    "#using split function for taking multiple outputs\n",
    "a,b=input(\"Enter the range\").split(\"@\")\n",
    "a=int(a)\n",
    "b=int(b)\n",
    "c=a+b\n",
    "print(c)"
   ]
  },
  {
   "cell_type": "code",
   "execution_count": 9,
   "id": "4ed08f66",
   "metadata": {},
   "outputs": [
    {
     "name": "stdout",
     "output_type": "stream",
     "text": [
      "Enter a no: 19\n",
      "1 is the factor of 19\n",
      "19 is the factor of 19\n"
     ]
    }
   ],
   "source": [
    "#find factors of a no.\n",
    "x=int(input(\"Enter a no: \"))\n",
    "for i in range(1,x+1):\n",
    "    if (x%i==0):\n",
    "        print(i,\"is the factor of\",x)"
   ]
  },
  {
   "cell_type": "code",
   "execution_count": 10,
   "id": "06d4f316",
   "metadata": {},
   "outputs": [
    {
     "name": "stdout",
     "output_type": "stream",
     "text": [
      "1 neither by 5 nor by 3\n",
      "2 neither by 5 nor by 3\n",
      "12 either by 5 or 3\n",
      "23 neither by 5 nor by 3\n",
      "34 neither by 5 nor by 3\n",
      "45 div by both\n",
      "56 neither by 5 nor by 3\n",
      "55 either by 5 or 3\n"
     ]
    }
   ],
   "source": [
    "#check divisibilty with 5 and 3 in a list\n",
    "list=[1,2,12,23,34,45,56,55]\n",
    "for i in list:\n",
    "    if i%5==0 and i%3==0:\n",
    "        print(i,\"div by both\")\n",
    "    elif i%5==0 or i%3==0:\n",
    "        print(i,\"either by 5 or 3\")\n",
    "    else:\n",
    "        print(i,\"neither by 5 nor by 3\")"
   ]
  },
  {
   "cell_type": "code",
   "execution_count": 12,
   "id": "678452af",
   "metadata": {},
   "outputs": [
    {
     "name": "stdout",
     "output_type": "stream",
     "text": [
      "Enter the numbers:4,9\n",
      "39\n"
     ]
    }
   ],
   "source": [
    "#sum of all nos. in a range\n",
    "start,end=input(\"Enter the numbers:\").split(\",\")\n",
    "start=int(start)\n",
    "end=int(end)\n",
    "sum=0\n",
    "for i in range(start,end+1):\n",
    "    sum=sum+i\n",
    "print(sum)"
   ]
  },
  {
   "cell_type": "code",
   "execution_count": 13,
   "id": "253d167d",
   "metadata": {},
   "outputs": [
    {
     "name": "stdout",
     "output_type": "stream",
     "text": [
      "enter the no: 5\n",
      "factorial of 5 is 120\n"
     ]
    }
   ],
   "source": [
    "#factorial of a no.\n",
    "x=int(input(\"enter the no: \"))\n",
    "if x==0 or x==1:\n",
    "    print(\"factorial of\",x,\"is\",1)\n",
    "elif(x<0):\n",
    "    print(\"factorial of negative number cant be exist\")\n",
    "else:\n",
    "    fact=1\n",
    "    for i in range(1,x+1):\n",
    "        fact=fact*i\n",
    "print(\"factorial of\",x,\"is\",fact)"
   ]
  },
  {
   "cell_type": "code",
   "execution_count": 14,
   "id": "a62276a1",
   "metadata": {},
   "outputs": [
    {
     "name": "stdout",
     "output_type": "stream",
     "text": [
      "Enter the number:16\n",
      "16 is composite\n"
     ]
    }
   ],
   "source": [
    "#whether a no. is prime and composite  \n",
    "num=int(input(\"Enter the number:\"))\n",
    "count=0\n",
    "for i in range(1,num+1):\n",
    "    if num%i==0:\n",
    "        count=count+1\n",
    "if count==2:\n",
    "    print(i,\"is prime\")\n",
    "else:\n",
    "    print(i,\"is composite\")\n",
    "    "
   ]
  },
  {
   "cell_type": "code",
   "execution_count": 16,
   "id": "83d4da26",
   "metadata": {},
   "outputs": [
    {
     "name": "stdout",
     "output_type": "stream",
     "text": [
      "Enter the numbers: 4,6\n",
      "the table of 4 is as:\n",
      "4 * 10 =  40\n",
      "4 * 9 =  36\n",
      "4 * 8 =  32\n",
      "4 * 7 =  28\n",
      "4 * 6 =  24\n",
      "4 * 5 =  20\n",
      "4 * 4 =  16\n",
      "4 * 3 =  12\n",
      "4 * 2 =  8\n",
      "4 * 1 =  4\n",
      "the table of 5 is as:\n",
      "5 * 10 =  50\n",
      "5 * 9 =  45\n",
      "5 * 8 =  40\n",
      "5 * 7 =  35\n",
      "5 * 6 =  30\n",
      "5 * 5 =  25\n",
      "5 * 4 =  20\n",
      "5 * 3 =  15\n",
      "5 * 2 =  10\n",
      "5 * 1 =  5\n",
      "the table of 6 is as:\n",
      "6 * 10 =  60\n",
      "6 * 9 =  54\n",
      "6 * 8 =  48\n",
      "6 * 7 =  42\n",
      "6 * 6 =  36\n",
      "6 * 5 =  30\n",
      "6 * 4 =  24\n",
      "6 * 3 =  18\n",
      "6 * 2 =  12\n",
      "6 * 1 =  6\n"
     ]
    }
   ],
   "source": [
    "#wap to print the table from specified range in reverse\n",
    "x,y=input(\"Enter the numbers: \").split(\",\")\n",
    "x=int(x)\n",
    "y=int(y)\n",
    "for i in range(x,y+1):\n",
    "    print(\"the table of\",i,\"is as:\")\n",
    "    for j in range(10,0,-1): \n",
    "        print(i,\"*\",j,\"= \",i*j)"
   ]
  },
  {
   "cell_type": "code",
   "execution_count": 18,
   "id": "bab039b2",
   "metadata": {},
   "outputs": [
    {
     "name": "stdout",
     "output_type": "stream",
     "text": [
      "enter the range :2,6\n",
      "The factorial of 2 is 2\n",
      "The factorial of 3 is 6\n",
      "The factorial of 4 is 24\n",
      "The factorial of 5 is 120\n",
      "The factorial of 6 is 720\n"
     ]
    }
   ],
   "source": [
    "#compute factorial of all numbers in a range\n",
    "start,end=input(\"enter the range :\").split(\",\")\n",
    "start=int(start)\n",
    "end=int(end)\n",
    "for i in range(start, end + 1):\n",
    "        fact = 1\n",
    "        for j in range(1, i + 1):\n",
    "            fact = fact * j\n",
    "        print(\"The factorial of\",i,\"is\",fact)"
   ]
  },
  {
   "cell_type": "code",
   "execution_count": 19,
   "id": "9475f55a",
   "metadata": {},
   "outputs": [
    {
     "name": "stdout",
     "output_type": "stream",
     "text": [
      "enter range: 4,9\n",
      "4 is composite\n",
      "5 is prime\n",
      "6 is composite\n",
      "7 is prime\n",
      "8 is composite\n"
     ]
    }
   ],
   "source": [
    "#print prime and composite from a given list\n",
    "start,end=input(\"enter range: \").split(\",\")\n",
    "start=int(start)\n",
    "end=int(end)\n",
    "for i in range(start,end):\n",
    "    count=0\n",
    "    for j in range(1,i+1):\n",
    "        if i%j==0:\n",
    "            count=count+1\n",
    "    if count==2:\n",
    "        print(j,\"is prime\")\n",
    "    else:\n",
    "        print(j,\"is composite\")\n",
    "            "
   ]
  },
  {
   "cell_type": "code",
   "execution_count": 20,
   "id": "85d9796c",
   "metadata": {},
   "outputs": [
    {
     "name": "stdout",
     "output_type": "stream",
     "text": [
      "enter a list:4,19,76,0,12,6\n",
      "4 is even\n",
      "19 is odd\n",
      "76 is even\n",
      "0 is even\n",
      "12 is even\n",
      "6 is even\n"
     ]
    }
   ],
   "source": [
    "#take a list from user and determine odd and even nos.\n",
    "l=input(\"enter a list:\").split(\",\")\n",
    "for i in l:\n",
    "    i=int(i)\n",
    "    if i%2==0:\n",
    "        print(i,\"is even\")\n",
    "    else:\n",
    "        print(i,\"is odd\")"
   ]
  },
  {
   "cell_type": "code",
   "execution_count": 21,
   "id": "ed1ab277",
   "metadata": {},
   "outputs": [
    {
     "name": "stdout",
     "output_type": "stream",
     "text": [
      "enter a number: 12321\n",
      "12321\n",
      "12321 is palindrom\n"
     ]
    }
   ],
   "source": [
    "#to reverse a no. and determine if palindrome or not\n",
    "num=int(input(\"enter a number: \"))\n",
    "temp=num\n",
    "rev=0\n",
    "if num==0:\n",
    "    print(\"reverse of \",0,\"is\",0)\n",
    "while(num!=0):\n",
    "    r=num%10\n",
    "    num=num//10\n",
    "    rev=rev*10+r\n",
    "print(rev)\n",
    "if temp!=rev:\n",
    "    print(temp,\"not palindrom\")\n",
    "else:\n",
    "    print(temp,\"is palindrom\")"
   ]
  },
  {
   "cell_type": "code",
   "execution_count": 22,
   "id": "24cd5a97",
   "metadata": {},
   "outputs": [
    {
     "name": "stdout",
     "output_type": "stream",
     "text": [
      "enter a number: 2310\n",
      "0132\n",
      "2310 not palindrom\n"
     ]
    }
   ],
   "source": [
    "#string reverse\n",
    "num=int(input(\"enter a number: \"))\n",
    "rev=\"\"\n",
    "temp=num\n",
    "while(num!=0):\n",
    "    r=num%10\n",
    "    r=str(r)\n",
    "    num=num//10\n",
    "    #print(r,end=\"\")\n",
    "    rev=rev+r\n",
    "print(rev)\n",
    "#print(temp)\n",
    "if rev==str(temp):\n",
    "    print(temp,\"is palindrom\")\n",
    "else:\n",
    "    print(temp,\"not palindrom\")"
   ]
  },
  {
   "cell_type": "code",
   "execution_count": 23,
   "id": "31037b3b",
   "metadata": {},
   "outputs": [
    {
     "name": "stdout",
     "output_type": "stream",
     "text": [
      "enter a list:121,2390,67,676\n",
      "['121', '2390', '67', '676']\n",
      "121 is palindrome\n",
      "932 not palindrome\n",
      "76 not palindrome\n",
      "676 is palindrome\n"
     ]
    }
   ],
   "source": [
    "#take a list from user and display palindrome or not\n",
    "l=input(\"enter a list:\").split(\",\")\n",
    "print(l)\n",
    "for num in l:\n",
    "    num=int(num)\n",
    "    rev=0\n",
    "    temp=num\n",
    "    while(num!=0):\n",
    "        r=num%10\n",
    "        num=num//10\n",
    "        rev=rev*10+r\n",
    "    print(rev,end=\" \")\n",
    "    if rev==temp:\n",
    "        print(\"is palindrome\")\n",
    "    else:\n",
    "        print(\"not palindrome\")\n",
    "    \n"
   ]
  },
  {
   "cell_type": "code",
   "execution_count": 24,
   "id": "4e8df3b1",
   "metadata": {},
   "outputs": [
    {
     "name": "stdout",
     "output_type": "stream",
     "text": [
      "enter a number: 1234\n",
      "10\n"
     ]
    }
   ],
   "source": [
    "#wap to do sum of digits of a number\n",
    "num=int(input(\"enter a number: \"))\n",
    "sum=0\n",
    "while(num!=0):\n",
    "    r=num%10\n",
    "    num=num//10\n",
    "    sum=sum+r\n",
    "print(sum)"
   ]
  },
  {
   "cell_type": "code",
   "execution_count": 25,
   "id": "1af0bcc7",
   "metadata": {},
   "outputs": [
    {
     "name": "stdout",
     "output_type": "stream",
     "text": [
      "enter the number407\n",
      "407\n",
      "407 is armstrong number\n"
     ]
    }
   ],
   "source": [
    "#armstrong number or not like 0,1,153, 370, 371 and 407 are the Armstrong numbers.\n",
    "n=int(input(\"enter the number\"))\n",
    "sum=0\n",
    "temp=n\n",
    "while(n!=0):\n",
    "    r=n%10\n",
    "    n=n//10\n",
    "    sum=sum+r*r*r\n",
    "print(sum)\n",
    "if temp==sum:\n",
    "    print(temp,\"is armstrong number\")\n",
    "else :\n",
    "    print(temp,\"is not armstrong\")\n"
   ]
  },
  {
   "cell_type": "code",
   "execution_count": null,
   "id": "f42a6838",
   "metadata": {},
   "outputs": [],
   "source": []
  }
 ],
 "metadata": {
  "kernelspec": {
   "display_name": "Python 3 (ipykernel)",
   "language": "python",
   "name": "python3"
  },
  "language_info": {
   "codemirror_mode": {
    "name": "ipython",
    "version": 3
   },
   "file_extension": ".py",
   "mimetype": "text/x-python",
   "name": "python",
   "nbconvert_exporter": "python",
   "pygments_lexer": "ipython3",
   "version": "3.9.12"
  }
 },
 "nbformat": 4,
 "nbformat_minor": 5
}
