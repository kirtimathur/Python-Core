{
 "cells": [
  {
   "cell_type": "code",
   "execution_count": 2,
   "id": "e80914b3",
   "metadata": {},
   "outputs": [
    {
     "name": "stdout",
     "output_type": "stream",
     "text": [
      "enter a number:-9\n",
      "-9 is negative\n"
     ]
    }
   ],
   "source": [
    "#check if no. is positive or negative\n",
    "#case 4:with args and with return type\n",
    "def pos(x):\n",
    "    if x>0:\n",
    "        print(x,\"is positive\")\n",
    "    elif x<0:\n",
    "        print(x,\"is negative\")\n",
    "    else:\n",
    "        print(x,\"is zero\")\n",
    "    return x\n",
    "y=int(input(\"enter a number:\"))\n",
    "z=pos(y)"
   ]
  },
  {
   "cell_type": "code",
   "execution_count": 3,
   "id": "7dd6be3f",
   "metadata": {},
   "outputs": [
    {
     "name": "stdout",
     "output_type": "stream",
     "text": [
      "enter the no.:5\n",
      "120\n"
     ]
    }
   ],
   "source": [
    "#function for factorial of a number\n",
    "def fact(num):\n",
    "    if num==1: #terminating condition, returns 1, no calling again\n",
    "        return 1\n",
    "    else:\n",
    "        return fact(num-1)*num #fn calling itself, control goes to fn again after return\n",
    "n=int(input(\"enter the no.:\"))\n",
    "if n==0 or n==1:\n",
    "    print(\"factorial of\",n,\"is\",1)\n",
    "elif n<0:\n",
    "    print(\"factorial of neagative no. is not defined\")\n",
    "else:\n",
    "    f=fact(n)\n",
    "    print(f)"
   ]
  },
  {
   "cell_type": "code",
   "execution_count": 4,
   "id": "5bc27d82",
   "metadata": {},
   "outputs": [
    {
     "name": "stdout",
     "output_type": "stream",
     "text": [
      "enter your name: aaron\n",
      "Good Morning\n"
     ]
    }
   ],
   "source": [
    "#waf to greet people good morning whom have 'a' in their names, and hello to people whom doesn't\n",
    "def greet():\n",
    "    for i in name:\n",
    "        if i=='a':\n",
    "            print(\"Good Morning\")\n",
    "            break\n",
    "        else:\n",
    "            print(\"Hello\")\n",
    "            break\n",
    "name=input(\"enter your name: \")\n",
    "greet()"
   ]
  },
  {
   "cell_type": "code",
   "execution_count": 5,
   "id": "14559988",
   "metadata": {},
   "outputs": [
    {
     "name": "stdout",
     "output_type": "stream",
     "text": [
      "enter the number:1234\n",
      "4321"
     ]
    }
   ],
   "source": [
    "#write a function to reverse a number\n",
    "num=int(input(\"enter the number:\"))\n",
    "def reverse(num):\n",
    "    r=num%10\n",
    "    num=num//10\n",
    "    print(r,end=\"\")\n",
    "    if num>0:\n",
    "        reverse(num)\n",
    "reverse(num)"
   ]
  },
  {
   "cell_type": "code",
   "execution_count": null,
   "id": "1fd869af",
   "metadata": {},
   "outputs": [],
   "source": []
  }
 ],
 "metadata": {
  "kernelspec": {
   "display_name": "Python 3 (ipykernel)",
   "language": "python",
   "name": "python3"
  },
  "language_info": {
   "codemirror_mode": {
    "name": "ipython",
    "version": 3
   },
   "file_extension": ".py",
   "mimetype": "text/x-python",
   "name": "python",
   "nbconvert_exporter": "python",
   "pygments_lexer": "ipython3",
   "version": "3.9.12"
  }
 },
 "nbformat": 4,
 "nbformat_minor": 5
}
