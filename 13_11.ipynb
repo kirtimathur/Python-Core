{
 "cells": [
  {
   "cell_type": "code",
   "execution_count": 1,
   "id": "2d027579",
   "metadata": {},
   "outputs": [
    {
     "name": "stdout",
     "output_type": "stream",
     "text": [
      "let's hi how  ru \n"
     ]
    }
   ],
   "source": [
    "#Find Longest String in List\n",
    "import functools\n",
    "string_list = [\"hello\", \"world\", \"let's hi how  ru \", \"learn\", \"some\", \"Pythonhello\"]\n",
    "longest = functools.reduce(lambda longest, current_string: current_string if len(current_string) > len(longest) else longest,\n",
    "                           string_list, \"\")\n",
    "print(longest)"
   ]
  },
  {
   "cell_type": "code",
   "execution_count": 2,
   "id": "8d34ef02",
   "metadata": {},
   "outputs": [
    {
     "name": "stdout",
     "output_type": "stream",
     "text": [
      "enter a string:string\n",
      "1 t\n",
      "3 i\n",
      "5 g\n",
      "tig\n"
     ]
    }
   ],
   "source": [
    "#Display the characters at an odd position in string input by User.\n",
    "s=input(\"enter a string:\")#concatenate\n",
    "l=len(s)\n",
    "odd=\"\"\n",
    "for i in range(l):\n",
    "    if i%2!=0:\n",
    "        print(i,s[i])\n",
    "        odd=odd+s[i]\n",
    "print(odd)\n",
    "        "
   ]
  },
  {
   "cell_type": "code",
   "execution_count": 3,
   "id": "b287c846",
   "metadata": {},
   "outputs": [
    {
     "name": "stdout",
     "output_type": "stream",
     "text": [
      "[' ', 'document', 'imp', 'salary.txt']\n",
      "salary.txt\n"
     ]
    },
    {
     "data": {
      "text/plain": [
       "'salary'"
      ]
     },
     "execution_count": 3,
     "metadata": {},
     "output_type": "execute_result"
    }
   ],
   "source": [
    "#Extract file name in this /document/imp/salary.txt\n",
    "s=\" /document/imp/salary.txt\"\n",
    "l=s.rsplit(\"/\")\n",
    "print(l)\n",
    "print(l[3])\n",
    "x=l[3]\n",
    "x1=x.split(\".\")\n",
    "x1[0]"
   ]
  },
  {
   "cell_type": "code",
   "execution_count": 4,
   "id": "f8c9b453",
   "metadata": {},
   "outputs": [
    {
     "name": "stdout",
     "output_type": "stream",
     "text": [
      "enter a list:34,67,55,33,12,98\n",
      "['34', '67', '55', '33', '12', '98']\n",
      "('34', '67', '55', '33', '12', '98')\n"
     ]
    }
   ],
   "source": [
    "'''Write a program which accepts a sequence of comma-separated numbers from console and generate a list and a tuple which\n",
    "contains every number.\n",
    "Suppose the input is supplied to the program: 34, 67, 55, 33, 12, 98\n",
    "\n",
    "Then, the output should be:\n",
    "\n",
    "['34', '67', '55', '33', '12', '98'] and ('34', '67', '55', '33', '12', '98')'''\n",
    "\n",
    "l=input(\"enter a list:\").split(\",\")\n",
    "l1=[]\n",
    "for i in l:\n",
    "    i=str(i)\n",
    "    l1.append(i)\n",
    "print(l1)\n",
    "print(tuple(l1))"
   ]
  },
  {
   "cell_type": "code",
   "execution_count": null,
   "id": "e2a1a2cf",
   "metadata": {},
   "outputs": [],
   "source": []
  }
 ],
 "metadata": {
  "kernelspec": {
   "display_name": "Python 3 (ipykernel)",
   "language": "python",
   "name": "python3"
  },
  "language_info": {
   "codemirror_mode": {
    "name": "ipython",
    "version": 3
   },
   "file_extension": ".py",
   "mimetype": "text/x-python",
   "name": "python",
   "nbconvert_exporter": "python",
   "pygments_lexer": "ipython3",
   "version": "3.9.12"
  }
 },
 "nbformat": 4,
 "nbformat_minor": 5
}
