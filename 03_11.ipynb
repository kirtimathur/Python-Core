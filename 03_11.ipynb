{
 
 "cells": [
  {
   "cell_type": "code",
   "execution_count": 2,
   "id": "3f3d2ac1",
   "metadata": {},
   "outputs": [
    {
     "name": "stdout",
     "output_type": "stream",
     "text": [
      "enter a list:s,t,r\n",
      "['r', 't', 's']\n"
     ]
    }
   ],
   "source": [
    "#Q.8 How to reverse the List using slice\n",
    "\n",
    "l=input(\"enter a list:\").split(\",\")\n",
    "rev=[]\n",
    "for i in l:\n",
    "    rev=l[-1::-1]\n",
    "print(rev)"
   ]
  },
  {
   "cell_type": "code",
   "execution_count": 3,
   "id": "0188480e",
   "metadata": {},
   "outputs": [
    {
     "name": "stdout",
     "output_type": "stream",
     "text": [
      "enter a list:s,t,r,i,n,g\n",
      "string\n"
     ]
    },
    {
     "data": {
      "text/plain": [
       "str"
      ]
     },
     "execution_count": 3,
     "metadata": {},
     "output_type": "execute_result"
    }
   ],
   "source": [
    "#Q.10 Program to convert a list into string\n",
    "\n",
    "l=input(\"enter a list:\").split(\",\")\n",
    "s=\"\"\n",
    "for i in l:\n",
    "    s=s+i\n",
    "print(s)\n",
    "type(s)"
   ]
  },
  {
   "cell_type": "code",
   "execution_count": 4,
   "id": "81ae7389",
   "metadata": {},
   "outputs": [
    {
     "name": "stdout",
     "output_type": "stream",
     "text": [
      "enter a list:8,9,1,2,3\n",
      "enter a range:2,4\n",
      "1 is square of 1\n",
      "2 is square of 4\n",
      "3 is square of 9\n"
     ]
    }
   ],
   "source": [
    "#Q.11 How to get the square of each list element between two range\n",
    "\n",
    "l=input(\"enter a list:\").split(\",\")\n",
    "a,b=input(\"enter a range:\").split(\",\")\n",
    "a=int(a)\n",
    "b=int(b)\n",
    "l1=[]\n",
    "for i in l:\n",
    "    i=int(i)\n",
    "    for j in l[a:b+1]:\n",
    "        l1.append(j)\n",
    "        for k in l1:\n",
    "            k=int(k)\n",
    "            sq=k*k\n",
    "        print(k,\"is square of\",k*k)\n",
    "    break"
   ]
  },
  {
   "cell_type": "code",
   "execution_count": 5,
   "id": "9162d665",
   "metadata": {},
   "outputs": [
    {
     "data": {
      "text/plain": [
       "[2, 4, 6, 8]"
      ]
     },
     "execution_count": 5,
     "metadata": {},
     "output_type": "execute_result"
    }
   ],
   "source": [
    "#Q.12 How to Filter even values from a list using list comprehension\n",
    "\n",
    "l=[1,2,3,4,5,6,7,8]\n",
    "[i for i in l if i%2==0]"
   ]
  },
  {
   "cell_type": "code",
   "execution_count": null,
   "id": "4ce2df45",
   "metadata": {},
   "outputs": [],
   "source": []
  }
 ],
 "metadata": {
  "kernelspec": {
   "display_name": "Python 3 (ipykernel)",
   "language": "python",
   "name": "python3"
  },
  "language_info": {
   "codemirror_mode": {
    "name": "ipython",
    "version": 3
   },
   "file_extension": ".py",
   "mimetype": "text/x-python",
   "name": "python",
   "nbconvert_exporter": "python",
   "pygments_lexer": "ipython3",
   "version": "3.9.12"
  }
 },
 "nbformat": 4,
 "nbformat_minor": 5
}
